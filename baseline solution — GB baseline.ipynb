{
 "cells": [
  {
   "cell_type": "code",
   "execution_count": 64,
   "metadata": {},
   "outputs": [],
   "source": [
    "%config Completer.use_jedi = False\n",
    "\n",
    "import os\n",
    "import platform\n",
    "from collections import namedtuple\n",
    "import time\n",
    "\n",
    "# import tqdm\n",
    "import pandas as pd\n",
    "import numpy as np\n",
    "import sparse\n",
    "\n",
    "from sklearn.model_selection import train_test_split\n",
    "\n",
    "import torch\n",
    "from torch import nn\n",
    "from torch import optim\n",
    "import torch.nn.functional as F\n",
    "from torch.utils.data import Dataset, DataLoader\n",
    "from torch.nn.modules.loss import _Loss\n",
    "from torch.optim.lr_scheduler import _LRScheduler\n",
    "# from torchvision import transforms\n",
    "# from torchsummary import summary\n",
    "# from efficientnet_pytorch_3d import EfficientNet3D\n",
    "from my_efficientnet_pytorch_3d import EfficientNet3D\n",
    "import torchio\n",
    "\n",
    "from utils import CTDataset\n",
    "\n",
    "\n",
    "########################\n",
    "\n",
    "RUNNING_IN_KAGGLE = 'linux' in platform.platform().lower()\n",
    "IMAGE_PATH = \"../input/osic-pulmonary-fibrosis-progression/\" if RUNNING_IN_KAGGLE else 'data/'\n",
    "PROCESSED_PATH = 'FIX IT!' if RUNNING_IN_KAGGLE else 'data/processed-data/'  # TODO: fix this line\n",
    "\n",
    "dtype = torch.float32\n",
    "USE_GPU = True\n",
    "if USE_GPU and torch.cuda.is_available():\n",
    "    device = 'cuda:0'\n",
    "else:\n",
    "    device = 'cpu'\n",
    "device = torch.device(device)"
   ]
  },
  {
   "cell_type": "code",
   "execution_count": 13,
   "metadata": {},
   "outputs": [],
   "source": [
    "import itertools\n",
    "\n",
    "from tqdm.notebook import tqdm"
   ]
  },
  {
   "cell_type": "code",
   "execution_count": 3,
   "metadata": {},
   "outputs": [],
   "source": [
    "train_dataset = CTDataset(\n",
    "    f'{PROCESSED_PATH}/train',\n",
    "    f'{IMAGE_PATH}/train.csv',\n",
    "    train=True,\n",
    "    transform=transforms,\n",
    "    test_size=0.25,\n",
    "    padding_mode='edge',\n",
    "    random_state=42,\n",
    "    pad_global=False,\n",
    ")\n",
    "\n",
    "test_dataset = CTDataset(\n",
    "    f'{PROCESSED_PATH}/train',\n",
    "    f'{IMAGE_PATH}/train.csv',\n",
    "    train=False,\n",
    "    transform=transforms,\n",
    "    test_size=0.25,\n",
    "    padding_mode='edge',\n",
    "    random_state=42,\n",
    "    pad_global=False,\n",
    ")"
   ]
  },
  {
   "cell_type": "code",
   "execution_count": 41,
   "metadata": {},
   "outputs": [],
   "source": [
    "FVCs_mean, FVCs_std = 2690.479018721756, 832.5021066817238\n",
    "\n",
    "def normalize_data(data):\n",
    "    weeks, FVCs, features, masks, images = data\n",
    "\n",
    "    weeks_mean, weeks_std = 31.861846352485475, 23.240045178171002\n",
    "\n",
    "    weeks = (weeks.numpy() - weeks_mean) / weeks_std\n",
    "    FVCs = (FVCs.numpy() - FVCs_mean) / FVCs_std\n",
    "    features = features.type(dtype).numpy()\n",
    "\n",
    "    return weeks, FVCs, features"
   ]
  },
  {
   "cell_type": "code",
   "execution_count": 58,
   "metadata": {},
   "outputs": [
    {
     "data": {
      "application/vnd.jupyter.widget-view+json": {
       "model_id": "",
       "version_major": 2,
       "version_minor": 0
      },
      "text/plain": [
       "HBox(children=(FloatProgress(value=0.0, max=132.0), HTML(value='')))"
      ]
     },
     "metadata": {},
     "output_type": "display_data"
    },
    {
     "name": "stdout",
     "output_type": "stream",
     "text": [
      "\n"
     ]
    }
   ],
   "source": [
    "X_train = []\n",
    "y_train = []\n",
    "\n",
    "for data in tqdm(train_dataset):\n",
    "    weeks, FVCs, features = normalize_data(data)\n",
    "    weeks_weeks_FVCs, y_local = zip(*[([a, b, c], d) for (a, b), (c, d) in\n",
    "                                      itertools.product(zip(weeks, FVCs), zip(weeks, FVCs))])\n",
    "    features = np.tile(features, (len(weeks) ** 2, 1))\n",
    "    X_train_local = np.hstack([features, weeks_weeks_FVCs])\n",
    "\n",
    "    X_train.append(X_train_local)\n",
    "    y_train.append(np.array(y_local) * FVCs_std + FVCs_mean)\n",
    "\n",
    "X_train = np.vstack(X_train)\n",
    "y_train = np.hstack(y_train)"
   ]
  },
  {
   "cell_type": "code",
   "execution_count": 67,
   "metadata": {},
   "outputs": [],
   "source": [
    "X_train, y_train = X, y_train"
   ]
  },
  {
   "cell_type": "code",
   "execution_count": 66,
   "metadata": {},
   "outputs": [
    {
     "data": {
      "application/vnd.jupyter.widget-view+json": {
       "model_id": "35daa23ab91841bd85cf514288edad0c",
       "version_major": 2,
       "version_minor": 0
      },
      "text/plain": [
       "HBox(children=(FloatProgress(value=0.0, max=44.0), HTML(value='')))"
      ]
     },
     "metadata": {},
     "output_type": "display_data"
    },
    {
     "name": "stdout",
     "output_type": "stream",
     "text": [
      "\n"
     ]
    }
   ],
   "source": [
    "X_test = []\n",
    "y_test = []\n",
    "\n",
    "for data in tqdm(test_dataset):\n",
    "    weeks, FVCs, features = normalize_data(data)\n",
    "    weeks_weeks_FVCs, y_local = zip(*[([a, b, c], d) for (a, b), (c, d) in\n",
    "                                      itertools.product(zip(weeks, FVCs), zip(weeks, FVCs))])\n",
    "    features = np.tile(features, (len(weeks) ** 2, 1))\n",
    "    X_test_local = np.hstack([features, weeks_weeks_FVCs])\n",
    "\n",
    "    X_test.append(X_test_local)\n",
    "    y_test.append(np.array(y_local) * FVCs_std + FVCs_mean)\n",
    "\n",
    "X_test = np.vstack(X_test)\n",
    "y_test = np.hstack(y_test)"
   ]
  },
  {
   "cell_type": "code",
   "execution_count": 60,
   "metadata": {},
   "outputs": [
    {
     "data": {
      "text/plain": [
       "((15498, 15), (15498,))"
      ]
     },
     "execution_count": 60,
     "metadata": {},
     "output_type": "execute_result"
    }
   ],
   "source": [
    "X.shape, y.shape"
   ]
  },
  {
   "cell_type": "code",
   "execution_count": null,
   "metadata": {},
   "outputs": [],
   "source": []
  },
  {
   "cell_type": "code",
   "execution_count": 72,
   "metadata": {},
   "outputs": [],
   "source": [
    "def metric_laplace(y_preds, y_true, sigma=70):\n",
    "    abs_diff = np.abs(y_preds - y_true)\n",
    "    abs_diff = np.clip(abs_diff, 0, 1000)\n",
    "    sigma = np.clip(sigma, 0, 70)\n",
    "    metrics = np.sqrt(2) * abs_diff / sigma + np.log(sigma) + np.log(2) / 2\n",
    "    return metrics.mean()"
   ]
  },
  {
   "cell_type": "code",
   "execution_count": null,
   "metadata": {},
   "outputs": [],
   "source": []
  },
  {
   "cell_type": "code",
   "execution_count": 62,
   "metadata": {},
   "outputs": [],
   "source": [
    "from sklearn.linear_model import Lasso, Ridge\n",
    "from sklearn.ensemble import GradientBoostingRegressor\n",
    "from sklearn.ensemble import RandomForestRegressor"
   ]
  },
  {
   "cell_type": "code",
   "execution_count": 81,
   "metadata": {},
   "outputs": [
    {
     "data": {
      "text/plain": [
       "(7.700430138672375, 7.642074328549873)"
      ]
     },
     "execution_count": 81,
     "metadata": {},
     "output_type": "execute_result"
    }
   ],
   "source": [
    "lasso = Lasso(alpha=1e-2)\n",
    "lasso.fit(X_train, y_train)\n",
    "lasso_preds = lasso.predict(X_test)\n",
    "lasso_train_preds = lasso.predict(X_train)\n",
    "metric_laplace(lasso_train_preds, y_train), metric_laplace(lasso_preds, y_test)"
   ]
  },
  {
   "cell_type": "code",
   "execution_count": 81,
   "metadata": {},
   "outputs": [
    {
     "data": {
      "text/plain": [
       "(7.700430138672375, 7.642074328549873)"
      ]
     },
     "execution_count": 81,
     "metadata": {},
     "output_type": "execute_result"
    }
   ],
   "source": [
    "ridge = Ridge(alpha=1e-2)\n",
    "ridge.fit(X_train, y_train)\n",
    "ridge_preds = ridge.predict(X_test)\n",
    "ridge_train_preds = ridge.predict(X_train)\n",
    "metric_laplace(ridge_train_preds, y_train), metric_laplace(ridge_preds, y_test)"
   ]
  },
  {
   "cell_type": "code",
   "execution_count": null,
   "metadata": {},
   "outputs": [],
   "source": []
  },
  {
   "cell_type": "code",
   "execution_count": 82,
   "metadata": {},
   "outputs": [
    {
     "name": "stdout",
     "output_type": "stream",
     "text": [
      "      Iter       Train Loss      OOB Improve   Remaining Time \n",
      "         1      266261.5457       52377.5982           10.02s\n",
      "         2      228689.1850       46294.3019            9.50s\n",
      "         3      188641.0147       37361.1874            8.97s\n",
      "         4      162826.4940       30742.2041            8.72s\n",
      "         5      135726.9044       25016.0284            8.76s\n",
      "         6      118304.6997       20005.2057            8.61s\n",
      "         7      101257.3374       16196.7410            8.52s\n",
      "         8       83887.1447       13434.5286            8.56s\n",
      "         9       75522.3624       11384.1294            8.48s\n",
      "        10       64968.0237        8821.7945            8.42s\n",
      "        20       27288.6207        1598.4531            8.09s\n",
      "        30       21247.2311         296.7783            7.99s\n",
      "        40       18755.8008         139.5506            7.97s\n",
      "        50       17475.1245          88.5543            7.90s\n",
      "        60       16739.0639          65.6132            7.86s\n",
      "        70       16532.6131          20.7640            7.77s\n",
      "        80       15266.4708          32.7789            7.67s\n",
      "        90       15103.6350          21.1507            7.58s\n",
      "       100       14671.8464          19.8840            7.50s\n",
      "       200       13133.0368          13.6408            6.74s\n",
      "       300       11061.7255           5.4587            5.90s\n",
      "       400       10355.4257           8.3989            5.05s\n",
      "       500        9385.5176           1.1853            4.20s\n",
      "       600        8329.2236           3.5491            3.36s\n",
      "       700        7539.9245           3.7486            2.51s\n",
      "       800        7025.3622           5.2074            1.68s\n",
      "       900        6065.4849          -0.7385            0.84s\n",
      "      1000        5711.6410           3.1584            0.00s\n"
     ]
    },
    {
     "data": {
      "text/plain": [
       "(6.24474639550477, 9.091413952263828)"
      ]
     },
     "execution_count": 82,
     "metadata": {},
     "output_type": "execute_result"
    }
   ],
   "source": [
    "gb = GradientBoostingRegressor(loss='huber', n_estimators=1000, subsample=0.3, verbose=1)\n",
    "gb.fit(X_train, y_train)\n",
    "gb_preds = gb.predict(X_test)\n",
    "gb_train_preds = gb.predict(X_train)\n",
    "metric_laplace(gb_train_preds, y_train), metric_laplace(gb_preds, y_test)"
   ]
  },
  {
   "cell_type": "code",
   "execution_count": null,
   "metadata": {},
   "outputs": [],
   "source": []
  },
  {
   "cell_type": "code",
   "execution_count": 85,
   "metadata": {},
   "outputs": [],
   "source": [
    "import xgboost as xgb\n",
    "from xgboost import XGBRegressor"
   ]
  },
  {
   "cell_type": "code",
   "execution_count": 98,
   "metadata": {},
   "outputs": [],
   "source": [
    "def rmsle(predt: np.ndarray, dtrain: xgb.DMatrix) -> Tuple[str, float]:\n",
    "    ''' Root mean squared log error metric.'''\n",
    "    y = dtrain.get_label()\n",
    "    predt[predt < -1] = -1 + 1e-6\n",
    "    elements = np.power(np.log1p(y) - np.log1p(predt), 2)\n",
    "    return 'PyRMSLE', float(np.sqrt(np.sum(elements) / len(y)))"
   ]
  },
  {
   "cell_type": "code",
   "execution_count": 105,
   "metadata": {},
   "outputs": [],
   "source": [
    "def xgb_laplace_metric(predt: np.ndarray, dtrain: xgb.DMatrix):\n",
    "    ''' '''\n",
    "    y = dtrain.get_label()\n",
    "    return 'PyLoss', metric_laplace(predt, y)\n",
    "#     elements = np.power(np.log1p(y) - np.log1p(predt), 2)\n",
    "#     return 'PyRMSLE', float(np.sqrt(np.sum(elements) / len(y)))"
   ]
  },
  {
   "cell_type": "code",
   "execution_count": null,
   "metadata": {},
   "outputs": [],
   "source": [
    "xgb.train()"
   ]
  },
  {
   "cell_type": "code",
   "execution_count": 117,
   "metadata": {
    "collapsed": true
   },
   "outputs": [
    {
     "name": "stdout",
     "output_type": "stream",
     "text": [
      "[0]\tvalidation_0-rmse:2111.60205\tvalidation_1-rmse:1524.32483\tvalidation_0-PyLoss:24.29833\tvalidation_1-PyLoss:24.79812\n",
      "[1]\tvalidation_0-rmse:1706.86609\tvalidation_1-rmse:1080.42285\tvalidation_0-PyLoss:22.57537\tvalidation_1-PyLoss:23.61615\n",
      "[2]\tvalidation_0-rmse:1428.75464\tvalidation_1-rmse:767.67883\tvalidation_0-PyLoss:20.25315\tvalidation_1-PyLoss:19.75658\n",
      "[3]\tvalidation_0-rmse:1249.28503\tvalidation_1-rmse:547.06921\tvalidation_0-PyLoss:18.63108\tvalidation_1-PyLoss:15.38518\n",
      "[4]\tvalidation_0-rmse:1133.64917\tvalidation_1-rmse:389.93881\tvalidation_0-PyLoss:17.40064\tvalidation_1-PyLoss:12.24748\n",
      "[5]\tvalidation_0-rmse:1058.64880\tvalidation_1-rmse:278.43893\tvalidation_0-PyLoss:16.69946\tvalidation_1-PyLoss:10.04205\n",
      "[6]\tvalidation_0-rmse:1009.09522\tvalidation_1-rmse:199.13901\tvalidation_0-PyLoss:16.35030\tvalidation_1-PyLoss:8.47372\n",
      "[7]\tvalidation_0-rmse:976.50977\tvalidation_1-rmse:142.47481\tvalidation_0-PyLoss:16.13661\tvalidation_1-PyLoss:7.36444\n",
      "[8]\tvalidation_0-rmse:955.02954\tvalidation_1-rmse:102.07356\tvalidation_0-PyLoss:16.00839\tvalidation_1-PyLoss:6.57268\n",
      "[9]\tvalidation_0-rmse:940.37164\tvalidation_1-rmse:73.32114\tvalidation_0-PyLoss:15.92105\tvalidation_1-PyLoss:6.00432\n",
      "[10]\tvalidation_0-rmse:930.69806\tvalidation_1-rmse:52.91277\tvalidation_0-PyLoss:15.87300\tvalidation_1-PyLoss:5.59549\n",
      "[11]\tvalidation_0-rmse:924.13672\tvalidation_1-rmse:38.18836\tvalidation_0-PyLoss:15.84034\tvalidation_1-PyLoss:5.31151\n",
      "[12]\tvalidation_0-rmse:919.67590\tvalidation_1-rmse:27.61399\tvalidation_0-PyLoss:15.81984\tvalidation_1-PyLoss:5.10989\n",
      "[13]\tvalidation_0-rmse:916.43396\tvalidation_1-rmse:20.10581\tvalidation_0-PyLoss:15.80503\tvalidation_1-PyLoss:4.96514\n",
      "[14]\tvalidation_0-rmse:914.26666\tvalidation_1-rmse:14.51442\tvalidation_0-PyLoss:15.79667\tvalidation_1-PyLoss:4.86183\n",
      "[15]\tvalidation_0-rmse:912.72571\tvalidation_1-rmse:10.49174\tvalidation_0-PyLoss:15.79112\tvalidation_1-PyLoss:4.78738\n",
      "[16]\tvalidation_0-rmse:911.59631\tvalidation_1-rmse:7.65244\tvalidation_0-PyLoss:15.78780\tvalidation_1-PyLoss:4.73344\n",
      "[17]\tvalidation_0-rmse:910.82678\tvalidation_1-rmse:5.54981\tvalidation_0-PyLoss:15.78527\tvalidation_1-PyLoss:4.69513\n",
      "[18]\tvalidation_0-rmse:910.27142\tvalidation_1-rmse:4.06189\tvalidation_0-PyLoss:15.78366\tvalidation_1-PyLoss:4.66697\n",
      "[19]\tvalidation_0-rmse:909.87543\tvalidation_1-rmse:2.95028\tvalidation_0-PyLoss:15.78241\tvalidation_1-PyLoss:4.64705\n",
      "[20]\tvalidation_0-rmse:909.59430\tvalidation_1-rmse:2.17374\tvalidation_0-PyLoss:15.78160\tvalidation_1-PyLoss:4.63249\n",
      "[21]\tvalidation_0-rmse:909.37634\tvalidation_1-rmse:1.60615\tvalidation_0-PyLoss:15.78074\tvalidation_1-PyLoss:4.62212\n",
      "[22]\tvalidation_0-rmse:909.21991\tvalidation_1-rmse:1.20663\tvalidation_0-PyLoss:15.78012\tvalidation_1-PyLoss:4.61554\n",
      "[23]\tvalidation_0-rmse:909.11328\tvalidation_1-rmse:0.90476\tvalidation_0-PyLoss:15.77984\tvalidation_1-PyLoss:4.61038\n",
      "[24]\tvalidation_0-rmse:909.04236\tvalidation_1-rmse:0.65764\tvalidation_0-PyLoss:15.77964\tvalidation_1-PyLoss:4.60619\n",
      "[25]\tvalidation_0-rmse:908.99109\tvalidation_1-rmse:0.47806\tvalidation_0-PyLoss:15.77951\tvalidation_1-PyLoss:4.60315\n",
      "[26]\tvalidation_0-rmse:908.95422\tvalidation_1-rmse:0.34756\tvalidation_0-PyLoss:15.77941\tvalidation_1-PyLoss:4.60094\n",
      "[27]\tvalidation_0-rmse:908.92731\tvalidation_1-rmse:0.25271\tvalidation_0-PyLoss:15.77933\tvalidation_1-PyLoss:4.59933\n",
      "[28]\tvalidation_0-rmse:908.90753\tvalidation_1-rmse:0.18382\tvalidation_0-PyLoss:15.77928\tvalidation_1-PyLoss:4.59817\n",
      "[29]\tvalidation_0-rmse:908.89331\tvalidation_1-rmse:0.13368\tvalidation_0-PyLoss:15.77924\tvalidation_1-PyLoss:4.59732\n",
      "[30]\tvalidation_0-rmse:908.88367\tvalidation_1-rmse:0.09729\tvalidation_0-PyLoss:15.77921\tvalidation_1-PyLoss:4.59671\n",
      "[31]\tvalidation_0-rmse:908.87622\tvalidation_1-rmse:0.07079\tvalidation_0-PyLoss:15.77919\tvalidation_1-PyLoss:4.59626\n",
      "[32]\tvalidation_0-rmse:908.87109\tvalidation_1-rmse:0.05150\tvalidation_0-PyLoss:15.77918\tvalidation_1-PyLoss:4.59593\n",
      "[33]\tvalidation_0-rmse:908.86780\tvalidation_1-rmse:0.03747\tvalidation_0-PyLoss:15.77917\tvalidation_1-PyLoss:4.59570\n",
      "[34]\tvalidation_0-rmse:908.86456\tvalidation_1-rmse:0.02728\tvalidation_0-PyLoss:15.77916\tvalidation_1-PyLoss:4.59553\n",
      "[35]\tvalidation_0-rmse:908.86249\tvalidation_1-rmse:0.01983\tvalidation_0-PyLoss:15.77915\tvalidation_1-PyLoss:4.59540\n",
      "[36]\tvalidation_0-rmse:908.86096\tvalidation_1-rmse:0.01497\tvalidation_0-PyLoss:15.77915\tvalidation_1-PyLoss:4.59531\n",
      "[37]\tvalidation_0-rmse:908.85986\tvalidation_1-rmse:0.01088\tvalidation_0-PyLoss:15.77914\tvalidation_1-PyLoss:4.59525\n",
      "[38]\tvalidation_0-rmse:908.85901\tvalidation_1-rmse:0.00796\tvalidation_0-PyLoss:15.77914\tvalidation_1-PyLoss:4.59520\n",
      "[39]\tvalidation_0-rmse:908.85834\tvalidation_1-rmse:0.00581\tvalidation_0-PyLoss:15.77914\tvalidation_1-PyLoss:4.59516\n",
      "[40]\tvalidation_0-rmse:908.85791\tvalidation_1-rmse:0.00427\tvalidation_0-PyLoss:15.77914\tvalidation_1-PyLoss:4.59514\n",
      "[41]\tvalidation_0-rmse:908.85761\tvalidation_1-rmse:0.00310\tvalidation_0-PyLoss:15.77914\tvalidation_1-PyLoss:4.59512\n",
      "[42]\tvalidation_0-rmse:908.85736\tvalidation_1-rmse:0.00226\tvalidation_0-PyLoss:15.77914\tvalidation_1-PyLoss:4.59511\n",
      "[43]\tvalidation_0-rmse:908.85736\tvalidation_1-rmse:0.00162\tvalidation_0-PyLoss:15.77914\tvalidation_1-PyLoss:4.59510\n",
      "[44]\tvalidation_0-rmse:908.85736\tvalidation_1-rmse:0.00120\tvalidation_0-PyLoss:15.77914\tvalidation_1-PyLoss:4.59509\n",
      "[45]\tvalidation_0-rmse:908.85736\tvalidation_1-rmse:0.00088\tvalidation_0-PyLoss:15.77914\tvalidation_1-PyLoss:4.59508\n",
      "[46]\tvalidation_0-rmse:908.85736\tvalidation_1-rmse:0.00065\tvalidation_0-PyLoss:15.77914\tvalidation_1-PyLoss:4.59508\n",
      "[47]\tvalidation_0-rmse:908.85748\tvalidation_1-rmse:0.00059\tvalidation_0-PyLoss:15.77914\tvalidation_1-PyLoss:4.59508\n",
      "[48]\tvalidation_0-rmse:908.85748\tvalidation_1-rmse:0.00044\tvalidation_0-PyLoss:15.77914\tvalidation_1-PyLoss:4.59508\n",
      "[49]\tvalidation_0-rmse:908.85730\tvalidation_1-rmse:0.00045\tvalidation_0-PyLoss:15.77914\tvalidation_1-PyLoss:4.59508\n",
      "[50]\tvalidation_0-rmse:908.85736\tvalidation_1-rmse:0.00040\tvalidation_0-PyLoss:15.77914\tvalidation_1-PyLoss:4.59508\n",
      "[51]\tvalidation_0-rmse:908.85736\tvalidation_1-rmse:0.00040\tvalidation_0-PyLoss:15.77914\tvalidation_1-PyLoss:4.59508\n",
      "[52]\tvalidation_0-rmse:908.85736\tvalidation_1-rmse:0.00040\tvalidation_0-PyLoss:15.77914\tvalidation_1-PyLoss:4.59508\n",
      "[53]\tvalidation_0-rmse:908.85736\tvalidation_1-rmse:0.00040\tvalidation_0-PyLoss:15.77914\tvalidation_1-PyLoss:4.59508\n",
      "[54]\tvalidation_0-rmse:908.85736\tvalidation_1-rmse:0.00040\tvalidation_0-PyLoss:15.77914\tvalidation_1-PyLoss:4.59508\n",
      "[55]\tvalidation_0-rmse:908.85736\tvalidation_1-rmse:0.00040\tvalidation_0-PyLoss:15.77914\tvalidation_1-PyLoss:4.59508\n",
      "[56]\tvalidation_0-rmse:908.85736\tvalidation_1-rmse:0.00040\tvalidation_0-PyLoss:15.77914\tvalidation_1-PyLoss:4.59508\n",
      "[57]\tvalidation_0-rmse:908.85736\tvalidation_1-rmse:0.00040\tvalidation_0-PyLoss:15.77914\tvalidation_1-PyLoss:4.59508\n",
      "[58]\tvalidation_0-rmse:908.85736\tvalidation_1-rmse:0.00040\tvalidation_0-PyLoss:15.77914\tvalidation_1-PyLoss:4.59508\n",
      "[59]\tvalidation_0-rmse:908.85736\tvalidation_1-rmse:0.00040\tvalidation_0-PyLoss:15.77914\tvalidation_1-PyLoss:4.59508\n",
      "[60]\tvalidation_0-rmse:908.85736\tvalidation_1-rmse:0.00040\tvalidation_0-PyLoss:15.77914\tvalidation_1-PyLoss:4.59508\n",
      "[61]\tvalidation_0-rmse:908.85736\tvalidation_1-rmse:0.00040\tvalidation_0-PyLoss:15.77914\tvalidation_1-PyLoss:4.59508\n",
      "[62]\tvalidation_0-rmse:908.85736\tvalidation_1-rmse:0.00040\tvalidation_0-PyLoss:15.77914\tvalidation_1-PyLoss:4.59508\n",
      "[63]\tvalidation_0-rmse:908.85736\tvalidation_1-rmse:0.00040\tvalidation_0-PyLoss:15.77914\tvalidation_1-PyLoss:4.59508\n",
      "[64]\tvalidation_0-rmse:908.85736\tvalidation_1-rmse:0.00040\tvalidation_0-PyLoss:15.77914\tvalidation_1-PyLoss:4.59508\n",
      "[65]\tvalidation_0-rmse:908.85736\tvalidation_1-rmse:0.00040\tvalidation_0-PyLoss:15.77914\tvalidation_1-PyLoss:4.59508\n",
      "[66]\tvalidation_0-rmse:908.85736\tvalidation_1-rmse:0.00040\tvalidation_0-PyLoss:15.77914\tvalidation_1-PyLoss:4.59508\n",
      "[67]\tvalidation_0-rmse:908.85736\tvalidation_1-rmse:0.00040\tvalidation_0-PyLoss:15.77914\tvalidation_1-PyLoss:4.59508\n",
      "[68]\tvalidation_0-rmse:908.85736\tvalidation_1-rmse:0.00040\tvalidation_0-PyLoss:15.77914\tvalidation_1-PyLoss:4.59508\n",
      "[69]\tvalidation_0-rmse:908.85736\tvalidation_1-rmse:0.00040\tvalidation_0-PyLoss:15.77914\tvalidation_1-PyLoss:4.59508\n",
      "[70]\tvalidation_0-rmse:908.85736\tvalidation_1-rmse:0.00040\tvalidation_0-PyLoss:15.77914\tvalidation_1-PyLoss:4.59508\n"
     ]
    },
    {
     "name": "stdout",
     "output_type": "stream",
     "text": [
      "[71]\tvalidation_0-rmse:908.85736\tvalidation_1-rmse:0.00040\tvalidation_0-PyLoss:15.77914\tvalidation_1-PyLoss:4.59508\n",
      "[72]\tvalidation_0-rmse:908.85736\tvalidation_1-rmse:0.00040\tvalidation_0-PyLoss:15.77914\tvalidation_1-PyLoss:4.59508\n",
      "[73]\tvalidation_0-rmse:908.85736\tvalidation_1-rmse:0.00040\tvalidation_0-PyLoss:15.77914\tvalidation_1-PyLoss:4.59508\n",
      "[74]\tvalidation_0-rmse:908.85736\tvalidation_1-rmse:0.00040\tvalidation_0-PyLoss:15.77914\tvalidation_1-PyLoss:4.59508\n",
      "[75]\tvalidation_0-rmse:908.85736\tvalidation_1-rmse:0.00040\tvalidation_0-PyLoss:15.77914\tvalidation_1-PyLoss:4.59508\n",
      "[76]\tvalidation_0-rmse:908.85736\tvalidation_1-rmse:0.00040\tvalidation_0-PyLoss:15.77914\tvalidation_1-PyLoss:4.59508\n",
      "[77]\tvalidation_0-rmse:908.85736\tvalidation_1-rmse:0.00040\tvalidation_0-PyLoss:15.77914\tvalidation_1-PyLoss:4.59508\n",
      "[78]\tvalidation_0-rmse:908.85736\tvalidation_1-rmse:0.00040\tvalidation_0-PyLoss:15.77914\tvalidation_1-PyLoss:4.59508\n",
      "[79]\tvalidation_0-rmse:908.85736\tvalidation_1-rmse:0.00040\tvalidation_0-PyLoss:15.77914\tvalidation_1-PyLoss:4.59508\n",
      "[80]\tvalidation_0-rmse:908.85736\tvalidation_1-rmse:0.00040\tvalidation_0-PyLoss:15.77914\tvalidation_1-PyLoss:4.59508\n",
      "[81]\tvalidation_0-rmse:908.85736\tvalidation_1-rmse:0.00040\tvalidation_0-PyLoss:15.77914\tvalidation_1-PyLoss:4.59508\n",
      "[82]\tvalidation_0-rmse:908.85736\tvalidation_1-rmse:0.00040\tvalidation_0-PyLoss:15.77914\tvalidation_1-PyLoss:4.59508\n",
      "[83]\tvalidation_0-rmse:908.85736\tvalidation_1-rmse:0.00040\tvalidation_0-PyLoss:15.77914\tvalidation_1-PyLoss:4.59508\n",
      "[84]\tvalidation_0-rmse:908.85736\tvalidation_1-rmse:0.00040\tvalidation_0-PyLoss:15.77914\tvalidation_1-PyLoss:4.59508\n",
      "[85]\tvalidation_0-rmse:908.85736\tvalidation_1-rmse:0.00040\tvalidation_0-PyLoss:15.77914\tvalidation_1-PyLoss:4.59508\n",
      "[86]\tvalidation_0-rmse:908.85736\tvalidation_1-rmse:0.00040\tvalidation_0-PyLoss:15.77914\tvalidation_1-PyLoss:4.59508\n",
      "[87]\tvalidation_0-rmse:908.85736\tvalidation_1-rmse:0.00040\tvalidation_0-PyLoss:15.77914\tvalidation_1-PyLoss:4.59508\n",
      "[88]\tvalidation_0-rmse:908.85736\tvalidation_1-rmse:0.00040\tvalidation_0-PyLoss:15.77914\tvalidation_1-PyLoss:4.59508\n",
      "[89]\tvalidation_0-rmse:908.85736\tvalidation_1-rmse:0.00040\tvalidation_0-PyLoss:15.77914\tvalidation_1-PyLoss:4.59508\n",
      "[90]\tvalidation_0-rmse:908.85736\tvalidation_1-rmse:0.00040\tvalidation_0-PyLoss:15.77914\tvalidation_1-PyLoss:4.59508\n",
      "[91]\tvalidation_0-rmse:908.85736\tvalidation_1-rmse:0.00040\tvalidation_0-PyLoss:15.77914\tvalidation_1-PyLoss:4.59508\n",
      "[92]\tvalidation_0-rmse:908.85736\tvalidation_1-rmse:0.00040\tvalidation_0-PyLoss:15.77914\tvalidation_1-PyLoss:4.59508\n",
      "[93]\tvalidation_0-rmse:908.85736\tvalidation_1-rmse:0.00040\tvalidation_0-PyLoss:15.77914\tvalidation_1-PyLoss:4.59508\n",
      "[94]\tvalidation_0-rmse:908.85736\tvalidation_1-rmse:0.00040\tvalidation_0-PyLoss:15.77914\tvalidation_1-PyLoss:4.59508\n",
      "[95]\tvalidation_0-rmse:908.85736\tvalidation_1-rmse:0.00040\tvalidation_0-PyLoss:15.77914\tvalidation_1-PyLoss:4.59508\n",
      "[96]\tvalidation_0-rmse:908.85736\tvalidation_1-rmse:0.00040\tvalidation_0-PyLoss:15.77914\tvalidation_1-PyLoss:4.59508\n",
      "[97]\tvalidation_0-rmse:908.85736\tvalidation_1-rmse:0.00040\tvalidation_0-PyLoss:15.77914\tvalidation_1-PyLoss:4.59508\n",
      "[98]\tvalidation_0-rmse:908.85736\tvalidation_1-rmse:0.00040\tvalidation_0-PyLoss:15.77914\tvalidation_1-PyLoss:4.59508\n",
      "[99]\tvalidation_0-rmse:908.85736\tvalidation_1-rmse:0.00040\tvalidation_0-PyLoss:15.77914\tvalidation_1-PyLoss:4.59508\n",
      "[100]\tvalidation_0-rmse:908.85736\tvalidation_1-rmse:0.00040\tvalidation_0-PyLoss:15.77914\tvalidation_1-PyLoss:4.59508\n",
      "[101]\tvalidation_0-rmse:908.85736\tvalidation_1-rmse:0.00040\tvalidation_0-PyLoss:15.77914\tvalidation_1-PyLoss:4.59508\n",
      "[102]\tvalidation_0-rmse:908.85736\tvalidation_1-rmse:0.00040\tvalidation_0-PyLoss:15.77914\tvalidation_1-PyLoss:4.59508\n",
      "[103]\tvalidation_0-rmse:908.85736\tvalidation_1-rmse:0.00040\tvalidation_0-PyLoss:15.77914\tvalidation_1-PyLoss:4.59508\n",
      "[104]\tvalidation_0-rmse:908.85736\tvalidation_1-rmse:0.00040\tvalidation_0-PyLoss:15.77914\tvalidation_1-PyLoss:4.59508\n",
      "[105]\tvalidation_0-rmse:908.85736\tvalidation_1-rmse:0.00040\tvalidation_0-PyLoss:15.77914\tvalidation_1-PyLoss:4.59508\n",
      "[106]\tvalidation_0-rmse:908.85736\tvalidation_1-rmse:0.00040\tvalidation_0-PyLoss:15.77914\tvalidation_1-PyLoss:4.59508\n",
      "[107]\tvalidation_0-rmse:908.85736\tvalidation_1-rmse:0.00040\tvalidation_0-PyLoss:15.77914\tvalidation_1-PyLoss:4.59508\n",
      "[108]\tvalidation_0-rmse:908.85736\tvalidation_1-rmse:0.00040\tvalidation_0-PyLoss:15.77914\tvalidation_1-PyLoss:4.59508\n",
      "[109]\tvalidation_0-rmse:908.85736\tvalidation_1-rmse:0.00040\tvalidation_0-PyLoss:15.77914\tvalidation_1-PyLoss:4.59508\n",
      "[110]\tvalidation_0-rmse:908.85736\tvalidation_1-rmse:0.00040\tvalidation_0-PyLoss:15.77914\tvalidation_1-PyLoss:4.59508\n",
      "[111]\tvalidation_0-rmse:908.85736\tvalidation_1-rmse:0.00040\tvalidation_0-PyLoss:15.77914\tvalidation_1-PyLoss:4.59508\n",
      "[112]\tvalidation_0-rmse:908.85736\tvalidation_1-rmse:0.00040\tvalidation_0-PyLoss:15.77914\tvalidation_1-PyLoss:4.59508\n",
      "[113]\tvalidation_0-rmse:908.85736\tvalidation_1-rmse:0.00040\tvalidation_0-PyLoss:15.77914\tvalidation_1-PyLoss:4.59508\n",
      "[114]\tvalidation_0-rmse:908.85736\tvalidation_1-rmse:0.00040\tvalidation_0-PyLoss:15.77914\tvalidation_1-PyLoss:4.59508\n",
      "[115]\tvalidation_0-rmse:908.85736\tvalidation_1-rmse:0.00040\tvalidation_0-PyLoss:15.77914\tvalidation_1-PyLoss:4.59508\n",
      "[116]\tvalidation_0-rmse:908.85736\tvalidation_1-rmse:0.00040\tvalidation_0-PyLoss:15.77914\tvalidation_1-PyLoss:4.59508\n",
      "[117]\tvalidation_0-rmse:908.85736\tvalidation_1-rmse:0.00040\tvalidation_0-PyLoss:15.77914\tvalidation_1-PyLoss:4.59508\n",
      "[118]\tvalidation_0-rmse:908.85736\tvalidation_1-rmse:0.00040\tvalidation_0-PyLoss:15.77914\tvalidation_1-PyLoss:4.59508\n",
      "[119]\tvalidation_0-rmse:908.85736\tvalidation_1-rmse:0.00040\tvalidation_0-PyLoss:15.77914\tvalidation_1-PyLoss:4.59508\n",
      "[120]\tvalidation_0-rmse:908.85736\tvalidation_1-rmse:0.00040\tvalidation_0-PyLoss:15.77914\tvalidation_1-PyLoss:4.59508\n",
      "[121]\tvalidation_0-rmse:908.85736\tvalidation_1-rmse:0.00040\tvalidation_0-PyLoss:15.77914\tvalidation_1-PyLoss:4.59508\n",
      "[122]\tvalidation_0-rmse:908.85736\tvalidation_1-rmse:0.00040\tvalidation_0-PyLoss:15.77914\tvalidation_1-PyLoss:4.59508\n",
      "[123]\tvalidation_0-rmse:908.85736\tvalidation_1-rmse:0.00040\tvalidation_0-PyLoss:15.77914\tvalidation_1-PyLoss:4.59508\n",
      "[124]\tvalidation_0-rmse:908.85736\tvalidation_1-rmse:0.00040\tvalidation_0-PyLoss:15.77914\tvalidation_1-PyLoss:4.59508\n",
      "[125]\tvalidation_0-rmse:908.85736\tvalidation_1-rmse:0.00040\tvalidation_0-PyLoss:15.77914\tvalidation_1-PyLoss:4.59508\n",
      "[126]\tvalidation_0-rmse:908.85736\tvalidation_1-rmse:0.00040\tvalidation_0-PyLoss:15.77914\tvalidation_1-PyLoss:4.59508\n",
      "[127]\tvalidation_0-rmse:908.85736\tvalidation_1-rmse:0.00040\tvalidation_0-PyLoss:15.77914\tvalidation_1-PyLoss:4.59508\n",
      "[128]\tvalidation_0-rmse:908.85736\tvalidation_1-rmse:0.00040\tvalidation_0-PyLoss:15.77914\tvalidation_1-PyLoss:4.59508\n",
      "[129]\tvalidation_0-rmse:908.85736\tvalidation_1-rmse:0.00040\tvalidation_0-PyLoss:15.77914\tvalidation_1-PyLoss:4.59508\n",
      "[130]\tvalidation_0-rmse:908.85736\tvalidation_1-rmse:0.00040\tvalidation_0-PyLoss:15.77914\tvalidation_1-PyLoss:4.59508\n",
      "[131]\tvalidation_0-rmse:908.85736\tvalidation_1-rmse:0.00040\tvalidation_0-PyLoss:15.77914\tvalidation_1-PyLoss:4.59508\n",
      "[132]\tvalidation_0-rmse:908.85736\tvalidation_1-rmse:0.00040\tvalidation_0-PyLoss:15.77914\tvalidation_1-PyLoss:4.59508\n",
      "[133]\tvalidation_0-rmse:908.85736\tvalidation_1-rmse:0.00040\tvalidation_0-PyLoss:15.77914\tvalidation_1-PyLoss:4.59508\n",
      "[134]\tvalidation_0-rmse:908.85736\tvalidation_1-rmse:0.00040\tvalidation_0-PyLoss:15.77914\tvalidation_1-PyLoss:4.59508\n",
      "[135]\tvalidation_0-rmse:908.85736\tvalidation_1-rmse:0.00040\tvalidation_0-PyLoss:15.77914\tvalidation_1-PyLoss:4.59508\n",
      "[136]\tvalidation_0-rmse:908.85736\tvalidation_1-rmse:0.00040\tvalidation_0-PyLoss:15.77914\tvalidation_1-PyLoss:4.59508\n",
      "[137]\tvalidation_0-rmse:908.85736\tvalidation_1-rmse:0.00040\tvalidation_0-PyLoss:15.77914\tvalidation_1-PyLoss:4.59508\n",
      "[138]\tvalidation_0-rmse:908.85736\tvalidation_1-rmse:0.00040\tvalidation_0-PyLoss:15.77914\tvalidation_1-PyLoss:4.59508\n",
      "[139]\tvalidation_0-rmse:908.85736\tvalidation_1-rmse:0.00040\tvalidation_0-PyLoss:15.77914\tvalidation_1-PyLoss:4.59508\n",
      "[140]\tvalidation_0-rmse:908.85736\tvalidation_1-rmse:0.00040\tvalidation_0-PyLoss:15.77914\tvalidation_1-PyLoss:4.59508\n",
      "[141]\tvalidation_0-rmse:908.85736\tvalidation_1-rmse:0.00040\tvalidation_0-PyLoss:15.77914\tvalidation_1-PyLoss:4.59508\n"
     ]
    },
    {
     "name": "stdout",
     "output_type": "stream",
     "text": [
      "[142]\tvalidation_0-rmse:908.85736\tvalidation_1-rmse:0.00040\tvalidation_0-PyLoss:15.77914\tvalidation_1-PyLoss:4.59508\n",
      "[143]\tvalidation_0-rmse:908.85736\tvalidation_1-rmse:0.00040\tvalidation_0-PyLoss:15.77914\tvalidation_1-PyLoss:4.59508\n",
      "[144]\tvalidation_0-rmse:908.85736\tvalidation_1-rmse:0.00040\tvalidation_0-PyLoss:15.77914\tvalidation_1-PyLoss:4.59508\n",
      "[145]\tvalidation_0-rmse:908.85736\tvalidation_1-rmse:0.00040\tvalidation_0-PyLoss:15.77914\tvalidation_1-PyLoss:4.59508\n",
      "[146]\tvalidation_0-rmse:908.85736\tvalidation_1-rmse:0.00040\tvalidation_0-PyLoss:15.77914\tvalidation_1-PyLoss:4.59508\n",
      "[147]\tvalidation_0-rmse:908.85736\tvalidation_1-rmse:0.00040\tvalidation_0-PyLoss:15.77914\tvalidation_1-PyLoss:4.59508\n",
      "[148]\tvalidation_0-rmse:908.85736\tvalidation_1-rmse:0.00040\tvalidation_0-PyLoss:15.77914\tvalidation_1-PyLoss:4.59508\n",
      "[149]\tvalidation_0-rmse:908.85736\tvalidation_1-rmse:0.00040\tvalidation_0-PyLoss:15.77914\tvalidation_1-PyLoss:4.59508\n",
      "[150]\tvalidation_0-rmse:908.85736\tvalidation_1-rmse:0.00040\tvalidation_0-PyLoss:15.77914\tvalidation_1-PyLoss:4.59508\n",
      "[151]\tvalidation_0-rmse:908.85736\tvalidation_1-rmse:0.00040\tvalidation_0-PyLoss:15.77914\tvalidation_1-PyLoss:4.59508\n",
      "[152]\tvalidation_0-rmse:908.85736\tvalidation_1-rmse:0.00040\tvalidation_0-PyLoss:15.77914\tvalidation_1-PyLoss:4.59508\n",
      "[153]\tvalidation_0-rmse:908.85736\tvalidation_1-rmse:0.00040\tvalidation_0-PyLoss:15.77914\tvalidation_1-PyLoss:4.59508\n",
      "[154]\tvalidation_0-rmse:908.85736\tvalidation_1-rmse:0.00040\tvalidation_0-PyLoss:15.77914\tvalidation_1-PyLoss:4.59508\n",
      "[155]\tvalidation_0-rmse:908.85736\tvalidation_1-rmse:0.00040\tvalidation_0-PyLoss:15.77914\tvalidation_1-PyLoss:4.59508\n",
      "[156]\tvalidation_0-rmse:908.85736\tvalidation_1-rmse:0.00040\tvalidation_0-PyLoss:15.77914\tvalidation_1-PyLoss:4.59508\n",
      "[157]\tvalidation_0-rmse:908.85736\tvalidation_1-rmse:0.00040\tvalidation_0-PyLoss:15.77914\tvalidation_1-PyLoss:4.59508\n",
      "[158]\tvalidation_0-rmse:908.85736\tvalidation_1-rmse:0.00040\tvalidation_0-PyLoss:15.77914\tvalidation_1-PyLoss:4.59508\n",
      "[159]\tvalidation_0-rmse:908.85736\tvalidation_1-rmse:0.00040\tvalidation_0-PyLoss:15.77914\tvalidation_1-PyLoss:4.59508\n",
      "[160]\tvalidation_0-rmse:908.85736\tvalidation_1-rmse:0.00040\tvalidation_0-PyLoss:15.77914\tvalidation_1-PyLoss:4.59508\n",
      "[161]\tvalidation_0-rmse:908.85736\tvalidation_1-rmse:0.00040\tvalidation_0-PyLoss:15.77914\tvalidation_1-PyLoss:4.59508\n",
      "[162]\tvalidation_0-rmse:908.85736\tvalidation_1-rmse:0.00040\tvalidation_0-PyLoss:15.77914\tvalidation_1-PyLoss:4.59508\n",
      "[163]\tvalidation_0-rmse:908.85736\tvalidation_1-rmse:0.00040\tvalidation_0-PyLoss:15.77914\tvalidation_1-PyLoss:4.59508\n",
      "[164]\tvalidation_0-rmse:908.85736\tvalidation_1-rmse:0.00040\tvalidation_0-PyLoss:15.77914\tvalidation_1-PyLoss:4.59508\n",
      "[165]\tvalidation_0-rmse:908.85736\tvalidation_1-rmse:0.00040\tvalidation_0-PyLoss:15.77914\tvalidation_1-PyLoss:4.59508\n",
      "[166]\tvalidation_0-rmse:908.85736\tvalidation_1-rmse:0.00040\tvalidation_0-PyLoss:15.77914\tvalidation_1-PyLoss:4.59508\n",
      "[167]\tvalidation_0-rmse:908.85736\tvalidation_1-rmse:0.00040\tvalidation_0-PyLoss:15.77914\tvalidation_1-PyLoss:4.59508\n",
      "[168]\tvalidation_0-rmse:908.85736\tvalidation_1-rmse:0.00040\tvalidation_0-PyLoss:15.77914\tvalidation_1-PyLoss:4.59508\n",
      "[169]\tvalidation_0-rmse:908.85736\tvalidation_1-rmse:0.00040\tvalidation_0-PyLoss:15.77914\tvalidation_1-PyLoss:4.59508\n",
      "[170]\tvalidation_0-rmse:908.85736\tvalidation_1-rmse:0.00040\tvalidation_0-PyLoss:15.77914\tvalidation_1-PyLoss:4.59508\n",
      "[171]\tvalidation_0-rmse:908.85736\tvalidation_1-rmse:0.00040\tvalidation_0-PyLoss:15.77914\tvalidation_1-PyLoss:4.59508\n",
      "[172]\tvalidation_0-rmse:908.85736\tvalidation_1-rmse:0.00040\tvalidation_0-PyLoss:15.77914\tvalidation_1-PyLoss:4.59508\n",
      "[173]\tvalidation_0-rmse:908.85736\tvalidation_1-rmse:0.00040\tvalidation_0-PyLoss:15.77914\tvalidation_1-PyLoss:4.59508\n",
      "[174]\tvalidation_0-rmse:908.85736\tvalidation_1-rmse:0.00040\tvalidation_0-PyLoss:15.77914\tvalidation_1-PyLoss:4.59508\n",
      "[175]\tvalidation_0-rmse:908.85736\tvalidation_1-rmse:0.00040\tvalidation_0-PyLoss:15.77914\tvalidation_1-PyLoss:4.59508\n",
      "[176]\tvalidation_0-rmse:908.85736\tvalidation_1-rmse:0.00040\tvalidation_0-PyLoss:15.77914\tvalidation_1-PyLoss:4.59508\n",
      "[177]\tvalidation_0-rmse:908.85736\tvalidation_1-rmse:0.00040\tvalidation_0-PyLoss:15.77914\tvalidation_1-PyLoss:4.59508\n",
      "[178]\tvalidation_0-rmse:908.85736\tvalidation_1-rmse:0.00040\tvalidation_0-PyLoss:15.77914\tvalidation_1-PyLoss:4.59508\n",
      "[179]\tvalidation_0-rmse:908.85736\tvalidation_1-rmse:0.00040\tvalidation_0-PyLoss:15.77914\tvalidation_1-PyLoss:4.59508\n",
      "[180]\tvalidation_0-rmse:908.85736\tvalidation_1-rmse:0.00040\tvalidation_0-PyLoss:15.77914\tvalidation_1-PyLoss:4.59508\n",
      "[181]\tvalidation_0-rmse:908.85736\tvalidation_1-rmse:0.00040\tvalidation_0-PyLoss:15.77914\tvalidation_1-PyLoss:4.59508\n",
      "[182]\tvalidation_0-rmse:908.85736\tvalidation_1-rmse:0.00040\tvalidation_0-PyLoss:15.77914\tvalidation_1-PyLoss:4.59508\n",
      "[183]\tvalidation_0-rmse:908.85736\tvalidation_1-rmse:0.00040\tvalidation_0-PyLoss:15.77914\tvalidation_1-PyLoss:4.59508\n",
      "[184]\tvalidation_0-rmse:908.85736\tvalidation_1-rmse:0.00040\tvalidation_0-PyLoss:15.77914\tvalidation_1-PyLoss:4.59508\n",
      "[185]\tvalidation_0-rmse:908.85736\tvalidation_1-rmse:0.00040\tvalidation_0-PyLoss:15.77914\tvalidation_1-PyLoss:4.59508\n",
      "[186]\tvalidation_0-rmse:908.85736\tvalidation_1-rmse:0.00040\tvalidation_0-PyLoss:15.77914\tvalidation_1-PyLoss:4.59508\n",
      "[187]\tvalidation_0-rmse:908.85736\tvalidation_1-rmse:0.00040\tvalidation_0-PyLoss:15.77914\tvalidation_1-PyLoss:4.59508\n",
      "[188]\tvalidation_0-rmse:908.85736\tvalidation_1-rmse:0.00040\tvalidation_0-PyLoss:15.77914\tvalidation_1-PyLoss:4.59508\n",
      "[189]\tvalidation_0-rmse:908.85736\tvalidation_1-rmse:0.00040\tvalidation_0-PyLoss:15.77914\tvalidation_1-PyLoss:4.59508\n",
      "[190]\tvalidation_0-rmse:908.85736\tvalidation_1-rmse:0.00040\tvalidation_0-PyLoss:15.77914\tvalidation_1-PyLoss:4.59508\n",
      "[191]\tvalidation_0-rmse:908.85736\tvalidation_1-rmse:0.00040\tvalidation_0-PyLoss:15.77914\tvalidation_1-PyLoss:4.59508\n",
      "[192]\tvalidation_0-rmse:908.85736\tvalidation_1-rmse:0.00040\tvalidation_0-PyLoss:15.77914\tvalidation_1-PyLoss:4.59508\n",
      "[193]\tvalidation_0-rmse:908.85736\tvalidation_1-rmse:0.00040\tvalidation_0-PyLoss:15.77914\tvalidation_1-PyLoss:4.59508\n",
      "[194]\tvalidation_0-rmse:908.85736\tvalidation_1-rmse:0.00040\tvalidation_0-PyLoss:15.77914\tvalidation_1-PyLoss:4.59508\n",
      "[195]\tvalidation_0-rmse:908.85736\tvalidation_1-rmse:0.00040\tvalidation_0-PyLoss:15.77914\tvalidation_1-PyLoss:4.59508\n",
      "[196]\tvalidation_0-rmse:908.85736\tvalidation_1-rmse:0.00040\tvalidation_0-PyLoss:15.77914\tvalidation_1-PyLoss:4.59508\n",
      "[197]\tvalidation_0-rmse:908.85736\tvalidation_1-rmse:0.00040\tvalidation_0-PyLoss:15.77914\tvalidation_1-PyLoss:4.59508\n",
      "[198]\tvalidation_0-rmse:908.85736\tvalidation_1-rmse:0.00040\tvalidation_0-PyLoss:15.77914\tvalidation_1-PyLoss:4.59508\n",
      "[199]\tvalidation_0-rmse:908.85736\tvalidation_1-rmse:0.00040\tvalidation_0-PyLoss:15.77914\tvalidation_1-PyLoss:4.59508\n",
      "[200]\tvalidation_0-rmse:908.85736\tvalidation_1-rmse:0.00040\tvalidation_0-PyLoss:15.77914\tvalidation_1-PyLoss:4.59508\n",
      "[201]\tvalidation_0-rmse:908.85736\tvalidation_1-rmse:0.00040\tvalidation_0-PyLoss:15.77914\tvalidation_1-PyLoss:4.59508\n",
      "[202]\tvalidation_0-rmse:908.85736\tvalidation_1-rmse:0.00040\tvalidation_0-PyLoss:15.77914\tvalidation_1-PyLoss:4.59508\n",
      "[203]\tvalidation_0-rmse:908.85736\tvalidation_1-rmse:0.00040\tvalidation_0-PyLoss:15.77914\tvalidation_1-PyLoss:4.59508\n",
      "[204]\tvalidation_0-rmse:908.85736\tvalidation_1-rmse:0.00040\tvalidation_0-PyLoss:15.77914\tvalidation_1-PyLoss:4.59508\n",
      "[205]\tvalidation_0-rmse:908.85736\tvalidation_1-rmse:0.00040\tvalidation_0-PyLoss:15.77914\tvalidation_1-PyLoss:4.59508\n",
      "[206]\tvalidation_0-rmse:908.85736\tvalidation_1-rmse:0.00040\tvalidation_0-PyLoss:15.77914\tvalidation_1-PyLoss:4.59508\n",
      "[207]\tvalidation_0-rmse:908.85736\tvalidation_1-rmse:0.00040\tvalidation_0-PyLoss:15.77914\tvalidation_1-PyLoss:4.59508\n",
      "[208]\tvalidation_0-rmse:908.85736\tvalidation_1-rmse:0.00040\tvalidation_0-PyLoss:15.77914\tvalidation_1-PyLoss:4.59508\n",
      "[209]\tvalidation_0-rmse:908.85736\tvalidation_1-rmse:0.00040\tvalidation_0-PyLoss:15.77914\tvalidation_1-PyLoss:4.59508\n",
      "[210]\tvalidation_0-rmse:908.85736\tvalidation_1-rmse:0.00040\tvalidation_0-PyLoss:15.77914\tvalidation_1-PyLoss:4.59508\n",
      "[211]\tvalidation_0-rmse:908.85736\tvalidation_1-rmse:0.00040\tvalidation_0-PyLoss:15.77914\tvalidation_1-PyLoss:4.59508\n",
      "[212]\tvalidation_0-rmse:908.85736\tvalidation_1-rmse:0.00040\tvalidation_0-PyLoss:15.77914\tvalidation_1-PyLoss:4.59508\n"
     ]
    },
    {
     "name": "stdout",
     "output_type": "stream",
     "text": [
      "[213]\tvalidation_0-rmse:908.85736\tvalidation_1-rmse:0.00040\tvalidation_0-PyLoss:15.77914\tvalidation_1-PyLoss:4.59508\n",
      "[214]\tvalidation_0-rmse:908.85736\tvalidation_1-rmse:0.00040\tvalidation_0-PyLoss:15.77914\tvalidation_1-PyLoss:4.59508\n",
      "[215]\tvalidation_0-rmse:908.85736\tvalidation_1-rmse:0.00040\tvalidation_0-PyLoss:15.77914\tvalidation_1-PyLoss:4.59508\n",
      "[216]\tvalidation_0-rmse:908.85736\tvalidation_1-rmse:0.00040\tvalidation_0-PyLoss:15.77914\tvalidation_1-PyLoss:4.59508\n",
      "[217]\tvalidation_0-rmse:908.85736\tvalidation_1-rmse:0.00040\tvalidation_0-PyLoss:15.77914\tvalidation_1-PyLoss:4.59508\n",
      "[218]\tvalidation_0-rmse:908.85736\tvalidation_1-rmse:0.00040\tvalidation_0-PyLoss:15.77914\tvalidation_1-PyLoss:4.59508\n",
      "[219]\tvalidation_0-rmse:908.85736\tvalidation_1-rmse:0.00040\tvalidation_0-PyLoss:15.77914\tvalidation_1-PyLoss:4.59508\n",
      "[220]\tvalidation_0-rmse:908.85736\tvalidation_1-rmse:0.00040\tvalidation_0-PyLoss:15.77914\tvalidation_1-PyLoss:4.59508\n",
      "[221]\tvalidation_0-rmse:908.85736\tvalidation_1-rmse:0.00040\tvalidation_0-PyLoss:15.77914\tvalidation_1-PyLoss:4.59508\n",
      "[222]\tvalidation_0-rmse:908.85736\tvalidation_1-rmse:0.00040\tvalidation_0-PyLoss:15.77914\tvalidation_1-PyLoss:4.59508\n",
      "[223]\tvalidation_0-rmse:908.85736\tvalidation_1-rmse:0.00040\tvalidation_0-PyLoss:15.77914\tvalidation_1-PyLoss:4.59508\n",
      "[224]\tvalidation_0-rmse:908.85736\tvalidation_1-rmse:0.00040\tvalidation_0-PyLoss:15.77914\tvalidation_1-PyLoss:4.59508\n",
      "[225]\tvalidation_0-rmse:908.85736\tvalidation_1-rmse:0.00040\tvalidation_0-PyLoss:15.77914\tvalidation_1-PyLoss:4.59508\n",
      "[226]\tvalidation_0-rmse:908.85736\tvalidation_1-rmse:0.00040\tvalidation_0-PyLoss:15.77914\tvalidation_1-PyLoss:4.59508\n",
      "[227]\tvalidation_0-rmse:908.85736\tvalidation_1-rmse:0.00040\tvalidation_0-PyLoss:15.77914\tvalidation_1-PyLoss:4.59508\n",
      "[228]\tvalidation_0-rmse:908.85736\tvalidation_1-rmse:0.00040\tvalidation_0-PyLoss:15.77914\tvalidation_1-PyLoss:4.59508\n",
      "[229]\tvalidation_0-rmse:908.85736\tvalidation_1-rmse:0.00040\tvalidation_0-PyLoss:15.77914\tvalidation_1-PyLoss:4.59508\n",
      "[230]\tvalidation_0-rmse:908.85736\tvalidation_1-rmse:0.00040\tvalidation_0-PyLoss:15.77914\tvalidation_1-PyLoss:4.59508\n",
      "[231]\tvalidation_0-rmse:908.85736\tvalidation_1-rmse:0.00040\tvalidation_0-PyLoss:15.77914\tvalidation_1-PyLoss:4.59508\n",
      "[232]\tvalidation_0-rmse:908.85736\tvalidation_1-rmse:0.00040\tvalidation_0-PyLoss:15.77914\tvalidation_1-PyLoss:4.59508\n",
      "[233]\tvalidation_0-rmse:908.85736\tvalidation_1-rmse:0.00040\tvalidation_0-PyLoss:15.77914\tvalidation_1-PyLoss:4.59508\n",
      "[234]\tvalidation_0-rmse:908.85736\tvalidation_1-rmse:0.00040\tvalidation_0-PyLoss:15.77914\tvalidation_1-PyLoss:4.59508\n",
      "[235]\tvalidation_0-rmse:908.85736\tvalidation_1-rmse:0.00040\tvalidation_0-PyLoss:15.77914\tvalidation_1-PyLoss:4.59508\n",
      "[236]\tvalidation_0-rmse:908.85736\tvalidation_1-rmse:0.00040\tvalidation_0-PyLoss:15.77914\tvalidation_1-PyLoss:4.59508\n",
      "[237]\tvalidation_0-rmse:908.85736\tvalidation_1-rmse:0.00040\tvalidation_0-PyLoss:15.77914\tvalidation_1-PyLoss:4.59508\n",
      "[238]\tvalidation_0-rmse:908.85736\tvalidation_1-rmse:0.00040\tvalidation_0-PyLoss:15.77914\tvalidation_1-PyLoss:4.59508\n",
      "[239]\tvalidation_0-rmse:908.85736\tvalidation_1-rmse:0.00040\tvalidation_0-PyLoss:15.77914\tvalidation_1-PyLoss:4.59508\n",
      "[240]\tvalidation_0-rmse:908.85736\tvalidation_1-rmse:0.00040\tvalidation_0-PyLoss:15.77914\tvalidation_1-PyLoss:4.59508\n",
      "[241]\tvalidation_0-rmse:908.85736\tvalidation_1-rmse:0.00040\tvalidation_0-PyLoss:15.77914\tvalidation_1-PyLoss:4.59508\n",
      "[242]\tvalidation_0-rmse:908.85736\tvalidation_1-rmse:0.00040\tvalidation_0-PyLoss:15.77914\tvalidation_1-PyLoss:4.59508\n",
      "[243]\tvalidation_0-rmse:908.85736\tvalidation_1-rmse:0.00040\tvalidation_0-PyLoss:15.77914\tvalidation_1-PyLoss:4.59508\n",
      "[244]\tvalidation_0-rmse:908.85736\tvalidation_1-rmse:0.00040\tvalidation_0-PyLoss:15.77914\tvalidation_1-PyLoss:4.59508\n",
      "[245]\tvalidation_0-rmse:908.85736\tvalidation_1-rmse:0.00040\tvalidation_0-PyLoss:15.77914\tvalidation_1-PyLoss:4.59508\n",
      "[246]\tvalidation_0-rmse:908.85736\tvalidation_1-rmse:0.00040\tvalidation_0-PyLoss:15.77914\tvalidation_1-PyLoss:4.59508\n",
      "[247]\tvalidation_0-rmse:908.85736\tvalidation_1-rmse:0.00040\tvalidation_0-PyLoss:15.77914\tvalidation_1-PyLoss:4.59508\n",
      "[248]\tvalidation_0-rmse:908.85736\tvalidation_1-rmse:0.00040\tvalidation_0-PyLoss:15.77914\tvalidation_1-PyLoss:4.59508\n",
      "[249]\tvalidation_0-rmse:908.85736\tvalidation_1-rmse:0.00040\tvalidation_0-PyLoss:15.77914\tvalidation_1-PyLoss:4.59508\n",
      "[250]\tvalidation_0-rmse:908.85736\tvalidation_1-rmse:0.00040\tvalidation_0-PyLoss:15.77914\tvalidation_1-PyLoss:4.59508\n",
      "[251]\tvalidation_0-rmse:908.85736\tvalidation_1-rmse:0.00040\tvalidation_0-PyLoss:15.77914\tvalidation_1-PyLoss:4.59508\n",
      "[252]\tvalidation_0-rmse:908.85736\tvalidation_1-rmse:0.00040\tvalidation_0-PyLoss:15.77914\tvalidation_1-PyLoss:4.59508\n",
      "[253]\tvalidation_0-rmse:908.85736\tvalidation_1-rmse:0.00040\tvalidation_0-PyLoss:15.77914\tvalidation_1-PyLoss:4.59508\n",
      "[254]\tvalidation_0-rmse:908.85736\tvalidation_1-rmse:0.00040\tvalidation_0-PyLoss:15.77914\tvalidation_1-PyLoss:4.59508\n",
      "[255]\tvalidation_0-rmse:908.85736\tvalidation_1-rmse:0.00040\tvalidation_0-PyLoss:15.77914\tvalidation_1-PyLoss:4.59508\n",
      "[256]\tvalidation_0-rmse:908.85736\tvalidation_1-rmse:0.00040\tvalidation_0-PyLoss:15.77914\tvalidation_1-PyLoss:4.59508\n",
      "[257]\tvalidation_0-rmse:908.85736\tvalidation_1-rmse:0.00040\tvalidation_0-PyLoss:15.77914\tvalidation_1-PyLoss:4.59508\n",
      "[258]\tvalidation_0-rmse:908.85736\tvalidation_1-rmse:0.00040\tvalidation_0-PyLoss:15.77914\tvalidation_1-PyLoss:4.59508\n",
      "[259]\tvalidation_0-rmse:908.85736\tvalidation_1-rmse:0.00040\tvalidation_0-PyLoss:15.77914\tvalidation_1-PyLoss:4.59508\n",
      "[260]\tvalidation_0-rmse:908.85736\tvalidation_1-rmse:0.00040\tvalidation_0-PyLoss:15.77914\tvalidation_1-PyLoss:4.59508\n",
      "[261]\tvalidation_0-rmse:908.85736\tvalidation_1-rmse:0.00040\tvalidation_0-PyLoss:15.77914\tvalidation_1-PyLoss:4.59508\n",
      "[262]\tvalidation_0-rmse:908.85736\tvalidation_1-rmse:0.00040\tvalidation_0-PyLoss:15.77914\tvalidation_1-PyLoss:4.59508\n",
      "[263]\tvalidation_0-rmse:908.85736\tvalidation_1-rmse:0.00040\tvalidation_0-PyLoss:15.77914\tvalidation_1-PyLoss:4.59508\n",
      "[264]\tvalidation_0-rmse:908.85736\tvalidation_1-rmse:0.00040\tvalidation_0-PyLoss:15.77914\tvalidation_1-PyLoss:4.59508\n",
      "[265]\tvalidation_0-rmse:908.85736\tvalidation_1-rmse:0.00040\tvalidation_0-PyLoss:15.77914\tvalidation_1-PyLoss:4.59508\n",
      "[266]\tvalidation_0-rmse:908.85736\tvalidation_1-rmse:0.00040\tvalidation_0-PyLoss:15.77914\tvalidation_1-PyLoss:4.59508\n",
      "[267]\tvalidation_0-rmse:908.85736\tvalidation_1-rmse:0.00040\tvalidation_0-PyLoss:15.77914\tvalidation_1-PyLoss:4.59508\n",
      "[268]\tvalidation_0-rmse:908.85736\tvalidation_1-rmse:0.00040\tvalidation_0-PyLoss:15.77914\tvalidation_1-PyLoss:4.59508\n",
      "[269]\tvalidation_0-rmse:908.85736\tvalidation_1-rmse:0.00040\tvalidation_0-PyLoss:15.77914\tvalidation_1-PyLoss:4.59508\n",
      "[270]\tvalidation_0-rmse:908.85736\tvalidation_1-rmse:0.00040\tvalidation_0-PyLoss:15.77914\tvalidation_1-PyLoss:4.59508\n",
      "[271]\tvalidation_0-rmse:908.85736\tvalidation_1-rmse:0.00040\tvalidation_0-PyLoss:15.77914\tvalidation_1-PyLoss:4.59508\n",
      "[272]\tvalidation_0-rmse:908.85736\tvalidation_1-rmse:0.00040\tvalidation_0-PyLoss:15.77914\tvalidation_1-PyLoss:4.59508\n",
      "[273]\tvalidation_0-rmse:908.85736\tvalidation_1-rmse:0.00040\tvalidation_0-PyLoss:15.77914\tvalidation_1-PyLoss:4.59508\n",
      "[274]\tvalidation_0-rmse:908.85736\tvalidation_1-rmse:0.00040\tvalidation_0-PyLoss:15.77914\tvalidation_1-PyLoss:4.59508\n",
      "[275]\tvalidation_0-rmse:908.85736\tvalidation_1-rmse:0.00040\tvalidation_0-PyLoss:15.77914\tvalidation_1-PyLoss:4.59508\n",
      "[276]\tvalidation_0-rmse:908.85736\tvalidation_1-rmse:0.00040\tvalidation_0-PyLoss:15.77914\tvalidation_1-PyLoss:4.59508\n",
      "[277]\tvalidation_0-rmse:908.85736\tvalidation_1-rmse:0.00040\tvalidation_0-PyLoss:15.77914\tvalidation_1-PyLoss:4.59508\n",
      "[278]\tvalidation_0-rmse:908.85736\tvalidation_1-rmse:0.00040\tvalidation_0-PyLoss:15.77914\tvalidation_1-PyLoss:4.59508\n",
      "[279]\tvalidation_0-rmse:908.85736\tvalidation_1-rmse:0.00040\tvalidation_0-PyLoss:15.77914\tvalidation_1-PyLoss:4.59508\n",
      "[280]\tvalidation_0-rmse:908.85736\tvalidation_1-rmse:0.00040\tvalidation_0-PyLoss:15.77914\tvalidation_1-PyLoss:4.59508\n",
      "[281]\tvalidation_0-rmse:908.85736\tvalidation_1-rmse:0.00040\tvalidation_0-PyLoss:15.77914\tvalidation_1-PyLoss:4.59508\n",
      "[282]\tvalidation_0-rmse:908.85736\tvalidation_1-rmse:0.00040\tvalidation_0-PyLoss:15.77914\tvalidation_1-PyLoss:4.59508\n",
      "[283]\tvalidation_0-rmse:908.85736\tvalidation_1-rmse:0.00040\tvalidation_0-PyLoss:15.77914\tvalidation_1-PyLoss:4.59508\n"
     ]
    },
    {
     "name": "stdout",
     "output_type": "stream",
     "text": [
      "[284]\tvalidation_0-rmse:908.85736\tvalidation_1-rmse:0.00040\tvalidation_0-PyLoss:15.77914\tvalidation_1-PyLoss:4.59508\n",
      "[285]\tvalidation_0-rmse:908.85736\tvalidation_1-rmse:0.00040\tvalidation_0-PyLoss:15.77914\tvalidation_1-PyLoss:4.59508\n",
      "[286]\tvalidation_0-rmse:908.85736\tvalidation_1-rmse:0.00040\tvalidation_0-PyLoss:15.77914\tvalidation_1-PyLoss:4.59508\n",
      "[287]\tvalidation_0-rmse:908.85736\tvalidation_1-rmse:0.00040\tvalidation_0-PyLoss:15.77914\tvalidation_1-PyLoss:4.59508\n",
      "[288]\tvalidation_0-rmse:908.85736\tvalidation_1-rmse:0.00040\tvalidation_0-PyLoss:15.77914\tvalidation_1-PyLoss:4.59508\n",
      "[289]\tvalidation_0-rmse:908.85736\tvalidation_1-rmse:0.00040\tvalidation_0-PyLoss:15.77914\tvalidation_1-PyLoss:4.59508\n",
      "[290]\tvalidation_0-rmse:908.85736\tvalidation_1-rmse:0.00040\tvalidation_0-PyLoss:15.77914\tvalidation_1-PyLoss:4.59508\n",
      "[291]\tvalidation_0-rmse:908.85736\tvalidation_1-rmse:0.00040\tvalidation_0-PyLoss:15.77914\tvalidation_1-PyLoss:4.59508\n",
      "[292]\tvalidation_0-rmse:908.85736\tvalidation_1-rmse:0.00040\tvalidation_0-PyLoss:15.77914\tvalidation_1-PyLoss:4.59508\n",
      "[293]\tvalidation_0-rmse:908.85736\tvalidation_1-rmse:0.00040\tvalidation_0-PyLoss:15.77914\tvalidation_1-PyLoss:4.59508\n",
      "[294]\tvalidation_0-rmse:908.85736\tvalidation_1-rmse:0.00040\tvalidation_0-PyLoss:15.77914\tvalidation_1-PyLoss:4.59508\n",
      "[295]\tvalidation_0-rmse:908.85736\tvalidation_1-rmse:0.00040\tvalidation_0-PyLoss:15.77914\tvalidation_1-PyLoss:4.59508\n",
      "[296]\tvalidation_0-rmse:908.85736\tvalidation_1-rmse:0.00040\tvalidation_0-PyLoss:15.77914\tvalidation_1-PyLoss:4.59508\n",
      "[297]\tvalidation_0-rmse:908.85736\tvalidation_1-rmse:0.00040\tvalidation_0-PyLoss:15.77914\tvalidation_1-PyLoss:4.59508\n",
      "[298]\tvalidation_0-rmse:908.85736\tvalidation_1-rmse:0.00040\tvalidation_0-PyLoss:15.77914\tvalidation_1-PyLoss:4.59508\n",
      "[299]\tvalidation_0-rmse:908.85736\tvalidation_1-rmse:0.00040\tvalidation_0-PyLoss:15.77914\tvalidation_1-PyLoss:4.59508\n",
      "[300]\tvalidation_0-rmse:908.85736\tvalidation_1-rmse:0.00040\tvalidation_0-PyLoss:15.77914\tvalidation_1-PyLoss:4.59508\n",
      "[301]\tvalidation_0-rmse:908.85736\tvalidation_1-rmse:0.00040\tvalidation_0-PyLoss:15.77914\tvalidation_1-PyLoss:4.59508\n",
      "[302]\tvalidation_0-rmse:908.85736\tvalidation_1-rmse:0.00040\tvalidation_0-PyLoss:15.77914\tvalidation_1-PyLoss:4.59508\n",
      "[303]\tvalidation_0-rmse:908.85736\tvalidation_1-rmse:0.00040\tvalidation_0-PyLoss:15.77914\tvalidation_1-PyLoss:4.59508\n",
      "[304]\tvalidation_0-rmse:908.85736\tvalidation_1-rmse:0.00040\tvalidation_0-PyLoss:15.77914\tvalidation_1-PyLoss:4.59508\n",
      "[305]\tvalidation_0-rmse:908.85736\tvalidation_1-rmse:0.00040\tvalidation_0-PyLoss:15.77914\tvalidation_1-PyLoss:4.59508\n",
      "[306]\tvalidation_0-rmse:908.85736\tvalidation_1-rmse:0.00040\tvalidation_0-PyLoss:15.77914\tvalidation_1-PyLoss:4.59508\n",
      "[307]\tvalidation_0-rmse:908.85736\tvalidation_1-rmse:0.00040\tvalidation_0-PyLoss:15.77914\tvalidation_1-PyLoss:4.59508\n",
      "[308]\tvalidation_0-rmse:908.85736\tvalidation_1-rmse:0.00040\tvalidation_0-PyLoss:15.77914\tvalidation_1-PyLoss:4.59508\n",
      "[309]\tvalidation_0-rmse:908.85736\tvalidation_1-rmse:0.00040\tvalidation_0-PyLoss:15.77914\tvalidation_1-PyLoss:4.59508\n",
      "[310]\tvalidation_0-rmse:908.85736\tvalidation_1-rmse:0.00040\tvalidation_0-PyLoss:15.77914\tvalidation_1-PyLoss:4.59508\n",
      "[311]\tvalidation_0-rmse:908.85736\tvalidation_1-rmse:0.00040\tvalidation_0-PyLoss:15.77914\tvalidation_1-PyLoss:4.59508\n",
      "[312]\tvalidation_0-rmse:908.85736\tvalidation_1-rmse:0.00040\tvalidation_0-PyLoss:15.77914\tvalidation_1-PyLoss:4.59508\n",
      "[313]\tvalidation_0-rmse:908.85736\tvalidation_1-rmse:0.00040\tvalidation_0-PyLoss:15.77914\tvalidation_1-PyLoss:4.59508\n",
      "[314]\tvalidation_0-rmse:908.85736\tvalidation_1-rmse:0.00040\tvalidation_0-PyLoss:15.77914\tvalidation_1-PyLoss:4.59508\n",
      "[315]\tvalidation_0-rmse:908.85736\tvalidation_1-rmse:0.00040\tvalidation_0-PyLoss:15.77914\tvalidation_1-PyLoss:4.59508\n",
      "[316]\tvalidation_0-rmse:908.85736\tvalidation_1-rmse:0.00040\tvalidation_0-PyLoss:15.77914\tvalidation_1-PyLoss:4.59508\n",
      "[317]\tvalidation_0-rmse:908.85736\tvalidation_1-rmse:0.00040\tvalidation_0-PyLoss:15.77914\tvalidation_1-PyLoss:4.59508\n",
      "[318]\tvalidation_0-rmse:908.85736\tvalidation_1-rmse:0.00040\tvalidation_0-PyLoss:15.77914\tvalidation_1-PyLoss:4.59508\n",
      "[319]\tvalidation_0-rmse:908.85736\tvalidation_1-rmse:0.00040\tvalidation_0-PyLoss:15.77914\tvalidation_1-PyLoss:4.59508\n",
      "[320]\tvalidation_0-rmse:908.85736\tvalidation_1-rmse:0.00040\tvalidation_0-PyLoss:15.77914\tvalidation_1-PyLoss:4.59508\n",
      "[321]\tvalidation_0-rmse:908.85736\tvalidation_1-rmse:0.00040\tvalidation_0-PyLoss:15.77914\tvalidation_1-PyLoss:4.59508\n",
      "[322]\tvalidation_0-rmse:908.85736\tvalidation_1-rmse:0.00040\tvalidation_0-PyLoss:15.77914\tvalidation_1-PyLoss:4.59508\n",
      "[323]\tvalidation_0-rmse:908.85736\tvalidation_1-rmse:0.00040\tvalidation_0-PyLoss:15.77914\tvalidation_1-PyLoss:4.59508\n",
      "[324]\tvalidation_0-rmse:908.85736\tvalidation_1-rmse:0.00040\tvalidation_0-PyLoss:15.77914\tvalidation_1-PyLoss:4.59508\n",
      "[325]\tvalidation_0-rmse:908.85736\tvalidation_1-rmse:0.00040\tvalidation_0-PyLoss:15.77914\tvalidation_1-PyLoss:4.59508\n",
      "[326]\tvalidation_0-rmse:908.85736\tvalidation_1-rmse:0.00040\tvalidation_0-PyLoss:15.77914\tvalidation_1-PyLoss:4.59508\n",
      "[327]\tvalidation_0-rmse:908.85736\tvalidation_1-rmse:0.00040\tvalidation_0-PyLoss:15.77914\tvalidation_1-PyLoss:4.59508\n",
      "[328]\tvalidation_0-rmse:908.85736\tvalidation_1-rmse:0.00040\tvalidation_0-PyLoss:15.77914\tvalidation_1-PyLoss:4.59508\n",
      "[329]\tvalidation_0-rmse:908.85736\tvalidation_1-rmse:0.00040\tvalidation_0-PyLoss:15.77914\tvalidation_1-PyLoss:4.59508\n",
      "[330]\tvalidation_0-rmse:908.85736\tvalidation_1-rmse:0.00040\tvalidation_0-PyLoss:15.77914\tvalidation_1-PyLoss:4.59508\n",
      "[331]\tvalidation_0-rmse:908.85736\tvalidation_1-rmse:0.00040\tvalidation_0-PyLoss:15.77914\tvalidation_1-PyLoss:4.59508\n",
      "[332]\tvalidation_0-rmse:908.85736\tvalidation_1-rmse:0.00040\tvalidation_0-PyLoss:15.77914\tvalidation_1-PyLoss:4.59508\n",
      "[333]\tvalidation_0-rmse:908.85736\tvalidation_1-rmse:0.00040\tvalidation_0-PyLoss:15.77914\tvalidation_1-PyLoss:4.59508\n",
      "[334]\tvalidation_0-rmse:908.85736\tvalidation_1-rmse:0.00040\tvalidation_0-PyLoss:15.77914\tvalidation_1-PyLoss:4.59508\n",
      "[335]\tvalidation_0-rmse:908.85736\tvalidation_1-rmse:0.00040\tvalidation_0-PyLoss:15.77914\tvalidation_1-PyLoss:4.59508\n",
      "[336]\tvalidation_0-rmse:908.85736\tvalidation_1-rmse:0.00040\tvalidation_0-PyLoss:15.77914\tvalidation_1-PyLoss:4.59508\n",
      "[337]\tvalidation_0-rmse:908.85736\tvalidation_1-rmse:0.00040\tvalidation_0-PyLoss:15.77914\tvalidation_1-PyLoss:4.59508\n",
      "[338]\tvalidation_0-rmse:908.85736\tvalidation_1-rmse:0.00040\tvalidation_0-PyLoss:15.77914\tvalidation_1-PyLoss:4.59508\n",
      "[339]\tvalidation_0-rmse:908.85736\tvalidation_1-rmse:0.00040\tvalidation_0-PyLoss:15.77914\tvalidation_1-PyLoss:4.59508\n",
      "[340]\tvalidation_0-rmse:908.85736\tvalidation_1-rmse:0.00040\tvalidation_0-PyLoss:15.77914\tvalidation_1-PyLoss:4.59508\n",
      "[341]\tvalidation_0-rmse:908.85736\tvalidation_1-rmse:0.00040\tvalidation_0-PyLoss:15.77914\tvalidation_1-PyLoss:4.59508\n",
      "[342]\tvalidation_0-rmse:908.85736\tvalidation_1-rmse:0.00040\tvalidation_0-PyLoss:15.77914\tvalidation_1-PyLoss:4.59508\n",
      "[343]\tvalidation_0-rmse:908.85736\tvalidation_1-rmse:0.00040\tvalidation_0-PyLoss:15.77914\tvalidation_1-PyLoss:4.59508\n",
      "[344]\tvalidation_0-rmse:908.85736\tvalidation_1-rmse:0.00040\tvalidation_0-PyLoss:15.77914\tvalidation_1-PyLoss:4.59508\n",
      "[345]\tvalidation_0-rmse:908.85736\tvalidation_1-rmse:0.00040\tvalidation_0-PyLoss:15.77914\tvalidation_1-PyLoss:4.59508\n",
      "[346]\tvalidation_0-rmse:908.85736\tvalidation_1-rmse:0.00040\tvalidation_0-PyLoss:15.77914\tvalidation_1-PyLoss:4.59508\n",
      "[347]\tvalidation_0-rmse:908.85736\tvalidation_1-rmse:0.00040\tvalidation_0-PyLoss:15.77914\tvalidation_1-PyLoss:4.59508\n",
      "[348]\tvalidation_0-rmse:908.85736\tvalidation_1-rmse:0.00040\tvalidation_0-PyLoss:15.77914\tvalidation_1-PyLoss:4.59508\n",
      "[349]\tvalidation_0-rmse:908.85736\tvalidation_1-rmse:0.00040\tvalidation_0-PyLoss:15.77914\tvalidation_1-PyLoss:4.59508\n",
      "[350]\tvalidation_0-rmse:908.85736\tvalidation_1-rmse:0.00040\tvalidation_0-PyLoss:15.77914\tvalidation_1-PyLoss:4.59508\n",
      "[351]\tvalidation_0-rmse:908.85736\tvalidation_1-rmse:0.00040\tvalidation_0-PyLoss:15.77914\tvalidation_1-PyLoss:4.59508\n",
      "[352]\tvalidation_0-rmse:908.85736\tvalidation_1-rmse:0.00040\tvalidation_0-PyLoss:15.77914\tvalidation_1-PyLoss:4.59508\n",
      "[353]\tvalidation_0-rmse:908.85736\tvalidation_1-rmse:0.00040\tvalidation_0-PyLoss:15.77914\tvalidation_1-PyLoss:4.59508\n",
      "[354]\tvalidation_0-rmse:908.85736\tvalidation_1-rmse:0.00040\tvalidation_0-PyLoss:15.77914\tvalidation_1-PyLoss:4.59508\n"
     ]
    },
    {
     "name": "stdout",
     "output_type": "stream",
     "text": [
      "[355]\tvalidation_0-rmse:908.85736\tvalidation_1-rmse:0.00040\tvalidation_0-PyLoss:15.77914\tvalidation_1-PyLoss:4.59508\n",
      "[356]\tvalidation_0-rmse:908.85736\tvalidation_1-rmse:0.00040\tvalidation_0-PyLoss:15.77914\tvalidation_1-PyLoss:4.59508\n",
      "[357]\tvalidation_0-rmse:908.85736\tvalidation_1-rmse:0.00040\tvalidation_0-PyLoss:15.77914\tvalidation_1-PyLoss:4.59508\n",
      "[358]\tvalidation_0-rmse:908.85736\tvalidation_1-rmse:0.00040\tvalidation_0-PyLoss:15.77914\tvalidation_1-PyLoss:4.59508\n",
      "[359]\tvalidation_0-rmse:908.85736\tvalidation_1-rmse:0.00040\tvalidation_0-PyLoss:15.77914\tvalidation_1-PyLoss:4.59508\n",
      "[360]\tvalidation_0-rmse:908.85736\tvalidation_1-rmse:0.00040\tvalidation_0-PyLoss:15.77914\tvalidation_1-PyLoss:4.59508\n",
      "[361]\tvalidation_0-rmse:908.85736\tvalidation_1-rmse:0.00040\tvalidation_0-PyLoss:15.77914\tvalidation_1-PyLoss:4.59508\n",
      "[362]\tvalidation_0-rmse:908.85736\tvalidation_1-rmse:0.00040\tvalidation_0-PyLoss:15.77914\tvalidation_1-PyLoss:4.59508\n",
      "[363]\tvalidation_0-rmse:908.85736\tvalidation_1-rmse:0.00040\tvalidation_0-PyLoss:15.77914\tvalidation_1-PyLoss:4.59508\n",
      "[364]\tvalidation_0-rmse:908.85736\tvalidation_1-rmse:0.00040\tvalidation_0-PyLoss:15.77914\tvalidation_1-PyLoss:4.59508\n",
      "[365]\tvalidation_0-rmse:908.85736\tvalidation_1-rmse:0.00040\tvalidation_0-PyLoss:15.77914\tvalidation_1-PyLoss:4.59508\n",
      "[366]\tvalidation_0-rmse:908.85736\tvalidation_1-rmse:0.00040\tvalidation_0-PyLoss:15.77914\tvalidation_1-PyLoss:4.59508\n",
      "[367]\tvalidation_0-rmse:908.85736\tvalidation_1-rmse:0.00040\tvalidation_0-PyLoss:15.77914\tvalidation_1-PyLoss:4.59508\n",
      "[368]\tvalidation_0-rmse:908.85736\tvalidation_1-rmse:0.00040\tvalidation_0-PyLoss:15.77914\tvalidation_1-PyLoss:4.59508\n",
      "[369]\tvalidation_0-rmse:908.85736\tvalidation_1-rmse:0.00040\tvalidation_0-PyLoss:15.77914\tvalidation_1-PyLoss:4.59508\n",
      "[370]\tvalidation_0-rmse:908.85736\tvalidation_1-rmse:0.00040\tvalidation_0-PyLoss:15.77914\tvalidation_1-PyLoss:4.59508\n",
      "[371]\tvalidation_0-rmse:908.85736\tvalidation_1-rmse:0.00040\tvalidation_0-PyLoss:15.77914\tvalidation_1-PyLoss:4.59508\n",
      "[372]\tvalidation_0-rmse:908.85736\tvalidation_1-rmse:0.00040\tvalidation_0-PyLoss:15.77914\tvalidation_1-PyLoss:4.59508\n",
      "[373]\tvalidation_0-rmse:908.85736\tvalidation_1-rmse:0.00040\tvalidation_0-PyLoss:15.77914\tvalidation_1-PyLoss:4.59508\n",
      "[374]\tvalidation_0-rmse:908.85736\tvalidation_1-rmse:0.00040\tvalidation_0-PyLoss:15.77914\tvalidation_1-PyLoss:4.59508\n",
      "[375]\tvalidation_0-rmse:908.85736\tvalidation_1-rmse:0.00040\tvalidation_0-PyLoss:15.77914\tvalidation_1-PyLoss:4.59508\n",
      "[376]\tvalidation_0-rmse:908.85736\tvalidation_1-rmse:0.00040\tvalidation_0-PyLoss:15.77914\tvalidation_1-PyLoss:4.59508\n",
      "[377]\tvalidation_0-rmse:908.85736\tvalidation_1-rmse:0.00040\tvalidation_0-PyLoss:15.77914\tvalidation_1-PyLoss:4.59508\n",
      "[378]\tvalidation_0-rmse:908.85736\tvalidation_1-rmse:0.00040\tvalidation_0-PyLoss:15.77914\tvalidation_1-PyLoss:4.59508\n",
      "[379]\tvalidation_0-rmse:908.85736\tvalidation_1-rmse:0.00040\tvalidation_0-PyLoss:15.77914\tvalidation_1-PyLoss:4.59508\n",
      "[380]\tvalidation_0-rmse:908.85736\tvalidation_1-rmse:0.00040\tvalidation_0-PyLoss:15.77914\tvalidation_1-PyLoss:4.59508\n",
      "[381]\tvalidation_0-rmse:908.85736\tvalidation_1-rmse:0.00040\tvalidation_0-PyLoss:15.77914\tvalidation_1-PyLoss:4.59508\n",
      "[382]\tvalidation_0-rmse:908.85736\tvalidation_1-rmse:0.00040\tvalidation_0-PyLoss:15.77914\tvalidation_1-PyLoss:4.59508\n",
      "[383]\tvalidation_0-rmse:908.85736\tvalidation_1-rmse:0.00040\tvalidation_0-PyLoss:15.77914\tvalidation_1-PyLoss:4.59508\n",
      "[384]\tvalidation_0-rmse:908.85736\tvalidation_1-rmse:0.00040\tvalidation_0-PyLoss:15.77914\tvalidation_1-PyLoss:4.59508\n",
      "[385]\tvalidation_0-rmse:908.85736\tvalidation_1-rmse:0.00040\tvalidation_0-PyLoss:15.77914\tvalidation_1-PyLoss:4.59508\n",
      "[386]\tvalidation_0-rmse:908.85736\tvalidation_1-rmse:0.00040\tvalidation_0-PyLoss:15.77914\tvalidation_1-PyLoss:4.59508\n",
      "[387]\tvalidation_0-rmse:908.85736\tvalidation_1-rmse:0.00040\tvalidation_0-PyLoss:15.77914\tvalidation_1-PyLoss:4.59508\n",
      "[388]\tvalidation_0-rmse:908.85736\tvalidation_1-rmse:0.00040\tvalidation_0-PyLoss:15.77914\tvalidation_1-PyLoss:4.59508\n",
      "[389]\tvalidation_0-rmse:908.85736\tvalidation_1-rmse:0.00040\tvalidation_0-PyLoss:15.77914\tvalidation_1-PyLoss:4.59508\n",
      "[390]\tvalidation_0-rmse:908.85736\tvalidation_1-rmse:0.00040\tvalidation_0-PyLoss:15.77914\tvalidation_1-PyLoss:4.59508\n",
      "[391]\tvalidation_0-rmse:908.85736\tvalidation_1-rmse:0.00040\tvalidation_0-PyLoss:15.77914\tvalidation_1-PyLoss:4.59508\n",
      "[392]\tvalidation_0-rmse:908.85736\tvalidation_1-rmse:0.00040\tvalidation_0-PyLoss:15.77914\tvalidation_1-PyLoss:4.59508\n",
      "[393]\tvalidation_0-rmse:908.85736\tvalidation_1-rmse:0.00040\tvalidation_0-PyLoss:15.77914\tvalidation_1-PyLoss:4.59508\n",
      "[394]\tvalidation_0-rmse:908.85736\tvalidation_1-rmse:0.00040\tvalidation_0-PyLoss:15.77914\tvalidation_1-PyLoss:4.59508\n",
      "[395]\tvalidation_0-rmse:908.85736\tvalidation_1-rmse:0.00040\tvalidation_0-PyLoss:15.77914\tvalidation_1-PyLoss:4.59508\n",
      "[396]\tvalidation_0-rmse:908.85736\tvalidation_1-rmse:0.00040\tvalidation_0-PyLoss:15.77914\tvalidation_1-PyLoss:4.59508\n",
      "[397]\tvalidation_0-rmse:908.85736\tvalidation_1-rmse:0.00040\tvalidation_0-PyLoss:15.77914\tvalidation_1-PyLoss:4.59508\n",
      "[398]\tvalidation_0-rmse:908.85736\tvalidation_1-rmse:0.00040\tvalidation_0-PyLoss:15.77914\tvalidation_1-PyLoss:4.59508\n",
      "[399]\tvalidation_0-rmse:908.85736\tvalidation_1-rmse:0.00040\tvalidation_0-PyLoss:15.77914\tvalidation_1-PyLoss:4.59508\n",
      "[400]\tvalidation_0-rmse:908.85736\tvalidation_1-rmse:0.00040\tvalidation_0-PyLoss:15.77914\tvalidation_1-PyLoss:4.59508\n",
      "[401]\tvalidation_0-rmse:908.85736\tvalidation_1-rmse:0.00040\tvalidation_0-PyLoss:15.77914\tvalidation_1-PyLoss:4.59508\n",
      "[402]\tvalidation_0-rmse:908.85736\tvalidation_1-rmse:0.00040\tvalidation_0-PyLoss:15.77914\tvalidation_1-PyLoss:4.59508\n",
      "[403]\tvalidation_0-rmse:908.85736\tvalidation_1-rmse:0.00040\tvalidation_0-PyLoss:15.77914\tvalidation_1-PyLoss:4.59508\n",
      "[404]\tvalidation_0-rmse:908.85736\tvalidation_1-rmse:0.00040\tvalidation_0-PyLoss:15.77914\tvalidation_1-PyLoss:4.59508\n",
      "[405]\tvalidation_0-rmse:908.85736\tvalidation_1-rmse:0.00040\tvalidation_0-PyLoss:15.77914\tvalidation_1-PyLoss:4.59508\n",
      "[406]\tvalidation_0-rmse:908.85736\tvalidation_1-rmse:0.00040\tvalidation_0-PyLoss:15.77914\tvalidation_1-PyLoss:4.59508\n",
      "[407]\tvalidation_0-rmse:908.85736\tvalidation_1-rmse:0.00040\tvalidation_0-PyLoss:15.77914\tvalidation_1-PyLoss:4.59508\n",
      "[408]\tvalidation_0-rmse:908.85736\tvalidation_1-rmse:0.00040\tvalidation_0-PyLoss:15.77914\tvalidation_1-PyLoss:4.59508\n",
      "[409]\tvalidation_0-rmse:908.85736\tvalidation_1-rmse:0.00040\tvalidation_0-PyLoss:15.77914\tvalidation_1-PyLoss:4.59508\n",
      "[410]\tvalidation_0-rmse:908.85736\tvalidation_1-rmse:0.00040\tvalidation_0-PyLoss:15.77914\tvalidation_1-PyLoss:4.59508\n",
      "[411]\tvalidation_0-rmse:908.85736\tvalidation_1-rmse:0.00040\tvalidation_0-PyLoss:15.77914\tvalidation_1-PyLoss:4.59508\n",
      "[412]\tvalidation_0-rmse:908.85736\tvalidation_1-rmse:0.00040\tvalidation_0-PyLoss:15.77914\tvalidation_1-PyLoss:4.59508\n",
      "[413]\tvalidation_0-rmse:908.85736\tvalidation_1-rmse:0.00040\tvalidation_0-PyLoss:15.77914\tvalidation_1-PyLoss:4.59508\n",
      "[414]\tvalidation_0-rmse:908.85736\tvalidation_1-rmse:0.00040\tvalidation_0-PyLoss:15.77914\tvalidation_1-PyLoss:4.59508\n",
      "[415]\tvalidation_0-rmse:908.85736\tvalidation_1-rmse:0.00040\tvalidation_0-PyLoss:15.77914\tvalidation_1-PyLoss:4.59508\n",
      "[416]\tvalidation_0-rmse:908.85736\tvalidation_1-rmse:0.00040\tvalidation_0-PyLoss:15.77914\tvalidation_1-PyLoss:4.59508\n",
      "[417]\tvalidation_0-rmse:908.85736\tvalidation_1-rmse:0.00040\tvalidation_0-PyLoss:15.77914\tvalidation_1-PyLoss:4.59508\n",
      "[418]\tvalidation_0-rmse:908.85736\tvalidation_1-rmse:0.00040\tvalidation_0-PyLoss:15.77914\tvalidation_1-PyLoss:4.59508\n",
      "[419]\tvalidation_0-rmse:908.85736\tvalidation_1-rmse:0.00040\tvalidation_0-PyLoss:15.77914\tvalidation_1-PyLoss:4.59508\n",
      "[420]\tvalidation_0-rmse:908.85736\tvalidation_1-rmse:0.00040\tvalidation_0-PyLoss:15.77914\tvalidation_1-PyLoss:4.59508\n",
      "[421]\tvalidation_0-rmse:908.85736\tvalidation_1-rmse:0.00040\tvalidation_0-PyLoss:15.77914\tvalidation_1-PyLoss:4.59508\n",
      "[422]\tvalidation_0-rmse:908.85736\tvalidation_1-rmse:0.00040\tvalidation_0-PyLoss:15.77914\tvalidation_1-PyLoss:4.59508\n",
      "[423]\tvalidation_0-rmse:908.85736\tvalidation_1-rmse:0.00040\tvalidation_0-PyLoss:15.77914\tvalidation_1-PyLoss:4.59508\n",
      "[424]\tvalidation_0-rmse:908.85736\tvalidation_1-rmse:0.00040\tvalidation_0-PyLoss:15.77914\tvalidation_1-PyLoss:4.59508\n",
      "[425]\tvalidation_0-rmse:908.85736\tvalidation_1-rmse:0.00040\tvalidation_0-PyLoss:15.77914\tvalidation_1-PyLoss:4.59508\n"
     ]
    },
    {
     "name": "stdout",
     "output_type": "stream",
     "text": [
      "[426]\tvalidation_0-rmse:908.85736\tvalidation_1-rmse:0.00040\tvalidation_0-PyLoss:15.77914\tvalidation_1-PyLoss:4.59508\n",
      "[427]\tvalidation_0-rmse:908.85736\tvalidation_1-rmse:0.00040\tvalidation_0-PyLoss:15.77914\tvalidation_1-PyLoss:4.59508\n",
      "[428]\tvalidation_0-rmse:908.85736\tvalidation_1-rmse:0.00040\tvalidation_0-PyLoss:15.77914\tvalidation_1-PyLoss:4.59508\n",
      "[429]\tvalidation_0-rmse:908.85736\tvalidation_1-rmse:0.00040\tvalidation_0-PyLoss:15.77914\tvalidation_1-PyLoss:4.59508\n",
      "[430]\tvalidation_0-rmse:908.85736\tvalidation_1-rmse:0.00040\tvalidation_0-PyLoss:15.77914\tvalidation_1-PyLoss:4.59508\n",
      "[431]\tvalidation_0-rmse:908.85736\tvalidation_1-rmse:0.00040\tvalidation_0-PyLoss:15.77914\tvalidation_1-PyLoss:4.59508\n",
      "[432]\tvalidation_0-rmse:908.85736\tvalidation_1-rmse:0.00040\tvalidation_0-PyLoss:15.77914\tvalidation_1-PyLoss:4.59508\n",
      "[433]\tvalidation_0-rmse:908.85736\tvalidation_1-rmse:0.00040\tvalidation_0-PyLoss:15.77914\tvalidation_1-PyLoss:4.59508\n",
      "[434]\tvalidation_0-rmse:908.85736\tvalidation_1-rmse:0.00040\tvalidation_0-PyLoss:15.77914\tvalidation_1-PyLoss:4.59508\n",
      "[435]\tvalidation_0-rmse:908.85736\tvalidation_1-rmse:0.00040\tvalidation_0-PyLoss:15.77914\tvalidation_1-PyLoss:4.59508\n",
      "[436]\tvalidation_0-rmse:908.85736\tvalidation_1-rmse:0.00040\tvalidation_0-PyLoss:15.77914\tvalidation_1-PyLoss:4.59508\n",
      "[437]\tvalidation_0-rmse:908.85736\tvalidation_1-rmse:0.00040\tvalidation_0-PyLoss:15.77914\tvalidation_1-PyLoss:4.59508\n",
      "[438]\tvalidation_0-rmse:908.85736\tvalidation_1-rmse:0.00040\tvalidation_0-PyLoss:15.77914\tvalidation_1-PyLoss:4.59508\n",
      "[439]\tvalidation_0-rmse:908.85736\tvalidation_1-rmse:0.00040\tvalidation_0-PyLoss:15.77914\tvalidation_1-PyLoss:4.59508\n",
      "[440]\tvalidation_0-rmse:908.85736\tvalidation_1-rmse:0.00040\tvalidation_0-PyLoss:15.77914\tvalidation_1-PyLoss:4.59508\n",
      "[441]\tvalidation_0-rmse:908.85736\tvalidation_1-rmse:0.00040\tvalidation_0-PyLoss:15.77914\tvalidation_1-PyLoss:4.59508\n",
      "[442]\tvalidation_0-rmse:908.85736\tvalidation_1-rmse:0.00040\tvalidation_0-PyLoss:15.77914\tvalidation_1-PyLoss:4.59508\n",
      "[443]\tvalidation_0-rmse:908.85736\tvalidation_1-rmse:0.00040\tvalidation_0-PyLoss:15.77914\tvalidation_1-PyLoss:4.59508\n",
      "[444]\tvalidation_0-rmse:908.85736\tvalidation_1-rmse:0.00040\tvalidation_0-PyLoss:15.77914\tvalidation_1-PyLoss:4.59508\n",
      "[445]\tvalidation_0-rmse:908.85736\tvalidation_1-rmse:0.00040\tvalidation_0-PyLoss:15.77914\tvalidation_1-PyLoss:4.59508\n",
      "[446]\tvalidation_0-rmse:908.85736\tvalidation_1-rmse:0.00040\tvalidation_0-PyLoss:15.77914\tvalidation_1-PyLoss:4.59508\n",
      "[447]\tvalidation_0-rmse:908.85736\tvalidation_1-rmse:0.00040\tvalidation_0-PyLoss:15.77914\tvalidation_1-PyLoss:4.59508\n",
      "[448]\tvalidation_0-rmse:908.85736\tvalidation_1-rmse:0.00040\tvalidation_0-PyLoss:15.77914\tvalidation_1-PyLoss:4.59508\n",
      "[449]\tvalidation_0-rmse:908.85736\tvalidation_1-rmse:0.00040\tvalidation_0-PyLoss:15.77914\tvalidation_1-PyLoss:4.59508\n",
      "[450]\tvalidation_0-rmse:908.85736\tvalidation_1-rmse:0.00040\tvalidation_0-PyLoss:15.77914\tvalidation_1-PyLoss:4.59508\n",
      "[451]\tvalidation_0-rmse:908.85736\tvalidation_1-rmse:0.00040\tvalidation_0-PyLoss:15.77914\tvalidation_1-PyLoss:4.59508\n",
      "[452]\tvalidation_0-rmse:908.85736\tvalidation_1-rmse:0.00040\tvalidation_0-PyLoss:15.77914\tvalidation_1-PyLoss:4.59508\n",
      "[453]\tvalidation_0-rmse:908.85736\tvalidation_1-rmse:0.00040\tvalidation_0-PyLoss:15.77914\tvalidation_1-PyLoss:4.59508\n",
      "[454]\tvalidation_0-rmse:908.85736\tvalidation_1-rmse:0.00040\tvalidation_0-PyLoss:15.77914\tvalidation_1-PyLoss:4.59508\n",
      "[455]\tvalidation_0-rmse:908.85736\tvalidation_1-rmse:0.00040\tvalidation_0-PyLoss:15.77914\tvalidation_1-PyLoss:4.59508\n",
      "[456]\tvalidation_0-rmse:908.85736\tvalidation_1-rmse:0.00040\tvalidation_0-PyLoss:15.77914\tvalidation_1-PyLoss:4.59508\n",
      "[457]\tvalidation_0-rmse:908.85736\tvalidation_1-rmse:0.00040\tvalidation_0-PyLoss:15.77914\tvalidation_1-PyLoss:4.59508\n",
      "[458]\tvalidation_0-rmse:908.85736\tvalidation_1-rmse:0.00040\tvalidation_0-PyLoss:15.77914\tvalidation_1-PyLoss:4.59508\n",
      "[459]\tvalidation_0-rmse:908.85736\tvalidation_1-rmse:0.00040\tvalidation_0-PyLoss:15.77914\tvalidation_1-PyLoss:4.59508\n",
      "[460]\tvalidation_0-rmse:908.85736\tvalidation_1-rmse:0.00040\tvalidation_0-PyLoss:15.77914\tvalidation_1-PyLoss:4.59508\n",
      "[461]\tvalidation_0-rmse:908.85736\tvalidation_1-rmse:0.00040\tvalidation_0-PyLoss:15.77914\tvalidation_1-PyLoss:4.59508\n",
      "[462]\tvalidation_0-rmse:908.85736\tvalidation_1-rmse:0.00040\tvalidation_0-PyLoss:15.77914\tvalidation_1-PyLoss:4.59508\n",
      "[463]\tvalidation_0-rmse:908.85736\tvalidation_1-rmse:0.00040\tvalidation_0-PyLoss:15.77914\tvalidation_1-PyLoss:4.59508\n",
      "[464]\tvalidation_0-rmse:908.85736\tvalidation_1-rmse:0.00040\tvalidation_0-PyLoss:15.77914\tvalidation_1-PyLoss:4.59508\n",
      "[465]\tvalidation_0-rmse:908.85736\tvalidation_1-rmse:0.00040\tvalidation_0-PyLoss:15.77914\tvalidation_1-PyLoss:4.59508\n",
      "[466]\tvalidation_0-rmse:908.85736\tvalidation_1-rmse:0.00040\tvalidation_0-PyLoss:15.77914\tvalidation_1-PyLoss:4.59508\n",
      "[467]\tvalidation_0-rmse:908.85736\tvalidation_1-rmse:0.00040\tvalidation_0-PyLoss:15.77914\tvalidation_1-PyLoss:4.59508\n",
      "[468]\tvalidation_0-rmse:908.85736\tvalidation_1-rmse:0.00040\tvalidation_0-PyLoss:15.77914\tvalidation_1-PyLoss:4.59508\n",
      "[469]\tvalidation_0-rmse:908.85736\tvalidation_1-rmse:0.00040\tvalidation_0-PyLoss:15.77914\tvalidation_1-PyLoss:4.59508\n",
      "[470]\tvalidation_0-rmse:908.85736\tvalidation_1-rmse:0.00040\tvalidation_0-PyLoss:15.77914\tvalidation_1-PyLoss:4.59508\n",
      "[471]\tvalidation_0-rmse:908.85736\tvalidation_1-rmse:0.00040\tvalidation_0-PyLoss:15.77914\tvalidation_1-PyLoss:4.59508\n",
      "[472]\tvalidation_0-rmse:908.85736\tvalidation_1-rmse:0.00040\tvalidation_0-PyLoss:15.77914\tvalidation_1-PyLoss:4.59508\n",
      "[473]\tvalidation_0-rmse:908.85736\tvalidation_1-rmse:0.00040\tvalidation_0-PyLoss:15.77914\tvalidation_1-PyLoss:4.59508\n",
      "[474]\tvalidation_0-rmse:908.85736\tvalidation_1-rmse:0.00040\tvalidation_0-PyLoss:15.77914\tvalidation_1-PyLoss:4.59508\n",
      "[475]\tvalidation_0-rmse:908.85736\tvalidation_1-rmse:0.00040\tvalidation_0-PyLoss:15.77914\tvalidation_1-PyLoss:4.59508\n",
      "[476]\tvalidation_0-rmse:908.85736\tvalidation_1-rmse:0.00040\tvalidation_0-PyLoss:15.77914\tvalidation_1-PyLoss:4.59508\n",
      "[477]\tvalidation_0-rmse:908.85736\tvalidation_1-rmse:0.00040\tvalidation_0-PyLoss:15.77914\tvalidation_1-PyLoss:4.59508\n",
      "[478]\tvalidation_0-rmse:908.85736\tvalidation_1-rmse:0.00040\tvalidation_0-PyLoss:15.77914\tvalidation_1-PyLoss:4.59508\n",
      "[479]\tvalidation_0-rmse:908.85736\tvalidation_1-rmse:0.00040\tvalidation_0-PyLoss:15.77914\tvalidation_1-PyLoss:4.59508\n",
      "[480]\tvalidation_0-rmse:908.85736\tvalidation_1-rmse:0.00040\tvalidation_0-PyLoss:15.77914\tvalidation_1-PyLoss:4.59508\n",
      "[481]\tvalidation_0-rmse:908.85736\tvalidation_1-rmse:0.00040\tvalidation_0-PyLoss:15.77914\tvalidation_1-PyLoss:4.59508\n",
      "[482]\tvalidation_0-rmse:908.85736\tvalidation_1-rmse:0.00040\tvalidation_0-PyLoss:15.77914\tvalidation_1-PyLoss:4.59508\n",
      "[483]\tvalidation_0-rmse:908.85736\tvalidation_1-rmse:0.00040\tvalidation_0-PyLoss:15.77914\tvalidation_1-PyLoss:4.59508\n",
      "[484]\tvalidation_0-rmse:908.85736\tvalidation_1-rmse:0.00040\tvalidation_0-PyLoss:15.77914\tvalidation_1-PyLoss:4.59508\n",
      "[485]\tvalidation_0-rmse:908.85736\tvalidation_1-rmse:0.00040\tvalidation_0-PyLoss:15.77914\tvalidation_1-PyLoss:4.59508\n",
      "[486]\tvalidation_0-rmse:908.85736\tvalidation_1-rmse:0.00040\tvalidation_0-PyLoss:15.77914\tvalidation_1-PyLoss:4.59508\n",
      "[487]\tvalidation_0-rmse:908.85736\tvalidation_1-rmse:0.00040\tvalidation_0-PyLoss:15.77914\tvalidation_1-PyLoss:4.59508\n",
      "[488]\tvalidation_0-rmse:908.85736\tvalidation_1-rmse:0.00040\tvalidation_0-PyLoss:15.77914\tvalidation_1-PyLoss:4.59508\n",
      "[489]\tvalidation_0-rmse:908.85736\tvalidation_1-rmse:0.00040\tvalidation_0-PyLoss:15.77914\tvalidation_1-PyLoss:4.59508\n",
      "[490]\tvalidation_0-rmse:908.85736\tvalidation_1-rmse:0.00040\tvalidation_0-PyLoss:15.77914\tvalidation_1-PyLoss:4.59508\n",
      "[491]\tvalidation_0-rmse:908.85736\tvalidation_1-rmse:0.00040\tvalidation_0-PyLoss:15.77914\tvalidation_1-PyLoss:4.59508\n",
      "[492]\tvalidation_0-rmse:908.85736\tvalidation_1-rmse:0.00040\tvalidation_0-PyLoss:15.77914\tvalidation_1-PyLoss:4.59508\n",
      "[493]\tvalidation_0-rmse:908.85736\tvalidation_1-rmse:0.00040\tvalidation_0-PyLoss:15.77914\tvalidation_1-PyLoss:4.59508\n",
      "[494]\tvalidation_0-rmse:908.85736\tvalidation_1-rmse:0.00040\tvalidation_0-PyLoss:15.77914\tvalidation_1-PyLoss:4.59508\n",
      "[495]\tvalidation_0-rmse:908.85736\tvalidation_1-rmse:0.00040\tvalidation_0-PyLoss:15.77914\tvalidation_1-PyLoss:4.59508\n",
      "[496]\tvalidation_0-rmse:908.85736\tvalidation_1-rmse:0.00040\tvalidation_0-PyLoss:15.77914\tvalidation_1-PyLoss:4.59508\n"
     ]
    },
    {
     "name": "stdout",
     "output_type": "stream",
     "text": [
      "[497]\tvalidation_0-rmse:908.85736\tvalidation_1-rmse:0.00040\tvalidation_0-PyLoss:15.77914\tvalidation_1-PyLoss:4.59508\n",
      "[498]\tvalidation_0-rmse:908.85736\tvalidation_1-rmse:0.00040\tvalidation_0-PyLoss:15.77914\tvalidation_1-PyLoss:4.59508\n",
      "[499]\tvalidation_0-rmse:908.85736\tvalidation_1-rmse:0.00040\tvalidation_0-PyLoss:15.77914\tvalidation_1-PyLoss:4.59508\n",
      "[500]\tvalidation_0-rmse:908.85736\tvalidation_1-rmse:0.00040\tvalidation_0-PyLoss:15.77914\tvalidation_1-PyLoss:4.59508\n",
      "[501]\tvalidation_0-rmse:908.85736\tvalidation_1-rmse:0.00040\tvalidation_0-PyLoss:15.77914\tvalidation_1-PyLoss:4.59508\n",
      "[502]\tvalidation_0-rmse:908.85736\tvalidation_1-rmse:0.00040\tvalidation_0-PyLoss:15.77914\tvalidation_1-PyLoss:4.59508\n",
      "[503]\tvalidation_0-rmse:908.85736\tvalidation_1-rmse:0.00040\tvalidation_0-PyLoss:15.77914\tvalidation_1-PyLoss:4.59508\n",
      "[504]\tvalidation_0-rmse:908.85736\tvalidation_1-rmse:0.00040\tvalidation_0-PyLoss:15.77914\tvalidation_1-PyLoss:4.59508\n",
      "[505]\tvalidation_0-rmse:908.85736\tvalidation_1-rmse:0.00040\tvalidation_0-PyLoss:15.77914\tvalidation_1-PyLoss:4.59508\n",
      "[506]\tvalidation_0-rmse:908.85736\tvalidation_1-rmse:0.00040\tvalidation_0-PyLoss:15.77914\tvalidation_1-PyLoss:4.59508\n",
      "[507]\tvalidation_0-rmse:908.85736\tvalidation_1-rmse:0.00040\tvalidation_0-PyLoss:15.77914\tvalidation_1-PyLoss:4.59508\n",
      "[508]\tvalidation_0-rmse:908.85736\tvalidation_1-rmse:0.00040\tvalidation_0-PyLoss:15.77914\tvalidation_1-PyLoss:4.59508\n",
      "[509]\tvalidation_0-rmse:908.85736\tvalidation_1-rmse:0.00040\tvalidation_0-PyLoss:15.77914\tvalidation_1-PyLoss:4.59508\n",
      "[510]\tvalidation_0-rmse:908.85736\tvalidation_1-rmse:0.00040\tvalidation_0-PyLoss:15.77914\tvalidation_1-PyLoss:4.59508\n",
      "[511]\tvalidation_0-rmse:908.85736\tvalidation_1-rmse:0.00040\tvalidation_0-PyLoss:15.77914\tvalidation_1-PyLoss:4.59508\n",
      "[512]\tvalidation_0-rmse:908.85736\tvalidation_1-rmse:0.00040\tvalidation_0-PyLoss:15.77914\tvalidation_1-PyLoss:4.59508\n",
      "[513]\tvalidation_0-rmse:908.85736\tvalidation_1-rmse:0.00040\tvalidation_0-PyLoss:15.77914\tvalidation_1-PyLoss:4.59508\n",
      "[514]\tvalidation_0-rmse:908.85736\tvalidation_1-rmse:0.00040\tvalidation_0-PyLoss:15.77914\tvalidation_1-PyLoss:4.59508\n",
      "[515]\tvalidation_0-rmse:908.85736\tvalidation_1-rmse:0.00040\tvalidation_0-PyLoss:15.77914\tvalidation_1-PyLoss:4.59508\n",
      "[516]\tvalidation_0-rmse:908.85736\tvalidation_1-rmse:0.00040\tvalidation_0-PyLoss:15.77914\tvalidation_1-PyLoss:4.59508\n",
      "[517]\tvalidation_0-rmse:908.85736\tvalidation_1-rmse:0.00040\tvalidation_0-PyLoss:15.77914\tvalidation_1-PyLoss:4.59508\n",
      "[518]\tvalidation_0-rmse:908.85736\tvalidation_1-rmse:0.00040\tvalidation_0-PyLoss:15.77914\tvalidation_1-PyLoss:4.59508\n",
      "[519]\tvalidation_0-rmse:908.85736\tvalidation_1-rmse:0.00040\tvalidation_0-PyLoss:15.77914\tvalidation_1-PyLoss:4.59508\n",
      "[520]\tvalidation_0-rmse:908.85736\tvalidation_1-rmse:0.00040\tvalidation_0-PyLoss:15.77914\tvalidation_1-PyLoss:4.59508\n",
      "[521]\tvalidation_0-rmse:908.85736\tvalidation_1-rmse:0.00040\tvalidation_0-PyLoss:15.77914\tvalidation_1-PyLoss:4.59508\n",
      "[522]\tvalidation_0-rmse:908.85736\tvalidation_1-rmse:0.00040\tvalidation_0-PyLoss:15.77914\tvalidation_1-PyLoss:4.59508\n",
      "[523]\tvalidation_0-rmse:908.85736\tvalidation_1-rmse:0.00040\tvalidation_0-PyLoss:15.77914\tvalidation_1-PyLoss:4.59508\n",
      "[524]\tvalidation_0-rmse:908.85736\tvalidation_1-rmse:0.00040\tvalidation_0-PyLoss:15.77914\tvalidation_1-PyLoss:4.59508\n",
      "[525]\tvalidation_0-rmse:908.85736\tvalidation_1-rmse:0.00040\tvalidation_0-PyLoss:15.77914\tvalidation_1-PyLoss:4.59508\n",
      "[526]\tvalidation_0-rmse:908.85736\tvalidation_1-rmse:0.00040\tvalidation_0-PyLoss:15.77914\tvalidation_1-PyLoss:4.59508\n",
      "[527]\tvalidation_0-rmse:908.85736\tvalidation_1-rmse:0.00040\tvalidation_0-PyLoss:15.77914\tvalidation_1-PyLoss:4.59508\n",
      "[528]\tvalidation_0-rmse:908.85736\tvalidation_1-rmse:0.00040\tvalidation_0-PyLoss:15.77914\tvalidation_1-PyLoss:4.59508\n",
      "[529]\tvalidation_0-rmse:908.85736\tvalidation_1-rmse:0.00040\tvalidation_0-PyLoss:15.77914\tvalidation_1-PyLoss:4.59508\n",
      "[530]\tvalidation_0-rmse:908.85736\tvalidation_1-rmse:0.00040\tvalidation_0-PyLoss:15.77914\tvalidation_1-PyLoss:4.59508\n",
      "[531]\tvalidation_0-rmse:908.85736\tvalidation_1-rmse:0.00040\tvalidation_0-PyLoss:15.77914\tvalidation_1-PyLoss:4.59508\n",
      "[532]\tvalidation_0-rmse:908.85736\tvalidation_1-rmse:0.00040\tvalidation_0-PyLoss:15.77914\tvalidation_1-PyLoss:4.59508\n",
      "[533]\tvalidation_0-rmse:908.85736\tvalidation_1-rmse:0.00040\tvalidation_0-PyLoss:15.77914\tvalidation_1-PyLoss:4.59508\n",
      "[534]\tvalidation_0-rmse:908.85736\tvalidation_1-rmse:0.00040\tvalidation_0-PyLoss:15.77914\tvalidation_1-PyLoss:4.59508\n",
      "[535]\tvalidation_0-rmse:908.85736\tvalidation_1-rmse:0.00040\tvalidation_0-PyLoss:15.77914\tvalidation_1-PyLoss:4.59508\n",
      "[536]\tvalidation_0-rmse:908.85736\tvalidation_1-rmse:0.00040\tvalidation_0-PyLoss:15.77914\tvalidation_1-PyLoss:4.59508\n",
      "[537]\tvalidation_0-rmse:908.85736\tvalidation_1-rmse:0.00040\tvalidation_0-PyLoss:15.77914\tvalidation_1-PyLoss:4.59508\n",
      "[538]\tvalidation_0-rmse:908.85736\tvalidation_1-rmse:0.00040\tvalidation_0-PyLoss:15.77914\tvalidation_1-PyLoss:4.59508\n",
      "[539]\tvalidation_0-rmse:908.85736\tvalidation_1-rmse:0.00040\tvalidation_0-PyLoss:15.77914\tvalidation_1-PyLoss:4.59508\n",
      "[540]\tvalidation_0-rmse:908.85736\tvalidation_1-rmse:0.00040\tvalidation_0-PyLoss:15.77914\tvalidation_1-PyLoss:4.59508\n",
      "[541]\tvalidation_0-rmse:908.85736\tvalidation_1-rmse:0.00040\tvalidation_0-PyLoss:15.77914\tvalidation_1-PyLoss:4.59508\n",
      "[542]\tvalidation_0-rmse:908.85736\tvalidation_1-rmse:0.00040\tvalidation_0-PyLoss:15.77914\tvalidation_1-PyLoss:4.59508\n",
      "[543]\tvalidation_0-rmse:908.85736\tvalidation_1-rmse:0.00040\tvalidation_0-PyLoss:15.77914\tvalidation_1-PyLoss:4.59508\n",
      "[544]\tvalidation_0-rmse:908.85736\tvalidation_1-rmse:0.00040\tvalidation_0-PyLoss:15.77914\tvalidation_1-PyLoss:4.59508\n",
      "[545]\tvalidation_0-rmse:908.85736\tvalidation_1-rmse:0.00040\tvalidation_0-PyLoss:15.77914\tvalidation_1-PyLoss:4.59508\n",
      "[546]\tvalidation_0-rmse:908.85736\tvalidation_1-rmse:0.00040\tvalidation_0-PyLoss:15.77914\tvalidation_1-PyLoss:4.59508\n",
      "[547]\tvalidation_0-rmse:908.85736\tvalidation_1-rmse:0.00040\tvalidation_0-PyLoss:15.77914\tvalidation_1-PyLoss:4.59508\n",
      "[548]\tvalidation_0-rmse:908.85736\tvalidation_1-rmse:0.00040\tvalidation_0-PyLoss:15.77914\tvalidation_1-PyLoss:4.59508\n",
      "[549]\tvalidation_0-rmse:908.85736\tvalidation_1-rmse:0.00040\tvalidation_0-PyLoss:15.77914\tvalidation_1-PyLoss:4.59508\n",
      "[550]\tvalidation_0-rmse:908.85736\tvalidation_1-rmse:0.00040\tvalidation_0-PyLoss:15.77914\tvalidation_1-PyLoss:4.59508\n",
      "[551]\tvalidation_0-rmse:908.85736\tvalidation_1-rmse:0.00040\tvalidation_0-PyLoss:15.77914\tvalidation_1-PyLoss:4.59508\n",
      "[552]\tvalidation_0-rmse:908.85736\tvalidation_1-rmse:0.00040\tvalidation_0-PyLoss:15.77914\tvalidation_1-PyLoss:4.59508\n",
      "[553]\tvalidation_0-rmse:908.85736\tvalidation_1-rmse:0.00040\tvalidation_0-PyLoss:15.77914\tvalidation_1-PyLoss:4.59508\n",
      "[554]\tvalidation_0-rmse:908.85736\tvalidation_1-rmse:0.00040\tvalidation_0-PyLoss:15.77914\tvalidation_1-PyLoss:4.59508\n",
      "[555]\tvalidation_0-rmse:908.85736\tvalidation_1-rmse:0.00040\tvalidation_0-PyLoss:15.77914\tvalidation_1-PyLoss:4.59508\n",
      "[556]\tvalidation_0-rmse:908.85736\tvalidation_1-rmse:0.00040\tvalidation_0-PyLoss:15.77914\tvalidation_1-PyLoss:4.59508\n",
      "[557]\tvalidation_0-rmse:908.85736\tvalidation_1-rmse:0.00040\tvalidation_0-PyLoss:15.77914\tvalidation_1-PyLoss:4.59508\n",
      "[558]\tvalidation_0-rmse:908.85736\tvalidation_1-rmse:0.00040\tvalidation_0-PyLoss:15.77914\tvalidation_1-PyLoss:4.59508\n",
      "[559]\tvalidation_0-rmse:908.85736\tvalidation_1-rmse:0.00040\tvalidation_0-PyLoss:15.77914\tvalidation_1-PyLoss:4.59508\n",
      "[560]\tvalidation_0-rmse:908.85736\tvalidation_1-rmse:0.00040\tvalidation_0-PyLoss:15.77914\tvalidation_1-PyLoss:4.59508\n",
      "[561]\tvalidation_0-rmse:908.85736\tvalidation_1-rmse:0.00040\tvalidation_0-PyLoss:15.77914\tvalidation_1-PyLoss:4.59508\n",
      "[562]\tvalidation_0-rmse:908.85736\tvalidation_1-rmse:0.00040\tvalidation_0-PyLoss:15.77914\tvalidation_1-PyLoss:4.59508\n",
      "[563]\tvalidation_0-rmse:908.85736\tvalidation_1-rmse:0.00040\tvalidation_0-PyLoss:15.77914\tvalidation_1-PyLoss:4.59508\n",
      "[564]\tvalidation_0-rmse:908.85736\tvalidation_1-rmse:0.00040\tvalidation_0-PyLoss:15.77914\tvalidation_1-PyLoss:4.59508\n",
      "[565]\tvalidation_0-rmse:908.85736\tvalidation_1-rmse:0.00040\tvalidation_0-PyLoss:15.77914\tvalidation_1-PyLoss:4.59508\n",
      "[566]\tvalidation_0-rmse:908.85736\tvalidation_1-rmse:0.00040\tvalidation_0-PyLoss:15.77914\tvalidation_1-PyLoss:4.59508\n",
      "[567]\tvalidation_0-rmse:908.85736\tvalidation_1-rmse:0.00040\tvalidation_0-PyLoss:15.77914\tvalidation_1-PyLoss:4.59508\n"
     ]
    },
    {
     "name": "stdout",
     "output_type": "stream",
     "text": [
      "[568]\tvalidation_0-rmse:908.85736\tvalidation_1-rmse:0.00040\tvalidation_0-PyLoss:15.77914\tvalidation_1-PyLoss:4.59508\n",
      "[569]\tvalidation_0-rmse:908.85736\tvalidation_1-rmse:0.00040\tvalidation_0-PyLoss:15.77914\tvalidation_1-PyLoss:4.59508\n",
      "[570]\tvalidation_0-rmse:908.85736\tvalidation_1-rmse:0.00040\tvalidation_0-PyLoss:15.77914\tvalidation_1-PyLoss:4.59508\n",
      "[571]\tvalidation_0-rmse:908.85736\tvalidation_1-rmse:0.00040\tvalidation_0-PyLoss:15.77914\tvalidation_1-PyLoss:4.59508\n",
      "[572]\tvalidation_0-rmse:908.85736\tvalidation_1-rmse:0.00040\tvalidation_0-PyLoss:15.77914\tvalidation_1-PyLoss:4.59508\n",
      "[573]\tvalidation_0-rmse:908.85736\tvalidation_1-rmse:0.00040\tvalidation_0-PyLoss:15.77914\tvalidation_1-PyLoss:4.59508\n",
      "[574]\tvalidation_0-rmse:908.85736\tvalidation_1-rmse:0.00040\tvalidation_0-PyLoss:15.77914\tvalidation_1-PyLoss:4.59508\n",
      "[575]\tvalidation_0-rmse:908.85736\tvalidation_1-rmse:0.00040\tvalidation_0-PyLoss:15.77914\tvalidation_1-PyLoss:4.59508\n",
      "[576]\tvalidation_0-rmse:908.85736\tvalidation_1-rmse:0.00040\tvalidation_0-PyLoss:15.77914\tvalidation_1-PyLoss:4.59508\n",
      "[577]\tvalidation_0-rmse:908.85736\tvalidation_1-rmse:0.00040\tvalidation_0-PyLoss:15.77914\tvalidation_1-PyLoss:4.59508\n",
      "[578]\tvalidation_0-rmse:908.85736\tvalidation_1-rmse:0.00040\tvalidation_0-PyLoss:15.77914\tvalidation_1-PyLoss:4.59508\n",
      "[579]\tvalidation_0-rmse:908.85736\tvalidation_1-rmse:0.00040\tvalidation_0-PyLoss:15.77914\tvalidation_1-PyLoss:4.59508\n",
      "[580]\tvalidation_0-rmse:908.85736\tvalidation_1-rmse:0.00040\tvalidation_0-PyLoss:15.77914\tvalidation_1-PyLoss:4.59508\n",
      "[581]\tvalidation_0-rmse:908.85736\tvalidation_1-rmse:0.00040\tvalidation_0-PyLoss:15.77914\tvalidation_1-PyLoss:4.59508\n",
      "[582]\tvalidation_0-rmse:908.85736\tvalidation_1-rmse:0.00040\tvalidation_0-PyLoss:15.77914\tvalidation_1-PyLoss:4.59508\n",
      "[583]\tvalidation_0-rmse:908.85736\tvalidation_1-rmse:0.00040\tvalidation_0-PyLoss:15.77914\tvalidation_1-PyLoss:4.59508\n",
      "[584]\tvalidation_0-rmse:908.85736\tvalidation_1-rmse:0.00040\tvalidation_0-PyLoss:15.77914\tvalidation_1-PyLoss:4.59508\n",
      "[585]\tvalidation_0-rmse:908.85736\tvalidation_1-rmse:0.00040\tvalidation_0-PyLoss:15.77914\tvalidation_1-PyLoss:4.59508\n",
      "[586]\tvalidation_0-rmse:908.85736\tvalidation_1-rmse:0.00040\tvalidation_0-PyLoss:15.77914\tvalidation_1-PyLoss:4.59508\n",
      "[587]\tvalidation_0-rmse:908.85736\tvalidation_1-rmse:0.00040\tvalidation_0-PyLoss:15.77914\tvalidation_1-PyLoss:4.59508\n",
      "[588]\tvalidation_0-rmse:908.85736\tvalidation_1-rmse:0.00040\tvalidation_0-PyLoss:15.77914\tvalidation_1-PyLoss:4.59508\n",
      "[589]\tvalidation_0-rmse:908.85736\tvalidation_1-rmse:0.00040\tvalidation_0-PyLoss:15.77914\tvalidation_1-PyLoss:4.59508\n",
      "[590]\tvalidation_0-rmse:908.85736\tvalidation_1-rmse:0.00040\tvalidation_0-PyLoss:15.77914\tvalidation_1-PyLoss:4.59508\n",
      "[591]\tvalidation_0-rmse:908.85736\tvalidation_1-rmse:0.00040\tvalidation_0-PyLoss:15.77914\tvalidation_1-PyLoss:4.59508\n",
      "[592]\tvalidation_0-rmse:908.85736\tvalidation_1-rmse:0.00040\tvalidation_0-PyLoss:15.77914\tvalidation_1-PyLoss:4.59508\n",
      "[593]\tvalidation_0-rmse:908.85736\tvalidation_1-rmse:0.00040\tvalidation_0-PyLoss:15.77914\tvalidation_1-PyLoss:4.59508\n",
      "[594]\tvalidation_0-rmse:908.85736\tvalidation_1-rmse:0.00040\tvalidation_0-PyLoss:15.77914\tvalidation_1-PyLoss:4.59508\n",
      "[595]\tvalidation_0-rmse:908.85736\tvalidation_1-rmse:0.00040\tvalidation_0-PyLoss:15.77914\tvalidation_1-PyLoss:4.59508\n",
      "[596]\tvalidation_0-rmse:908.85736\tvalidation_1-rmse:0.00040\tvalidation_0-PyLoss:15.77914\tvalidation_1-PyLoss:4.59508\n",
      "[597]\tvalidation_0-rmse:908.85736\tvalidation_1-rmse:0.00040\tvalidation_0-PyLoss:15.77914\tvalidation_1-PyLoss:4.59508\n",
      "[598]\tvalidation_0-rmse:908.85736\tvalidation_1-rmse:0.00040\tvalidation_0-PyLoss:15.77914\tvalidation_1-PyLoss:4.59508\n",
      "[599]\tvalidation_0-rmse:908.85736\tvalidation_1-rmse:0.00040\tvalidation_0-PyLoss:15.77914\tvalidation_1-PyLoss:4.59508\n",
      "[600]\tvalidation_0-rmse:908.85736\tvalidation_1-rmse:0.00040\tvalidation_0-PyLoss:15.77914\tvalidation_1-PyLoss:4.59508\n",
      "[601]\tvalidation_0-rmse:908.85736\tvalidation_1-rmse:0.00040\tvalidation_0-PyLoss:15.77914\tvalidation_1-PyLoss:4.59508\n",
      "[602]\tvalidation_0-rmse:908.85736\tvalidation_1-rmse:0.00040\tvalidation_0-PyLoss:15.77914\tvalidation_1-PyLoss:4.59508\n",
      "[603]\tvalidation_0-rmse:908.85736\tvalidation_1-rmse:0.00040\tvalidation_0-PyLoss:15.77914\tvalidation_1-PyLoss:4.59508\n",
      "[604]\tvalidation_0-rmse:908.85736\tvalidation_1-rmse:0.00040\tvalidation_0-PyLoss:15.77914\tvalidation_1-PyLoss:4.59508\n",
      "[605]\tvalidation_0-rmse:908.85736\tvalidation_1-rmse:0.00040\tvalidation_0-PyLoss:15.77914\tvalidation_1-PyLoss:4.59508\n",
      "[606]\tvalidation_0-rmse:908.85736\tvalidation_1-rmse:0.00040\tvalidation_0-PyLoss:15.77914\tvalidation_1-PyLoss:4.59508\n",
      "[607]\tvalidation_0-rmse:908.85736\tvalidation_1-rmse:0.00040\tvalidation_0-PyLoss:15.77914\tvalidation_1-PyLoss:4.59508\n",
      "[608]\tvalidation_0-rmse:908.85736\tvalidation_1-rmse:0.00040\tvalidation_0-PyLoss:15.77914\tvalidation_1-PyLoss:4.59508\n",
      "[609]\tvalidation_0-rmse:908.85736\tvalidation_1-rmse:0.00040\tvalidation_0-PyLoss:15.77914\tvalidation_1-PyLoss:4.59508\n",
      "[610]\tvalidation_0-rmse:908.85736\tvalidation_1-rmse:0.00040\tvalidation_0-PyLoss:15.77914\tvalidation_1-PyLoss:4.59508\n",
      "[611]\tvalidation_0-rmse:908.85736\tvalidation_1-rmse:0.00040\tvalidation_0-PyLoss:15.77914\tvalidation_1-PyLoss:4.59508\n",
      "[612]\tvalidation_0-rmse:908.85736\tvalidation_1-rmse:0.00040\tvalidation_0-PyLoss:15.77914\tvalidation_1-PyLoss:4.59508\n",
      "[613]\tvalidation_0-rmse:908.85736\tvalidation_1-rmse:0.00040\tvalidation_0-PyLoss:15.77914\tvalidation_1-PyLoss:4.59508\n",
      "[614]\tvalidation_0-rmse:908.85736\tvalidation_1-rmse:0.00040\tvalidation_0-PyLoss:15.77914\tvalidation_1-PyLoss:4.59508\n",
      "[615]\tvalidation_0-rmse:908.85736\tvalidation_1-rmse:0.00040\tvalidation_0-PyLoss:15.77914\tvalidation_1-PyLoss:4.59508\n",
      "[616]\tvalidation_0-rmse:908.85736\tvalidation_1-rmse:0.00040\tvalidation_0-PyLoss:15.77914\tvalidation_1-PyLoss:4.59508\n",
      "[617]\tvalidation_0-rmse:908.85736\tvalidation_1-rmse:0.00040\tvalidation_0-PyLoss:15.77914\tvalidation_1-PyLoss:4.59508\n",
      "[618]\tvalidation_0-rmse:908.85736\tvalidation_1-rmse:0.00040\tvalidation_0-PyLoss:15.77914\tvalidation_1-PyLoss:4.59508\n",
      "[619]\tvalidation_0-rmse:908.85736\tvalidation_1-rmse:0.00040\tvalidation_0-PyLoss:15.77914\tvalidation_1-PyLoss:4.59508\n",
      "[620]\tvalidation_0-rmse:908.85736\tvalidation_1-rmse:0.00040\tvalidation_0-PyLoss:15.77914\tvalidation_1-PyLoss:4.59508\n",
      "[621]\tvalidation_0-rmse:908.85736\tvalidation_1-rmse:0.00040\tvalidation_0-PyLoss:15.77914\tvalidation_1-PyLoss:4.59508\n",
      "[622]\tvalidation_0-rmse:908.85736\tvalidation_1-rmse:0.00040\tvalidation_0-PyLoss:15.77914\tvalidation_1-PyLoss:4.59508\n",
      "[623]\tvalidation_0-rmse:908.85736\tvalidation_1-rmse:0.00040\tvalidation_0-PyLoss:15.77914\tvalidation_1-PyLoss:4.59508\n",
      "[624]\tvalidation_0-rmse:908.85736\tvalidation_1-rmse:0.00040\tvalidation_0-PyLoss:15.77914\tvalidation_1-PyLoss:4.59508\n",
      "[625]\tvalidation_0-rmse:908.85736\tvalidation_1-rmse:0.00040\tvalidation_0-PyLoss:15.77914\tvalidation_1-PyLoss:4.59508\n",
      "[626]\tvalidation_0-rmse:908.85736\tvalidation_1-rmse:0.00040\tvalidation_0-PyLoss:15.77914\tvalidation_1-PyLoss:4.59508\n",
      "[627]\tvalidation_0-rmse:908.85736\tvalidation_1-rmse:0.00040\tvalidation_0-PyLoss:15.77914\tvalidation_1-PyLoss:4.59508\n",
      "[628]\tvalidation_0-rmse:908.85736\tvalidation_1-rmse:0.00040\tvalidation_0-PyLoss:15.77914\tvalidation_1-PyLoss:4.59508\n",
      "[629]\tvalidation_0-rmse:908.85736\tvalidation_1-rmse:0.00040\tvalidation_0-PyLoss:15.77914\tvalidation_1-PyLoss:4.59508\n",
      "[630]\tvalidation_0-rmse:908.85736\tvalidation_1-rmse:0.00040\tvalidation_0-PyLoss:15.77914\tvalidation_1-PyLoss:4.59508\n",
      "[631]\tvalidation_0-rmse:908.85736\tvalidation_1-rmse:0.00040\tvalidation_0-PyLoss:15.77914\tvalidation_1-PyLoss:4.59508\n",
      "[632]\tvalidation_0-rmse:908.85736\tvalidation_1-rmse:0.00040\tvalidation_0-PyLoss:15.77914\tvalidation_1-PyLoss:4.59508\n",
      "[633]\tvalidation_0-rmse:908.85736\tvalidation_1-rmse:0.00040\tvalidation_0-PyLoss:15.77914\tvalidation_1-PyLoss:4.59508\n",
      "[634]\tvalidation_0-rmse:908.85736\tvalidation_1-rmse:0.00040\tvalidation_0-PyLoss:15.77914\tvalidation_1-PyLoss:4.59508\n",
      "[635]\tvalidation_0-rmse:908.85736\tvalidation_1-rmse:0.00040\tvalidation_0-PyLoss:15.77914\tvalidation_1-PyLoss:4.59508\n",
      "[636]\tvalidation_0-rmse:908.85736\tvalidation_1-rmse:0.00040\tvalidation_0-PyLoss:15.77914\tvalidation_1-PyLoss:4.59508\n",
      "[637]\tvalidation_0-rmse:908.85736\tvalidation_1-rmse:0.00040\tvalidation_0-PyLoss:15.77914\tvalidation_1-PyLoss:4.59508\n",
      "[638]\tvalidation_0-rmse:908.85736\tvalidation_1-rmse:0.00040\tvalidation_0-PyLoss:15.77914\tvalidation_1-PyLoss:4.59508\n"
     ]
    },
    {
     "name": "stdout",
     "output_type": "stream",
     "text": [
      "[639]\tvalidation_0-rmse:908.85736\tvalidation_1-rmse:0.00040\tvalidation_0-PyLoss:15.77914\tvalidation_1-PyLoss:4.59508\n",
      "[640]\tvalidation_0-rmse:908.85736\tvalidation_1-rmse:0.00040\tvalidation_0-PyLoss:15.77914\tvalidation_1-PyLoss:4.59508\n",
      "[641]\tvalidation_0-rmse:908.85736\tvalidation_1-rmse:0.00040\tvalidation_0-PyLoss:15.77914\tvalidation_1-PyLoss:4.59508\n",
      "[642]\tvalidation_0-rmse:908.85736\tvalidation_1-rmse:0.00040\tvalidation_0-PyLoss:15.77914\tvalidation_1-PyLoss:4.59508\n",
      "[643]\tvalidation_0-rmse:908.85736\tvalidation_1-rmse:0.00040\tvalidation_0-PyLoss:15.77914\tvalidation_1-PyLoss:4.59508\n",
      "[644]\tvalidation_0-rmse:908.85736\tvalidation_1-rmse:0.00040\tvalidation_0-PyLoss:15.77914\tvalidation_1-PyLoss:4.59508\n",
      "[645]\tvalidation_0-rmse:908.85736\tvalidation_1-rmse:0.00040\tvalidation_0-PyLoss:15.77914\tvalidation_1-PyLoss:4.59508\n",
      "[646]\tvalidation_0-rmse:908.85736\tvalidation_1-rmse:0.00040\tvalidation_0-PyLoss:15.77914\tvalidation_1-PyLoss:4.59508\n",
      "[647]\tvalidation_0-rmse:908.85736\tvalidation_1-rmse:0.00040\tvalidation_0-PyLoss:15.77914\tvalidation_1-PyLoss:4.59508\n",
      "[648]\tvalidation_0-rmse:908.85736\tvalidation_1-rmse:0.00040\tvalidation_0-PyLoss:15.77914\tvalidation_1-PyLoss:4.59508\n",
      "[649]\tvalidation_0-rmse:908.85736\tvalidation_1-rmse:0.00040\tvalidation_0-PyLoss:15.77914\tvalidation_1-PyLoss:4.59508\n",
      "[650]\tvalidation_0-rmse:908.85736\tvalidation_1-rmse:0.00040\tvalidation_0-PyLoss:15.77914\tvalidation_1-PyLoss:4.59508\n",
      "[651]\tvalidation_0-rmse:908.85736\tvalidation_1-rmse:0.00040\tvalidation_0-PyLoss:15.77914\tvalidation_1-PyLoss:4.59508\n",
      "[652]\tvalidation_0-rmse:908.85736\tvalidation_1-rmse:0.00040\tvalidation_0-PyLoss:15.77914\tvalidation_1-PyLoss:4.59508\n",
      "[653]\tvalidation_0-rmse:908.85736\tvalidation_1-rmse:0.00040\tvalidation_0-PyLoss:15.77914\tvalidation_1-PyLoss:4.59508\n",
      "[654]\tvalidation_0-rmse:908.85736\tvalidation_1-rmse:0.00040\tvalidation_0-PyLoss:15.77914\tvalidation_1-PyLoss:4.59508\n",
      "[655]\tvalidation_0-rmse:908.85736\tvalidation_1-rmse:0.00040\tvalidation_0-PyLoss:15.77914\tvalidation_1-PyLoss:4.59508\n",
      "[656]\tvalidation_0-rmse:908.85736\tvalidation_1-rmse:0.00040\tvalidation_0-PyLoss:15.77914\tvalidation_1-PyLoss:4.59508\n",
      "[657]\tvalidation_0-rmse:908.85736\tvalidation_1-rmse:0.00040\tvalidation_0-PyLoss:15.77914\tvalidation_1-PyLoss:4.59508\n",
      "[658]\tvalidation_0-rmse:908.85736\tvalidation_1-rmse:0.00040\tvalidation_0-PyLoss:15.77914\tvalidation_1-PyLoss:4.59508\n",
      "[659]\tvalidation_0-rmse:908.85736\tvalidation_1-rmse:0.00040\tvalidation_0-PyLoss:15.77914\tvalidation_1-PyLoss:4.59508\n",
      "[660]\tvalidation_0-rmse:908.85736\tvalidation_1-rmse:0.00040\tvalidation_0-PyLoss:15.77914\tvalidation_1-PyLoss:4.59508\n",
      "[661]\tvalidation_0-rmse:908.85736\tvalidation_1-rmse:0.00040\tvalidation_0-PyLoss:15.77914\tvalidation_1-PyLoss:4.59508\n",
      "[662]\tvalidation_0-rmse:908.85736\tvalidation_1-rmse:0.00040\tvalidation_0-PyLoss:15.77914\tvalidation_1-PyLoss:4.59508\n",
      "[663]\tvalidation_0-rmse:908.85736\tvalidation_1-rmse:0.00040\tvalidation_0-PyLoss:15.77914\tvalidation_1-PyLoss:4.59508\n",
      "[664]\tvalidation_0-rmse:908.85736\tvalidation_1-rmse:0.00040\tvalidation_0-PyLoss:15.77914\tvalidation_1-PyLoss:4.59508\n",
      "[665]\tvalidation_0-rmse:908.85736\tvalidation_1-rmse:0.00040\tvalidation_0-PyLoss:15.77914\tvalidation_1-PyLoss:4.59508\n",
      "[666]\tvalidation_0-rmse:908.85736\tvalidation_1-rmse:0.00040\tvalidation_0-PyLoss:15.77914\tvalidation_1-PyLoss:4.59508\n",
      "[667]\tvalidation_0-rmse:908.85736\tvalidation_1-rmse:0.00040\tvalidation_0-PyLoss:15.77914\tvalidation_1-PyLoss:4.59508\n",
      "[668]\tvalidation_0-rmse:908.85736\tvalidation_1-rmse:0.00040\tvalidation_0-PyLoss:15.77914\tvalidation_1-PyLoss:4.59508\n",
      "[669]\tvalidation_0-rmse:908.85736\tvalidation_1-rmse:0.00040\tvalidation_0-PyLoss:15.77914\tvalidation_1-PyLoss:4.59508\n",
      "[670]\tvalidation_0-rmse:908.85736\tvalidation_1-rmse:0.00040\tvalidation_0-PyLoss:15.77914\tvalidation_1-PyLoss:4.59508\n",
      "[671]\tvalidation_0-rmse:908.85736\tvalidation_1-rmse:0.00040\tvalidation_0-PyLoss:15.77914\tvalidation_1-PyLoss:4.59508\n",
      "[672]\tvalidation_0-rmse:908.85736\tvalidation_1-rmse:0.00040\tvalidation_0-PyLoss:15.77914\tvalidation_1-PyLoss:4.59508\n",
      "[673]\tvalidation_0-rmse:908.85736\tvalidation_1-rmse:0.00040\tvalidation_0-PyLoss:15.77914\tvalidation_1-PyLoss:4.59508\n",
      "[674]\tvalidation_0-rmse:908.85736\tvalidation_1-rmse:0.00040\tvalidation_0-PyLoss:15.77914\tvalidation_1-PyLoss:4.59508\n",
      "[675]\tvalidation_0-rmse:908.85736\tvalidation_1-rmse:0.00040\tvalidation_0-PyLoss:15.77914\tvalidation_1-PyLoss:4.59508\n",
      "[676]\tvalidation_0-rmse:908.85736\tvalidation_1-rmse:0.00040\tvalidation_0-PyLoss:15.77914\tvalidation_1-PyLoss:4.59508\n",
      "[677]\tvalidation_0-rmse:908.85736\tvalidation_1-rmse:0.00040\tvalidation_0-PyLoss:15.77914\tvalidation_1-PyLoss:4.59508\n",
      "[678]\tvalidation_0-rmse:908.85736\tvalidation_1-rmse:0.00040\tvalidation_0-PyLoss:15.77914\tvalidation_1-PyLoss:4.59508\n",
      "[679]\tvalidation_0-rmse:908.85736\tvalidation_1-rmse:0.00040\tvalidation_0-PyLoss:15.77914\tvalidation_1-PyLoss:4.59508\n",
      "[680]\tvalidation_0-rmse:908.85736\tvalidation_1-rmse:0.00040\tvalidation_0-PyLoss:15.77914\tvalidation_1-PyLoss:4.59508\n",
      "[681]\tvalidation_0-rmse:908.85736\tvalidation_1-rmse:0.00040\tvalidation_0-PyLoss:15.77914\tvalidation_1-PyLoss:4.59508\n",
      "[682]\tvalidation_0-rmse:908.85736\tvalidation_1-rmse:0.00040\tvalidation_0-PyLoss:15.77914\tvalidation_1-PyLoss:4.59508\n",
      "[683]\tvalidation_0-rmse:908.85736\tvalidation_1-rmse:0.00040\tvalidation_0-PyLoss:15.77914\tvalidation_1-PyLoss:4.59508\n",
      "[684]\tvalidation_0-rmse:908.85736\tvalidation_1-rmse:0.00040\tvalidation_0-PyLoss:15.77914\tvalidation_1-PyLoss:4.59508\n",
      "[685]\tvalidation_0-rmse:908.85736\tvalidation_1-rmse:0.00040\tvalidation_0-PyLoss:15.77914\tvalidation_1-PyLoss:4.59508\n",
      "[686]\tvalidation_0-rmse:908.85736\tvalidation_1-rmse:0.00040\tvalidation_0-PyLoss:15.77914\tvalidation_1-PyLoss:4.59508\n",
      "[687]\tvalidation_0-rmse:908.85736\tvalidation_1-rmse:0.00040\tvalidation_0-PyLoss:15.77914\tvalidation_1-PyLoss:4.59508\n",
      "[688]\tvalidation_0-rmse:908.85736\tvalidation_1-rmse:0.00040\tvalidation_0-PyLoss:15.77914\tvalidation_1-PyLoss:4.59508\n",
      "[689]\tvalidation_0-rmse:908.85736\tvalidation_1-rmse:0.00040\tvalidation_0-PyLoss:15.77914\tvalidation_1-PyLoss:4.59508\n",
      "[690]\tvalidation_0-rmse:908.85736\tvalidation_1-rmse:0.00040\tvalidation_0-PyLoss:15.77914\tvalidation_1-PyLoss:4.59508\n",
      "[691]\tvalidation_0-rmse:908.85736\tvalidation_1-rmse:0.00040\tvalidation_0-PyLoss:15.77914\tvalidation_1-PyLoss:4.59508\n",
      "[692]\tvalidation_0-rmse:908.85736\tvalidation_1-rmse:0.00040\tvalidation_0-PyLoss:15.77914\tvalidation_1-PyLoss:4.59508\n",
      "[693]\tvalidation_0-rmse:908.85736\tvalidation_1-rmse:0.00040\tvalidation_0-PyLoss:15.77914\tvalidation_1-PyLoss:4.59508\n",
      "[694]\tvalidation_0-rmse:908.85736\tvalidation_1-rmse:0.00040\tvalidation_0-PyLoss:15.77914\tvalidation_1-PyLoss:4.59508\n",
      "[695]\tvalidation_0-rmse:908.85736\tvalidation_1-rmse:0.00040\tvalidation_0-PyLoss:15.77914\tvalidation_1-PyLoss:4.59508\n",
      "[696]\tvalidation_0-rmse:908.85736\tvalidation_1-rmse:0.00040\tvalidation_0-PyLoss:15.77914\tvalidation_1-PyLoss:4.59508\n",
      "[697]\tvalidation_0-rmse:908.85736\tvalidation_1-rmse:0.00040\tvalidation_0-PyLoss:15.77914\tvalidation_1-PyLoss:4.59508\n",
      "[698]\tvalidation_0-rmse:908.85736\tvalidation_1-rmse:0.00040\tvalidation_0-PyLoss:15.77914\tvalidation_1-PyLoss:4.59508\n",
      "[699]\tvalidation_0-rmse:908.85736\tvalidation_1-rmse:0.00040\tvalidation_0-PyLoss:15.77914\tvalidation_1-PyLoss:4.59508\n",
      "[700]\tvalidation_0-rmse:908.85736\tvalidation_1-rmse:0.00040\tvalidation_0-PyLoss:15.77914\tvalidation_1-PyLoss:4.59508\n",
      "[701]\tvalidation_0-rmse:908.85736\tvalidation_1-rmse:0.00040\tvalidation_0-PyLoss:15.77914\tvalidation_1-PyLoss:4.59508\n",
      "[702]\tvalidation_0-rmse:908.85736\tvalidation_1-rmse:0.00040\tvalidation_0-PyLoss:15.77914\tvalidation_1-PyLoss:4.59508\n",
      "[703]\tvalidation_0-rmse:908.85736\tvalidation_1-rmse:0.00040\tvalidation_0-PyLoss:15.77914\tvalidation_1-PyLoss:4.59508\n",
      "[704]\tvalidation_0-rmse:908.85736\tvalidation_1-rmse:0.00040\tvalidation_0-PyLoss:15.77914\tvalidation_1-PyLoss:4.59508\n",
      "[705]\tvalidation_0-rmse:908.85736\tvalidation_1-rmse:0.00040\tvalidation_0-PyLoss:15.77914\tvalidation_1-PyLoss:4.59508\n",
      "[706]\tvalidation_0-rmse:908.85736\tvalidation_1-rmse:0.00040\tvalidation_0-PyLoss:15.77914\tvalidation_1-PyLoss:4.59508\n",
      "[707]\tvalidation_0-rmse:908.85736\tvalidation_1-rmse:0.00040\tvalidation_0-PyLoss:15.77914\tvalidation_1-PyLoss:4.59508\n",
      "[708]\tvalidation_0-rmse:908.85736\tvalidation_1-rmse:0.00040\tvalidation_0-PyLoss:15.77914\tvalidation_1-PyLoss:4.59508\n",
      "[709]\tvalidation_0-rmse:908.85736\tvalidation_1-rmse:0.00040\tvalidation_0-PyLoss:15.77914\tvalidation_1-PyLoss:4.59508\n"
     ]
    },
    {
     "name": "stdout",
     "output_type": "stream",
     "text": [
      "[710]\tvalidation_0-rmse:908.85736\tvalidation_1-rmse:0.00040\tvalidation_0-PyLoss:15.77914\tvalidation_1-PyLoss:4.59508\n",
      "[711]\tvalidation_0-rmse:908.85736\tvalidation_1-rmse:0.00040\tvalidation_0-PyLoss:15.77914\tvalidation_1-PyLoss:4.59508\n",
      "[712]\tvalidation_0-rmse:908.85736\tvalidation_1-rmse:0.00040\tvalidation_0-PyLoss:15.77914\tvalidation_1-PyLoss:4.59508\n",
      "[713]\tvalidation_0-rmse:908.85736\tvalidation_1-rmse:0.00040\tvalidation_0-PyLoss:15.77914\tvalidation_1-PyLoss:4.59508\n",
      "[714]\tvalidation_0-rmse:908.85736\tvalidation_1-rmse:0.00040\tvalidation_0-PyLoss:15.77914\tvalidation_1-PyLoss:4.59508\n",
      "[715]\tvalidation_0-rmse:908.85736\tvalidation_1-rmse:0.00040\tvalidation_0-PyLoss:15.77914\tvalidation_1-PyLoss:4.59508\n",
      "[716]\tvalidation_0-rmse:908.85736\tvalidation_1-rmse:0.00040\tvalidation_0-PyLoss:15.77914\tvalidation_1-PyLoss:4.59508\n",
      "[717]\tvalidation_0-rmse:908.85736\tvalidation_1-rmse:0.00040\tvalidation_0-PyLoss:15.77914\tvalidation_1-PyLoss:4.59508\n",
      "[718]\tvalidation_0-rmse:908.85736\tvalidation_1-rmse:0.00040\tvalidation_0-PyLoss:15.77914\tvalidation_1-PyLoss:4.59508\n",
      "[719]\tvalidation_0-rmse:908.85736\tvalidation_1-rmse:0.00040\tvalidation_0-PyLoss:15.77914\tvalidation_1-PyLoss:4.59508\n",
      "[720]\tvalidation_0-rmse:908.85736\tvalidation_1-rmse:0.00040\tvalidation_0-PyLoss:15.77914\tvalidation_1-PyLoss:4.59508\n",
      "[721]\tvalidation_0-rmse:908.85736\tvalidation_1-rmse:0.00040\tvalidation_0-PyLoss:15.77914\tvalidation_1-PyLoss:4.59508\n",
      "[722]\tvalidation_0-rmse:908.85736\tvalidation_1-rmse:0.00040\tvalidation_0-PyLoss:15.77914\tvalidation_1-PyLoss:4.59508\n",
      "[723]\tvalidation_0-rmse:908.85736\tvalidation_1-rmse:0.00040\tvalidation_0-PyLoss:15.77914\tvalidation_1-PyLoss:4.59508\n",
      "[724]\tvalidation_0-rmse:908.85736\tvalidation_1-rmse:0.00040\tvalidation_0-PyLoss:15.77914\tvalidation_1-PyLoss:4.59508\n",
      "[725]\tvalidation_0-rmse:908.85736\tvalidation_1-rmse:0.00040\tvalidation_0-PyLoss:15.77914\tvalidation_1-PyLoss:4.59508\n",
      "[726]\tvalidation_0-rmse:908.85736\tvalidation_1-rmse:0.00040\tvalidation_0-PyLoss:15.77914\tvalidation_1-PyLoss:4.59508\n",
      "[727]\tvalidation_0-rmse:908.85736\tvalidation_1-rmse:0.00040\tvalidation_0-PyLoss:15.77914\tvalidation_1-PyLoss:4.59508\n",
      "[728]\tvalidation_0-rmse:908.85736\tvalidation_1-rmse:0.00040\tvalidation_0-PyLoss:15.77914\tvalidation_1-PyLoss:4.59508\n",
      "[729]\tvalidation_0-rmse:908.85736\tvalidation_1-rmse:0.00040\tvalidation_0-PyLoss:15.77914\tvalidation_1-PyLoss:4.59508\n",
      "[730]\tvalidation_0-rmse:908.85736\tvalidation_1-rmse:0.00040\tvalidation_0-PyLoss:15.77914\tvalidation_1-PyLoss:4.59508\n",
      "[731]\tvalidation_0-rmse:908.85736\tvalidation_1-rmse:0.00040\tvalidation_0-PyLoss:15.77914\tvalidation_1-PyLoss:4.59508\n",
      "[732]\tvalidation_0-rmse:908.85736\tvalidation_1-rmse:0.00040\tvalidation_0-PyLoss:15.77914\tvalidation_1-PyLoss:4.59508\n",
      "[733]\tvalidation_0-rmse:908.85736\tvalidation_1-rmse:0.00040\tvalidation_0-PyLoss:15.77914\tvalidation_1-PyLoss:4.59508\n",
      "[734]\tvalidation_0-rmse:908.85736\tvalidation_1-rmse:0.00040\tvalidation_0-PyLoss:15.77914\tvalidation_1-PyLoss:4.59508\n",
      "[735]\tvalidation_0-rmse:908.85736\tvalidation_1-rmse:0.00040\tvalidation_0-PyLoss:15.77914\tvalidation_1-PyLoss:4.59508\n",
      "[736]\tvalidation_0-rmse:908.85736\tvalidation_1-rmse:0.00040\tvalidation_0-PyLoss:15.77914\tvalidation_1-PyLoss:4.59508\n",
      "[737]\tvalidation_0-rmse:908.85736\tvalidation_1-rmse:0.00040\tvalidation_0-PyLoss:15.77914\tvalidation_1-PyLoss:4.59508\n",
      "[738]\tvalidation_0-rmse:908.85736\tvalidation_1-rmse:0.00040\tvalidation_0-PyLoss:15.77914\tvalidation_1-PyLoss:4.59508\n",
      "[739]\tvalidation_0-rmse:908.85736\tvalidation_1-rmse:0.00040\tvalidation_0-PyLoss:15.77914\tvalidation_1-PyLoss:4.59508\n",
      "[740]\tvalidation_0-rmse:908.85736\tvalidation_1-rmse:0.00040\tvalidation_0-PyLoss:15.77914\tvalidation_1-PyLoss:4.59508\n",
      "[741]\tvalidation_0-rmse:908.85736\tvalidation_1-rmse:0.00040\tvalidation_0-PyLoss:15.77914\tvalidation_1-PyLoss:4.59508\n",
      "[742]\tvalidation_0-rmse:908.85736\tvalidation_1-rmse:0.00040\tvalidation_0-PyLoss:15.77914\tvalidation_1-PyLoss:4.59508\n",
      "[743]\tvalidation_0-rmse:908.85736\tvalidation_1-rmse:0.00040\tvalidation_0-PyLoss:15.77914\tvalidation_1-PyLoss:4.59508\n",
      "[744]\tvalidation_0-rmse:908.85736\tvalidation_1-rmse:0.00040\tvalidation_0-PyLoss:15.77914\tvalidation_1-PyLoss:4.59508\n",
      "[745]\tvalidation_0-rmse:908.85736\tvalidation_1-rmse:0.00040\tvalidation_0-PyLoss:15.77914\tvalidation_1-PyLoss:4.59508\n",
      "[746]\tvalidation_0-rmse:908.85736\tvalidation_1-rmse:0.00040\tvalidation_0-PyLoss:15.77914\tvalidation_1-PyLoss:4.59508\n",
      "[747]\tvalidation_0-rmse:908.85736\tvalidation_1-rmse:0.00040\tvalidation_0-PyLoss:15.77914\tvalidation_1-PyLoss:4.59508\n",
      "[748]\tvalidation_0-rmse:908.85736\tvalidation_1-rmse:0.00040\tvalidation_0-PyLoss:15.77914\tvalidation_1-PyLoss:4.59508\n",
      "[749]\tvalidation_0-rmse:908.85736\tvalidation_1-rmse:0.00040\tvalidation_0-PyLoss:15.77914\tvalidation_1-PyLoss:4.59508\n",
      "[750]\tvalidation_0-rmse:908.85736\tvalidation_1-rmse:0.00040\tvalidation_0-PyLoss:15.77914\tvalidation_1-PyLoss:4.59508\n",
      "[751]\tvalidation_0-rmse:908.85736\tvalidation_1-rmse:0.00040\tvalidation_0-PyLoss:15.77914\tvalidation_1-PyLoss:4.59508\n",
      "[752]\tvalidation_0-rmse:908.85736\tvalidation_1-rmse:0.00040\tvalidation_0-PyLoss:15.77914\tvalidation_1-PyLoss:4.59508\n",
      "[753]\tvalidation_0-rmse:908.85736\tvalidation_1-rmse:0.00040\tvalidation_0-PyLoss:15.77914\tvalidation_1-PyLoss:4.59508\n",
      "[754]\tvalidation_0-rmse:908.85736\tvalidation_1-rmse:0.00040\tvalidation_0-PyLoss:15.77914\tvalidation_1-PyLoss:4.59508\n",
      "[755]\tvalidation_0-rmse:908.85736\tvalidation_1-rmse:0.00040\tvalidation_0-PyLoss:15.77914\tvalidation_1-PyLoss:4.59508\n",
      "[756]\tvalidation_0-rmse:908.85736\tvalidation_1-rmse:0.00040\tvalidation_0-PyLoss:15.77914\tvalidation_1-PyLoss:4.59508\n",
      "[757]\tvalidation_0-rmse:908.85736\tvalidation_1-rmse:0.00040\tvalidation_0-PyLoss:15.77914\tvalidation_1-PyLoss:4.59508\n",
      "[758]\tvalidation_0-rmse:908.85736\tvalidation_1-rmse:0.00040\tvalidation_0-PyLoss:15.77914\tvalidation_1-PyLoss:4.59508\n",
      "[759]\tvalidation_0-rmse:908.85736\tvalidation_1-rmse:0.00040\tvalidation_0-PyLoss:15.77914\tvalidation_1-PyLoss:4.59508\n",
      "[760]\tvalidation_0-rmse:908.85736\tvalidation_1-rmse:0.00040\tvalidation_0-PyLoss:15.77914\tvalidation_1-PyLoss:4.59508\n",
      "[761]\tvalidation_0-rmse:908.85736\tvalidation_1-rmse:0.00040\tvalidation_0-PyLoss:15.77914\tvalidation_1-PyLoss:4.59508\n",
      "[762]\tvalidation_0-rmse:908.85736\tvalidation_1-rmse:0.00040\tvalidation_0-PyLoss:15.77914\tvalidation_1-PyLoss:4.59508\n",
      "[763]\tvalidation_0-rmse:908.85736\tvalidation_1-rmse:0.00040\tvalidation_0-PyLoss:15.77914\tvalidation_1-PyLoss:4.59508\n",
      "[764]\tvalidation_0-rmse:908.85736\tvalidation_1-rmse:0.00040\tvalidation_0-PyLoss:15.77914\tvalidation_1-PyLoss:4.59508\n",
      "[765]\tvalidation_0-rmse:908.85736\tvalidation_1-rmse:0.00040\tvalidation_0-PyLoss:15.77914\tvalidation_1-PyLoss:4.59508\n",
      "[766]\tvalidation_0-rmse:908.85736\tvalidation_1-rmse:0.00040\tvalidation_0-PyLoss:15.77914\tvalidation_1-PyLoss:4.59508\n",
      "[767]\tvalidation_0-rmse:908.85736\tvalidation_1-rmse:0.00040\tvalidation_0-PyLoss:15.77914\tvalidation_1-PyLoss:4.59508\n",
      "[768]\tvalidation_0-rmse:908.85736\tvalidation_1-rmse:0.00040\tvalidation_0-PyLoss:15.77914\tvalidation_1-PyLoss:4.59508\n",
      "[769]\tvalidation_0-rmse:908.85736\tvalidation_1-rmse:0.00040\tvalidation_0-PyLoss:15.77914\tvalidation_1-PyLoss:4.59508\n",
      "[770]\tvalidation_0-rmse:908.85736\tvalidation_1-rmse:0.00040\tvalidation_0-PyLoss:15.77914\tvalidation_1-PyLoss:4.59508\n",
      "[771]\tvalidation_0-rmse:908.85736\tvalidation_1-rmse:0.00040\tvalidation_0-PyLoss:15.77914\tvalidation_1-PyLoss:4.59508\n",
      "[772]\tvalidation_0-rmse:908.85736\tvalidation_1-rmse:0.00040\tvalidation_0-PyLoss:15.77914\tvalidation_1-PyLoss:4.59508\n",
      "[773]\tvalidation_0-rmse:908.85736\tvalidation_1-rmse:0.00040\tvalidation_0-PyLoss:15.77914\tvalidation_1-PyLoss:4.59508\n",
      "[774]\tvalidation_0-rmse:908.85736\tvalidation_1-rmse:0.00040\tvalidation_0-PyLoss:15.77914\tvalidation_1-PyLoss:4.59508\n",
      "[775]\tvalidation_0-rmse:908.85736\tvalidation_1-rmse:0.00040\tvalidation_0-PyLoss:15.77914\tvalidation_1-PyLoss:4.59508\n",
      "[776]\tvalidation_0-rmse:908.85736\tvalidation_1-rmse:0.00040\tvalidation_0-PyLoss:15.77914\tvalidation_1-PyLoss:4.59508\n",
      "[777]\tvalidation_0-rmse:908.85736\tvalidation_1-rmse:0.00040\tvalidation_0-PyLoss:15.77914\tvalidation_1-PyLoss:4.59508\n",
      "[778]\tvalidation_0-rmse:908.85736\tvalidation_1-rmse:0.00040\tvalidation_0-PyLoss:15.77914\tvalidation_1-PyLoss:4.59508\n",
      "[779]\tvalidation_0-rmse:908.85736\tvalidation_1-rmse:0.00040\tvalidation_0-PyLoss:15.77914\tvalidation_1-PyLoss:4.59508\n",
      "[780]\tvalidation_0-rmse:908.85736\tvalidation_1-rmse:0.00040\tvalidation_0-PyLoss:15.77914\tvalidation_1-PyLoss:4.59508\n"
     ]
    },
    {
     "name": "stdout",
     "output_type": "stream",
     "text": [
      "[781]\tvalidation_0-rmse:908.85736\tvalidation_1-rmse:0.00040\tvalidation_0-PyLoss:15.77914\tvalidation_1-PyLoss:4.59508\n",
      "[782]\tvalidation_0-rmse:908.85736\tvalidation_1-rmse:0.00040\tvalidation_0-PyLoss:15.77914\tvalidation_1-PyLoss:4.59508\n",
      "[783]\tvalidation_0-rmse:908.85736\tvalidation_1-rmse:0.00040\tvalidation_0-PyLoss:15.77914\tvalidation_1-PyLoss:4.59508\n",
      "[784]\tvalidation_0-rmse:908.85736\tvalidation_1-rmse:0.00040\tvalidation_0-PyLoss:15.77914\tvalidation_1-PyLoss:4.59508\n",
      "[785]\tvalidation_0-rmse:908.85736\tvalidation_1-rmse:0.00040\tvalidation_0-PyLoss:15.77914\tvalidation_1-PyLoss:4.59508\n",
      "[786]\tvalidation_0-rmse:908.85736\tvalidation_1-rmse:0.00040\tvalidation_0-PyLoss:15.77914\tvalidation_1-PyLoss:4.59508\n",
      "[787]\tvalidation_0-rmse:908.85736\tvalidation_1-rmse:0.00040\tvalidation_0-PyLoss:15.77914\tvalidation_1-PyLoss:4.59508\n",
      "[788]\tvalidation_0-rmse:908.85736\tvalidation_1-rmse:0.00040\tvalidation_0-PyLoss:15.77914\tvalidation_1-PyLoss:4.59508\n",
      "[789]\tvalidation_0-rmse:908.85736\tvalidation_1-rmse:0.00040\tvalidation_0-PyLoss:15.77914\tvalidation_1-PyLoss:4.59508\n",
      "[790]\tvalidation_0-rmse:908.85736\tvalidation_1-rmse:0.00040\tvalidation_0-PyLoss:15.77914\tvalidation_1-PyLoss:4.59508\n",
      "[791]\tvalidation_0-rmse:908.85736\tvalidation_1-rmse:0.00040\tvalidation_0-PyLoss:15.77914\tvalidation_1-PyLoss:4.59508\n",
      "[792]\tvalidation_0-rmse:908.85736\tvalidation_1-rmse:0.00040\tvalidation_0-PyLoss:15.77914\tvalidation_1-PyLoss:4.59508\n",
      "[793]\tvalidation_0-rmse:908.85736\tvalidation_1-rmse:0.00040\tvalidation_0-PyLoss:15.77914\tvalidation_1-PyLoss:4.59508\n",
      "[794]\tvalidation_0-rmse:908.85736\tvalidation_1-rmse:0.00040\tvalidation_0-PyLoss:15.77914\tvalidation_1-PyLoss:4.59508\n",
      "[795]\tvalidation_0-rmse:908.85736\tvalidation_1-rmse:0.00040\tvalidation_0-PyLoss:15.77914\tvalidation_1-PyLoss:4.59508\n",
      "[796]\tvalidation_0-rmse:908.85736\tvalidation_1-rmse:0.00040\tvalidation_0-PyLoss:15.77914\tvalidation_1-PyLoss:4.59508\n",
      "[797]\tvalidation_0-rmse:908.85736\tvalidation_1-rmse:0.00040\tvalidation_0-PyLoss:15.77914\tvalidation_1-PyLoss:4.59508\n",
      "[798]\tvalidation_0-rmse:908.85736\tvalidation_1-rmse:0.00040\tvalidation_0-PyLoss:15.77914\tvalidation_1-PyLoss:4.59508\n",
      "[799]\tvalidation_0-rmse:908.85736\tvalidation_1-rmse:0.00040\tvalidation_0-PyLoss:15.77914\tvalidation_1-PyLoss:4.59508\n",
      "[800]\tvalidation_0-rmse:908.85736\tvalidation_1-rmse:0.00040\tvalidation_0-PyLoss:15.77914\tvalidation_1-PyLoss:4.59508\n",
      "[801]\tvalidation_0-rmse:908.85736\tvalidation_1-rmse:0.00040\tvalidation_0-PyLoss:15.77914\tvalidation_1-PyLoss:4.59508\n",
      "[802]\tvalidation_0-rmse:908.85736\tvalidation_1-rmse:0.00040\tvalidation_0-PyLoss:15.77914\tvalidation_1-PyLoss:4.59508\n",
      "[803]\tvalidation_0-rmse:908.85736\tvalidation_1-rmse:0.00040\tvalidation_0-PyLoss:15.77914\tvalidation_1-PyLoss:4.59508\n",
      "[804]\tvalidation_0-rmse:908.85736\tvalidation_1-rmse:0.00040\tvalidation_0-PyLoss:15.77914\tvalidation_1-PyLoss:4.59508\n",
      "[805]\tvalidation_0-rmse:908.85736\tvalidation_1-rmse:0.00040\tvalidation_0-PyLoss:15.77914\tvalidation_1-PyLoss:4.59508\n",
      "[806]\tvalidation_0-rmse:908.85736\tvalidation_1-rmse:0.00040\tvalidation_0-PyLoss:15.77914\tvalidation_1-PyLoss:4.59508\n",
      "[807]\tvalidation_0-rmse:908.85736\tvalidation_1-rmse:0.00040\tvalidation_0-PyLoss:15.77914\tvalidation_1-PyLoss:4.59508\n",
      "[808]\tvalidation_0-rmse:908.85736\tvalidation_1-rmse:0.00040\tvalidation_0-PyLoss:15.77914\tvalidation_1-PyLoss:4.59508\n",
      "[809]\tvalidation_0-rmse:908.85736\tvalidation_1-rmse:0.00040\tvalidation_0-PyLoss:15.77914\tvalidation_1-PyLoss:4.59508\n",
      "[810]\tvalidation_0-rmse:908.85736\tvalidation_1-rmse:0.00040\tvalidation_0-PyLoss:15.77914\tvalidation_1-PyLoss:4.59508\n",
      "[811]\tvalidation_0-rmse:908.85736\tvalidation_1-rmse:0.00040\tvalidation_0-PyLoss:15.77914\tvalidation_1-PyLoss:4.59508\n",
      "[812]\tvalidation_0-rmse:908.85736\tvalidation_1-rmse:0.00040\tvalidation_0-PyLoss:15.77914\tvalidation_1-PyLoss:4.59508\n",
      "[813]\tvalidation_0-rmse:908.85736\tvalidation_1-rmse:0.00040\tvalidation_0-PyLoss:15.77914\tvalidation_1-PyLoss:4.59508\n",
      "[814]\tvalidation_0-rmse:908.85736\tvalidation_1-rmse:0.00040\tvalidation_0-PyLoss:15.77914\tvalidation_1-PyLoss:4.59508\n",
      "[815]\tvalidation_0-rmse:908.85736\tvalidation_1-rmse:0.00040\tvalidation_0-PyLoss:15.77914\tvalidation_1-PyLoss:4.59508\n",
      "[816]\tvalidation_0-rmse:908.85736\tvalidation_1-rmse:0.00040\tvalidation_0-PyLoss:15.77914\tvalidation_1-PyLoss:4.59508\n",
      "[817]\tvalidation_0-rmse:908.85736\tvalidation_1-rmse:0.00040\tvalidation_0-PyLoss:15.77914\tvalidation_1-PyLoss:4.59508\n",
      "[818]\tvalidation_0-rmse:908.85736\tvalidation_1-rmse:0.00040\tvalidation_0-PyLoss:15.77914\tvalidation_1-PyLoss:4.59508\n",
      "[819]\tvalidation_0-rmse:908.85736\tvalidation_1-rmse:0.00040\tvalidation_0-PyLoss:15.77914\tvalidation_1-PyLoss:4.59508\n",
      "[820]\tvalidation_0-rmse:908.85736\tvalidation_1-rmse:0.00040\tvalidation_0-PyLoss:15.77914\tvalidation_1-PyLoss:4.59508\n",
      "[821]\tvalidation_0-rmse:908.85736\tvalidation_1-rmse:0.00040\tvalidation_0-PyLoss:15.77914\tvalidation_1-PyLoss:4.59508\n",
      "[822]\tvalidation_0-rmse:908.85736\tvalidation_1-rmse:0.00040\tvalidation_0-PyLoss:15.77914\tvalidation_1-PyLoss:4.59508\n",
      "[823]\tvalidation_0-rmse:908.85736\tvalidation_1-rmse:0.00040\tvalidation_0-PyLoss:15.77914\tvalidation_1-PyLoss:4.59508\n",
      "[824]\tvalidation_0-rmse:908.85736\tvalidation_1-rmse:0.00040\tvalidation_0-PyLoss:15.77914\tvalidation_1-PyLoss:4.59508\n",
      "[825]\tvalidation_0-rmse:908.85736\tvalidation_1-rmse:0.00040\tvalidation_0-PyLoss:15.77914\tvalidation_1-PyLoss:4.59508\n",
      "[826]\tvalidation_0-rmse:908.85736\tvalidation_1-rmse:0.00040\tvalidation_0-PyLoss:15.77914\tvalidation_1-PyLoss:4.59508\n",
      "[827]\tvalidation_0-rmse:908.85736\tvalidation_1-rmse:0.00040\tvalidation_0-PyLoss:15.77914\tvalidation_1-PyLoss:4.59508\n",
      "[828]\tvalidation_0-rmse:908.85736\tvalidation_1-rmse:0.00040\tvalidation_0-PyLoss:15.77914\tvalidation_1-PyLoss:4.59508\n",
      "[829]\tvalidation_0-rmse:908.85736\tvalidation_1-rmse:0.00040\tvalidation_0-PyLoss:15.77914\tvalidation_1-PyLoss:4.59508\n",
      "[830]\tvalidation_0-rmse:908.85736\tvalidation_1-rmse:0.00040\tvalidation_0-PyLoss:15.77914\tvalidation_1-PyLoss:4.59508\n",
      "[831]\tvalidation_0-rmse:908.85736\tvalidation_1-rmse:0.00040\tvalidation_0-PyLoss:15.77914\tvalidation_1-PyLoss:4.59508\n",
      "[832]\tvalidation_0-rmse:908.85736\tvalidation_1-rmse:0.00040\tvalidation_0-PyLoss:15.77914\tvalidation_1-PyLoss:4.59508\n",
      "[833]\tvalidation_0-rmse:908.85736\tvalidation_1-rmse:0.00040\tvalidation_0-PyLoss:15.77914\tvalidation_1-PyLoss:4.59508\n",
      "[834]\tvalidation_0-rmse:908.85736\tvalidation_1-rmse:0.00040\tvalidation_0-PyLoss:15.77914\tvalidation_1-PyLoss:4.59508\n",
      "[835]\tvalidation_0-rmse:908.85736\tvalidation_1-rmse:0.00040\tvalidation_0-PyLoss:15.77914\tvalidation_1-PyLoss:4.59508\n",
      "[836]\tvalidation_0-rmse:908.85736\tvalidation_1-rmse:0.00040\tvalidation_0-PyLoss:15.77914\tvalidation_1-PyLoss:4.59508\n",
      "[837]\tvalidation_0-rmse:908.85736\tvalidation_1-rmse:0.00040\tvalidation_0-PyLoss:15.77914\tvalidation_1-PyLoss:4.59508\n",
      "[838]\tvalidation_0-rmse:908.85736\tvalidation_1-rmse:0.00040\tvalidation_0-PyLoss:15.77914\tvalidation_1-PyLoss:4.59508\n",
      "[839]\tvalidation_0-rmse:908.85736\tvalidation_1-rmse:0.00040\tvalidation_0-PyLoss:15.77914\tvalidation_1-PyLoss:4.59508\n",
      "[840]\tvalidation_0-rmse:908.85736\tvalidation_1-rmse:0.00040\tvalidation_0-PyLoss:15.77914\tvalidation_1-PyLoss:4.59508\n",
      "[841]\tvalidation_0-rmse:908.85736\tvalidation_1-rmse:0.00040\tvalidation_0-PyLoss:15.77914\tvalidation_1-PyLoss:4.59508\n",
      "[842]\tvalidation_0-rmse:908.85736\tvalidation_1-rmse:0.00040\tvalidation_0-PyLoss:15.77914\tvalidation_1-PyLoss:4.59508\n",
      "[843]\tvalidation_0-rmse:908.85736\tvalidation_1-rmse:0.00040\tvalidation_0-PyLoss:15.77914\tvalidation_1-PyLoss:4.59508\n",
      "[844]\tvalidation_0-rmse:908.85736\tvalidation_1-rmse:0.00040\tvalidation_0-PyLoss:15.77914\tvalidation_1-PyLoss:4.59508\n",
      "[845]\tvalidation_0-rmse:908.85736\tvalidation_1-rmse:0.00040\tvalidation_0-PyLoss:15.77914\tvalidation_1-PyLoss:4.59508\n",
      "[846]\tvalidation_0-rmse:908.85736\tvalidation_1-rmse:0.00040\tvalidation_0-PyLoss:15.77914\tvalidation_1-PyLoss:4.59508\n",
      "[847]\tvalidation_0-rmse:908.85736\tvalidation_1-rmse:0.00040\tvalidation_0-PyLoss:15.77914\tvalidation_1-PyLoss:4.59508\n",
      "[848]\tvalidation_0-rmse:908.85736\tvalidation_1-rmse:0.00040\tvalidation_0-PyLoss:15.77914\tvalidation_1-PyLoss:4.59508\n",
      "[849]\tvalidation_0-rmse:908.85736\tvalidation_1-rmse:0.00040\tvalidation_0-PyLoss:15.77914\tvalidation_1-PyLoss:4.59508\n",
      "[850]\tvalidation_0-rmse:908.85736\tvalidation_1-rmse:0.00040\tvalidation_0-PyLoss:15.77914\tvalidation_1-PyLoss:4.59508\n",
      "[851]\tvalidation_0-rmse:908.85736\tvalidation_1-rmse:0.00040\tvalidation_0-PyLoss:15.77914\tvalidation_1-PyLoss:4.59508\n"
     ]
    },
    {
     "name": "stdout",
     "output_type": "stream",
     "text": [
      "[852]\tvalidation_0-rmse:908.85736\tvalidation_1-rmse:0.00040\tvalidation_0-PyLoss:15.77914\tvalidation_1-PyLoss:4.59508\n",
      "[853]\tvalidation_0-rmse:908.85736\tvalidation_1-rmse:0.00040\tvalidation_0-PyLoss:15.77914\tvalidation_1-PyLoss:4.59508\n",
      "[854]\tvalidation_0-rmse:908.85736\tvalidation_1-rmse:0.00040\tvalidation_0-PyLoss:15.77914\tvalidation_1-PyLoss:4.59508\n",
      "[855]\tvalidation_0-rmse:908.85736\tvalidation_1-rmse:0.00040\tvalidation_0-PyLoss:15.77914\tvalidation_1-PyLoss:4.59508\n",
      "[856]\tvalidation_0-rmse:908.85736\tvalidation_1-rmse:0.00040\tvalidation_0-PyLoss:15.77914\tvalidation_1-PyLoss:4.59508\n",
      "[857]\tvalidation_0-rmse:908.85736\tvalidation_1-rmse:0.00040\tvalidation_0-PyLoss:15.77914\tvalidation_1-PyLoss:4.59508\n",
      "[858]\tvalidation_0-rmse:908.85736\tvalidation_1-rmse:0.00040\tvalidation_0-PyLoss:15.77914\tvalidation_1-PyLoss:4.59508\n",
      "[859]\tvalidation_0-rmse:908.85736\tvalidation_1-rmse:0.00040\tvalidation_0-PyLoss:15.77914\tvalidation_1-PyLoss:4.59508\n",
      "[860]\tvalidation_0-rmse:908.85736\tvalidation_1-rmse:0.00040\tvalidation_0-PyLoss:15.77914\tvalidation_1-PyLoss:4.59508\n",
      "[861]\tvalidation_0-rmse:908.85736\tvalidation_1-rmse:0.00040\tvalidation_0-PyLoss:15.77914\tvalidation_1-PyLoss:4.59508\n",
      "[862]\tvalidation_0-rmse:908.85736\tvalidation_1-rmse:0.00040\tvalidation_0-PyLoss:15.77914\tvalidation_1-PyLoss:4.59508\n",
      "[863]\tvalidation_0-rmse:908.85736\tvalidation_1-rmse:0.00040\tvalidation_0-PyLoss:15.77914\tvalidation_1-PyLoss:4.59508\n",
      "[864]\tvalidation_0-rmse:908.85736\tvalidation_1-rmse:0.00040\tvalidation_0-PyLoss:15.77914\tvalidation_1-PyLoss:4.59508\n",
      "[865]\tvalidation_0-rmse:908.85736\tvalidation_1-rmse:0.00040\tvalidation_0-PyLoss:15.77914\tvalidation_1-PyLoss:4.59508\n",
      "[866]\tvalidation_0-rmse:908.85736\tvalidation_1-rmse:0.00040\tvalidation_0-PyLoss:15.77914\tvalidation_1-PyLoss:4.59508\n",
      "[867]\tvalidation_0-rmse:908.85736\tvalidation_1-rmse:0.00040\tvalidation_0-PyLoss:15.77914\tvalidation_1-PyLoss:4.59508\n",
      "[868]\tvalidation_0-rmse:908.85736\tvalidation_1-rmse:0.00040\tvalidation_0-PyLoss:15.77914\tvalidation_1-PyLoss:4.59508\n",
      "[869]\tvalidation_0-rmse:908.85736\tvalidation_1-rmse:0.00040\tvalidation_0-PyLoss:15.77914\tvalidation_1-PyLoss:4.59508\n",
      "[870]\tvalidation_0-rmse:908.85736\tvalidation_1-rmse:0.00040\tvalidation_0-PyLoss:15.77914\tvalidation_1-PyLoss:4.59508\n",
      "[871]\tvalidation_0-rmse:908.85736\tvalidation_1-rmse:0.00040\tvalidation_0-PyLoss:15.77914\tvalidation_1-PyLoss:4.59508\n",
      "[872]\tvalidation_0-rmse:908.85736\tvalidation_1-rmse:0.00040\tvalidation_0-PyLoss:15.77914\tvalidation_1-PyLoss:4.59508\n",
      "[873]\tvalidation_0-rmse:908.85736\tvalidation_1-rmse:0.00040\tvalidation_0-PyLoss:15.77914\tvalidation_1-PyLoss:4.59508\n",
      "[874]\tvalidation_0-rmse:908.85736\tvalidation_1-rmse:0.00040\tvalidation_0-PyLoss:15.77914\tvalidation_1-PyLoss:4.59508\n",
      "[875]\tvalidation_0-rmse:908.85736\tvalidation_1-rmse:0.00040\tvalidation_0-PyLoss:15.77914\tvalidation_1-PyLoss:4.59508\n",
      "[876]\tvalidation_0-rmse:908.85736\tvalidation_1-rmse:0.00040\tvalidation_0-PyLoss:15.77914\tvalidation_1-PyLoss:4.59508\n",
      "[877]\tvalidation_0-rmse:908.85736\tvalidation_1-rmse:0.00040\tvalidation_0-PyLoss:15.77914\tvalidation_1-PyLoss:4.59508\n",
      "[878]\tvalidation_0-rmse:908.85736\tvalidation_1-rmse:0.00040\tvalidation_0-PyLoss:15.77914\tvalidation_1-PyLoss:4.59508\n",
      "[879]\tvalidation_0-rmse:908.85736\tvalidation_1-rmse:0.00040\tvalidation_0-PyLoss:15.77914\tvalidation_1-PyLoss:4.59508\n",
      "[880]\tvalidation_0-rmse:908.85736\tvalidation_1-rmse:0.00040\tvalidation_0-PyLoss:15.77914\tvalidation_1-PyLoss:4.59508\n",
      "[881]\tvalidation_0-rmse:908.85736\tvalidation_1-rmse:0.00040\tvalidation_0-PyLoss:15.77914\tvalidation_1-PyLoss:4.59508\n",
      "[882]\tvalidation_0-rmse:908.85736\tvalidation_1-rmse:0.00040\tvalidation_0-PyLoss:15.77914\tvalidation_1-PyLoss:4.59508\n",
      "[883]\tvalidation_0-rmse:908.85736\tvalidation_1-rmse:0.00040\tvalidation_0-PyLoss:15.77914\tvalidation_1-PyLoss:4.59508\n",
      "[884]\tvalidation_0-rmse:908.85736\tvalidation_1-rmse:0.00040\tvalidation_0-PyLoss:15.77914\tvalidation_1-PyLoss:4.59508\n",
      "[885]\tvalidation_0-rmse:908.85736\tvalidation_1-rmse:0.00040\tvalidation_0-PyLoss:15.77914\tvalidation_1-PyLoss:4.59508\n",
      "[886]\tvalidation_0-rmse:908.85736\tvalidation_1-rmse:0.00040\tvalidation_0-PyLoss:15.77914\tvalidation_1-PyLoss:4.59508\n",
      "[887]\tvalidation_0-rmse:908.85736\tvalidation_1-rmse:0.00040\tvalidation_0-PyLoss:15.77914\tvalidation_1-PyLoss:4.59508\n",
      "[888]\tvalidation_0-rmse:908.85736\tvalidation_1-rmse:0.00040\tvalidation_0-PyLoss:15.77914\tvalidation_1-PyLoss:4.59508\n",
      "[889]\tvalidation_0-rmse:908.85736\tvalidation_1-rmse:0.00040\tvalidation_0-PyLoss:15.77914\tvalidation_1-PyLoss:4.59508\n",
      "[890]\tvalidation_0-rmse:908.85736\tvalidation_1-rmse:0.00040\tvalidation_0-PyLoss:15.77914\tvalidation_1-PyLoss:4.59508\n",
      "[891]\tvalidation_0-rmse:908.85736\tvalidation_1-rmse:0.00040\tvalidation_0-PyLoss:15.77914\tvalidation_1-PyLoss:4.59508\n",
      "[892]\tvalidation_0-rmse:908.85736\tvalidation_1-rmse:0.00040\tvalidation_0-PyLoss:15.77914\tvalidation_1-PyLoss:4.59508\n",
      "[893]\tvalidation_0-rmse:908.85736\tvalidation_1-rmse:0.00040\tvalidation_0-PyLoss:15.77914\tvalidation_1-PyLoss:4.59508\n",
      "[894]\tvalidation_0-rmse:908.85736\tvalidation_1-rmse:0.00040\tvalidation_0-PyLoss:15.77914\tvalidation_1-PyLoss:4.59508\n",
      "[895]\tvalidation_0-rmse:908.85736\tvalidation_1-rmse:0.00040\tvalidation_0-PyLoss:15.77914\tvalidation_1-PyLoss:4.59508\n",
      "[896]\tvalidation_0-rmse:908.85736\tvalidation_1-rmse:0.00040\tvalidation_0-PyLoss:15.77914\tvalidation_1-PyLoss:4.59508\n",
      "[897]\tvalidation_0-rmse:908.85736\tvalidation_1-rmse:0.00040\tvalidation_0-PyLoss:15.77914\tvalidation_1-PyLoss:4.59508\n",
      "[898]\tvalidation_0-rmse:908.85736\tvalidation_1-rmse:0.00040\tvalidation_0-PyLoss:15.77914\tvalidation_1-PyLoss:4.59508\n",
      "[899]\tvalidation_0-rmse:908.85736\tvalidation_1-rmse:0.00040\tvalidation_0-PyLoss:15.77914\tvalidation_1-PyLoss:4.59508\n",
      "[900]\tvalidation_0-rmse:908.85736\tvalidation_1-rmse:0.00040\tvalidation_0-PyLoss:15.77914\tvalidation_1-PyLoss:4.59508\n",
      "[901]\tvalidation_0-rmse:908.85736\tvalidation_1-rmse:0.00040\tvalidation_0-PyLoss:15.77914\tvalidation_1-PyLoss:4.59508\n",
      "[902]\tvalidation_0-rmse:908.85736\tvalidation_1-rmse:0.00040\tvalidation_0-PyLoss:15.77914\tvalidation_1-PyLoss:4.59508\n",
      "[903]\tvalidation_0-rmse:908.85736\tvalidation_1-rmse:0.00040\tvalidation_0-PyLoss:15.77914\tvalidation_1-PyLoss:4.59508\n",
      "[904]\tvalidation_0-rmse:908.85736\tvalidation_1-rmse:0.00040\tvalidation_0-PyLoss:15.77914\tvalidation_1-PyLoss:4.59508\n",
      "[905]\tvalidation_0-rmse:908.85736\tvalidation_1-rmse:0.00040\tvalidation_0-PyLoss:15.77914\tvalidation_1-PyLoss:4.59508\n",
      "[906]\tvalidation_0-rmse:908.85736\tvalidation_1-rmse:0.00040\tvalidation_0-PyLoss:15.77914\tvalidation_1-PyLoss:4.59508\n",
      "[907]\tvalidation_0-rmse:908.85736\tvalidation_1-rmse:0.00040\tvalidation_0-PyLoss:15.77914\tvalidation_1-PyLoss:4.59508\n",
      "[908]\tvalidation_0-rmse:908.85736\tvalidation_1-rmse:0.00040\tvalidation_0-PyLoss:15.77914\tvalidation_1-PyLoss:4.59508\n",
      "[909]\tvalidation_0-rmse:908.85736\tvalidation_1-rmse:0.00040\tvalidation_0-PyLoss:15.77914\tvalidation_1-PyLoss:4.59508\n",
      "[910]\tvalidation_0-rmse:908.85736\tvalidation_1-rmse:0.00040\tvalidation_0-PyLoss:15.77914\tvalidation_1-PyLoss:4.59508\n",
      "[911]\tvalidation_0-rmse:908.85736\tvalidation_1-rmse:0.00040\tvalidation_0-PyLoss:15.77914\tvalidation_1-PyLoss:4.59508\n",
      "[912]\tvalidation_0-rmse:908.85736\tvalidation_1-rmse:0.00040\tvalidation_0-PyLoss:15.77914\tvalidation_1-PyLoss:4.59508\n",
      "[913]\tvalidation_0-rmse:908.85736\tvalidation_1-rmse:0.00040\tvalidation_0-PyLoss:15.77914\tvalidation_1-PyLoss:4.59508\n",
      "[914]\tvalidation_0-rmse:908.85736\tvalidation_1-rmse:0.00040\tvalidation_0-PyLoss:15.77914\tvalidation_1-PyLoss:4.59508\n",
      "[915]\tvalidation_0-rmse:908.85736\tvalidation_1-rmse:0.00040\tvalidation_0-PyLoss:15.77914\tvalidation_1-PyLoss:4.59508\n",
      "[916]\tvalidation_0-rmse:908.85736\tvalidation_1-rmse:0.00040\tvalidation_0-PyLoss:15.77914\tvalidation_1-PyLoss:4.59508\n",
      "[917]\tvalidation_0-rmse:908.85736\tvalidation_1-rmse:0.00040\tvalidation_0-PyLoss:15.77914\tvalidation_1-PyLoss:4.59508\n",
      "[918]\tvalidation_0-rmse:908.85736\tvalidation_1-rmse:0.00040\tvalidation_0-PyLoss:15.77914\tvalidation_1-PyLoss:4.59508\n",
      "[919]\tvalidation_0-rmse:908.85736\tvalidation_1-rmse:0.00040\tvalidation_0-PyLoss:15.77914\tvalidation_1-PyLoss:4.59508\n",
      "[920]\tvalidation_0-rmse:908.85736\tvalidation_1-rmse:0.00040\tvalidation_0-PyLoss:15.77914\tvalidation_1-PyLoss:4.59508\n",
      "[921]\tvalidation_0-rmse:908.85736\tvalidation_1-rmse:0.00040\tvalidation_0-PyLoss:15.77914\tvalidation_1-PyLoss:4.59508\n",
      "[922]\tvalidation_0-rmse:908.85736\tvalidation_1-rmse:0.00040\tvalidation_0-PyLoss:15.77914\tvalidation_1-PyLoss:4.59508\n"
     ]
    },
    {
     "name": "stdout",
     "output_type": "stream",
     "text": [
      "[923]\tvalidation_0-rmse:908.85736\tvalidation_1-rmse:0.00040\tvalidation_0-PyLoss:15.77914\tvalidation_1-PyLoss:4.59508\n",
      "[924]\tvalidation_0-rmse:908.85736\tvalidation_1-rmse:0.00040\tvalidation_0-PyLoss:15.77914\tvalidation_1-PyLoss:4.59508\n",
      "[925]\tvalidation_0-rmse:908.85736\tvalidation_1-rmse:0.00040\tvalidation_0-PyLoss:15.77914\tvalidation_1-PyLoss:4.59508\n",
      "[926]\tvalidation_0-rmse:908.85736\tvalidation_1-rmse:0.00040\tvalidation_0-PyLoss:15.77914\tvalidation_1-PyLoss:4.59508\n",
      "[927]\tvalidation_0-rmse:908.85736\tvalidation_1-rmse:0.00040\tvalidation_0-PyLoss:15.77914\tvalidation_1-PyLoss:4.59508\n",
      "[928]\tvalidation_0-rmse:908.85736\tvalidation_1-rmse:0.00040\tvalidation_0-PyLoss:15.77914\tvalidation_1-PyLoss:4.59508\n",
      "[929]\tvalidation_0-rmse:908.85736\tvalidation_1-rmse:0.00040\tvalidation_0-PyLoss:15.77914\tvalidation_1-PyLoss:4.59508\n",
      "[930]\tvalidation_0-rmse:908.85736\tvalidation_1-rmse:0.00040\tvalidation_0-PyLoss:15.77914\tvalidation_1-PyLoss:4.59508\n",
      "[931]\tvalidation_0-rmse:908.85736\tvalidation_1-rmse:0.00040\tvalidation_0-PyLoss:15.77914\tvalidation_1-PyLoss:4.59508\n",
      "[932]\tvalidation_0-rmse:908.85736\tvalidation_1-rmse:0.00040\tvalidation_0-PyLoss:15.77914\tvalidation_1-PyLoss:4.59508\n",
      "[933]\tvalidation_0-rmse:908.85736\tvalidation_1-rmse:0.00040\tvalidation_0-PyLoss:15.77914\tvalidation_1-PyLoss:4.59508\n",
      "[934]\tvalidation_0-rmse:908.85736\tvalidation_1-rmse:0.00040\tvalidation_0-PyLoss:15.77914\tvalidation_1-PyLoss:4.59508\n",
      "[935]\tvalidation_0-rmse:908.85736\tvalidation_1-rmse:0.00040\tvalidation_0-PyLoss:15.77914\tvalidation_1-PyLoss:4.59508\n",
      "[936]\tvalidation_0-rmse:908.85736\tvalidation_1-rmse:0.00040\tvalidation_0-PyLoss:15.77914\tvalidation_1-PyLoss:4.59508\n",
      "[937]\tvalidation_0-rmse:908.85736\tvalidation_1-rmse:0.00040\tvalidation_0-PyLoss:15.77914\tvalidation_1-PyLoss:4.59508\n",
      "[938]\tvalidation_0-rmse:908.85736\tvalidation_1-rmse:0.00040\tvalidation_0-PyLoss:15.77914\tvalidation_1-PyLoss:4.59508\n",
      "[939]\tvalidation_0-rmse:908.85736\tvalidation_1-rmse:0.00040\tvalidation_0-PyLoss:15.77914\tvalidation_1-PyLoss:4.59508\n",
      "[940]\tvalidation_0-rmse:908.85736\tvalidation_1-rmse:0.00040\tvalidation_0-PyLoss:15.77914\tvalidation_1-PyLoss:4.59508\n",
      "[941]\tvalidation_0-rmse:908.85736\tvalidation_1-rmse:0.00040\tvalidation_0-PyLoss:15.77914\tvalidation_1-PyLoss:4.59508\n",
      "[942]\tvalidation_0-rmse:908.85736\tvalidation_1-rmse:0.00040\tvalidation_0-PyLoss:15.77914\tvalidation_1-PyLoss:4.59508\n",
      "[943]\tvalidation_0-rmse:908.85736\tvalidation_1-rmse:0.00040\tvalidation_0-PyLoss:15.77914\tvalidation_1-PyLoss:4.59508\n",
      "[944]\tvalidation_0-rmse:908.85736\tvalidation_1-rmse:0.00040\tvalidation_0-PyLoss:15.77914\tvalidation_1-PyLoss:4.59508\n",
      "[945]\tvalidation_0-rmse:908.85736\tvalidation_1-rmse:0.00040\tvalidation_0-PyLoss:15.77914\tvalidation_1-PyLoss:4.59508\n",
      "[946]\tvalidation_0-rmse:908.85736\tvalidation_1-rmse:0.00040\tvalidation_0-PyLoss:15.77914\tvalidation_1-PyLoss:4.59508\n",
      "[947]\tvalidation_0-rmse:908.85736\tvalidation_1-rmse:0.00040\tvalidation_0-PyLoss:15.77914\tvalidation_1-PyLoss:4.59508\n",
      "[948]\tvalidation_0-rmse:908.85736\tvalidation_1-rmse:0.00040\tvalidation_0-PyLoss:15.77914\tvalidation_1-PyLoss:4.59508\n",
      "[949]\tvalidation_0-rmse:908.85736\tvalidation_1-rmse:0.00040\tvalidation_0-PyLoss:15.77914\tvalidation_1-PyLoss:4.59508\n",
      "[950]\tvalidation_0-rmse:908.85736\tvalidation_1-rmse:0.00040\tvalidation_0-PyLoss:15.77914\tvalidation_1-PyLoss:4.59508\n",
      "[951]\tvalidation_0-rmse:908.85736\tvalidation_1-rmse:0.00040\tvalidation_0-PyLoss:15.77914\tvalidation_1-PyLoss:4.59508\n",
      "[952]\tvalidation_0-rmse:908.85736\tvalidation_1-rmse:0.00040\tvalidation_0-PyLoss:15.77914\tvalidation_1-PyLoss:4.59508\n",
      "[953]\tvalidation_0-rmse:908.85736\tvalidation_1-rmse:0.00040\tvalidation_0-PyLoss:15.77914\tvalidation_1-PyLoss:4.59508\n",
      "[954]\tvalidation_0-rmse:908.85736\tvalidation_1-rmse:0.00040\tvalidation_0-PyLoss:15.77914\tvalidation_1-PyLoss:4.59508\n",
      "[955]\tvalidation_0-rmse:908.85736\tvalidation_1-rmse:0.00040\tvalidation_0-PyLoss:15.77914\tvalidation_1-PyLoss:4.59508\n",
      "[956]\tvalidation_0-rmse:908.85736\tvalidation_1-rmse:0.00040\tvalidation_0-PyLoss:15.77914\tvalidation_1-PyLoss:4.59508\n",
      "[957]\tvalidation_0-rmse:908.85736\tvalidation_1-rmse:0.00040\tvalidation_0-PyLoss:15.77914\tvalidation_1-PyLoss:4.59508\n",
      "[958]\tvalidation_0-rmse:908.85736\tvalidation_1-rmse:0.00040\tvalidation_0-PyLoss:15.77914\tvalidation_1-PyLoss:4.59508\n",
      "[959]\tvalidation_0-rmse:908.85736\tvalidation_1-rmse:0.00040\tvalidation_0-PyLoss:15.77914\tvalidation_1-PyLoss:4.59508\n",
      "[960]\tvalidation_0-rmse:908.85736\tvalidation_1-rmse:0.00040\tvalidation_0-PyLoss:15.77914\tvalidation_1-PyLoss:4.59508\n",
      "[961]\tvalidation_0-rmse:908.85736\tvalidation_1-rmse:0.00040\tvalidation_0-PyLoss:15.77914\tvalidation_1-PyLoss:4.59508\n",
      "[962]\tvalidation_0-rmse:908.85736\tvalidation_1-rmse:0.00040\tvalidation_0-PyLoss:15.77914\tvalidation_1-PyLoss:4.59508\n",
      "[963]\tvalidation_0-rmse:908.85736\tvalidation_1-rmse:0.00040\tvalidation_0-PyLoss:15.77914\tvalidation_1-PyLoss:4.59508\n",
      "[964]\tvalidation_0-rmse:908.85736\tvalidation_1-rmse:0.00040\tvalidation_0-PyLoss:15.77914\tvalidation_1-PyLoss:4.59508\n",
      "[965]\tvalidation_0-rmse:908.85736\tvalidation_1-rmse:0.00040\tvalidation_0-PyLoss:15.77914\tvalidation_1-PyLoss:4.59508\n",
      "[966]\tvalidation_0-rmse:908.85736\tvalidation_1-rmse:0.00040\tvalidation_0-PyLoss:15.77914\tvalidation_1-PyLoss:4.59508\n",
      "[967]\tvalidation_0-rmse:908.85736\tvalidation_1-rmse:0.00040\tvalidation_0-PyLoss:15.77914\tvalidation_1-PyLoss:4.59508\n",
      "[968]\tvalidation_0-rmse:908.85736\tvalidation_1-rmse:0.00040\tvalidation_0-PyLoss:15.77914\tvalidation_1-PyLoss:4.59508\n",
      "[969]\tvalidation_0-rmse:908.85736\tvalidation_1-rmse:0.00040\tvalidation_0-PyLoss:15.77914\tvalidation_1-PyLoss:4.59508\n",
      "[970]\tvalidation_0-rmse:908.85736\tvalidation_1-rmse:0.00040\tvalidation_0-PyLoss:15.77914\tvalidation_1-PyLoss:4.59508\n",
      "[971]\tvalidation_0-rmse:908.85736\tvalidation_1-rmse:0.00040\tvalidation_0-PyLoss:15.77914\tvalidation_1-PyLoss:4.59508\n",
      "[972]\tvalidation_0-rmse:908.85736\tvalidation_1-rmse:0.00040\tvalidation_0-PyLoss:15.77914\tvalidation_1-PyLoss:4.59508\n",
      "[973]\tvalidation_0-rmse:908.85736\tvalidation_1-rmse:0.00040\tvalidation_0-PyLoss:15.77914\tvalidation_1-PyLoss:4.59508\n",
      "[974]\tvalidation_0-rmse:908.85736\tvalidation_1-rmse:0.00040\tvalidation_0-PyLoss:15.77914\tvalidation_1-PyLoss:4.59508\n",
      "[975]\tvalidation_0-rmse:908.85736\tvalidation_1-rmse:0.00040\tvalidation_0-PyLoss:15.77914\tvalidation_1-PyLoss:4.59508\n",
      "[976]\tvalidation_0-rmse:908.85736\tvalidation_1-rmse:0.00040\tvalidation_0-PyLoss:15.77914\tvalidation_1-PyLoss:4.59508\n",
      "[977]\tvalidation_0-rmse:908.85736\tvalidation_1-rmse:0.00040\tvalidation_0-PyLoss:15.77914\tvalidation_1-PyLoss:4.59508\n",
      "[978]\tvalidation_0-rmse:908.85736\tvalidation_1-rmse:0.00040\tvalidation_0-PyLoss:15.77914\tvalidation_1-PyLoss:4.59508\n",
      "[979]\tvalidation_0-rmse:908.85736\tvalidation_1-rmse:0.00040\tvalidation_0-PyLoss:15.77914\tvalidation_1-PyLoss:4.59508\n",
      "[980]\tvalidation_0-rmse:908.85736\tvalidation_1-rmse:0.00040\tvalidation_0-PyLoss:15.77914\tvalidation_1-PyLoss:4.59508\n",
      "[981]\tvalidation_0-rmse:908.85736\tvalidation_1-rmse:0.00040\tvalidation_0-PyLoss:15.77914\tvalidation_1-PyLoss:4.59508\n",
      "[982]\tvalidation_0-rmse:908.85736\tvalidation_1-rmse:0.00040\tvalidation_0-PyLoss:15.77914\tvalidation_1-PyLoss:4.59508\n",
      "[983]\tvalidation_0-rmse:908.85736\tvalidation_1-rmse:0.00040\tvalidation_0-PyLoss:15.77914\tvalidation_1-PyLoss:4.59508\n",
      "[984]\tvalidation_0-rmse:908.85736\tvalidation_1-rmse:0.00040\tvalidation_0-PyLoss:15.77914\tvalidation_1-PyLoss:4.59508\n",
      "[985]\tvalidation_0-rmse:908.85736\tvalidation_1-rmse:0.00040\tvalidation_0-PyLoss:15.77914\tvalidation_1-PyLoss:4.59508\n",
      "[986]\tvalidation_0-rmse:908.85736\tvalidation_1-rmse:0.00040\tvalidation_0-PyLoss:15.77914\tvalidation_1-PyLoss:4.59508\n",
      "[987]\tvalidation_0-rmse:908.85736\tvalidation_1-rmse:0.00040\tvalidation_0-PyLoss:15.77914\tvalidation_1-PyLoss:4.59508\n",
      "[988]\tvalidation_0-rmse:908.85736\tvalidation_1-rmse:0.00040\tvalidation_0-PyLoss:15.77914\tvalidation_1-PyLoss:4.59508\n",
      "[989]\tvalidation_0-rmse:908.85736\tvalidation_1-rmse:0.00040\tvalidation_0-PyLoss:15.77914\tvalidation_1-PyLoss:4.59508\n",
      "[990]\tvalidation_0-rmse:908.85736\tvalidation_1-rmse:0.00040\tvalidation_0-PyLoss:15.77914\tvalidation_1-PyLoss:4.59508\n",
      "[991]\tvalidation_0-rmse:908.85736\tvalidation_1-rmse:0.00040\tvalidation_0-PyLoss:15.77914\tvalidation_1-PyLoss:4.59508\n",
      "[992]\tvalidation_0-rmse:908.85736\tvalidation_1-rmse:0.00040\tvalidation_0-PyLoss:15.77914\tvalidation_1-PyLoss:4.59508\n",
      "[993]\tvalidation_0-rmse:908.85736\tvalidation_1-rmse:0.00040\tvalidation_0-PyLoss:15.77914\tvalidation_1-PyLoss:4.59508\n"
     ]
    },
    {
     "name": "stdout",
     "output_type": "stream",
     "text": [
      "[994]\tvalidation_0-rmse:908.85736\tvalidation_1-rmse:0.00040\tvalidation_0-PyLoss:15.77914\tvalidation_1-PyLoss:4.59508\n",
      "[995]\tvalidation_0-rmse:908.85736\tvalidation_1-rmse:0.00040\tvalidation_0-PyLoss:15.77914\tvalidation_1-PyLoss:4.59508\n",
      "[996]\tvalidation_0-rmse:908.85736\tvalidation_1-rmse:0.00040\tvalidation_0-PyLoss:15.77914\tvalidation_1-PyLoss:4.59508\n",
      "[997]\tvalidation_0-rmse:908.85736\tvalidation_1-rmse:0.00040\tvalidation_0-PyLoss:15.77914\tvalidation_1-PyLoss:4.59508\n",
      "[998]\tvalidation_0-rmse:908.85736\tvalidation_1-rmse:0.00040\tvalidation_0-PyLoss:15.77914\tvalidation_1-PyLoss:4.59508\n",
      "[999]\tvalidation_0-rmse:908.85736\tvalidation_1-rmse:0.00040\tvalidation_0-PyLoss:15.77914\tvalidation_1-PyLoss:4.59508\n"
     ]
    },
    {
     "data": {
      "text/plain": [
       "XGBRegressor(base_score=0.5, booster='gbtree', colsample_bylevel=1,\n",
       "             colsample_bynode=1, colsample_bytree=1, gamma=0, gpu_id=-1,\n",
       "             importance_type='gain', interaction_constraints='',\n",
       "             learning_rate=0.300000012, max_delta_step=0, max_depth=6,\n",
       "             min_child_weight=1, missing=nan, monotone_constraints='()',\n",
       "             n_estimators=1000, n_jobs=0, num_parallel_tree=1,\n",
       "             objective='reg:squarederror', random_state=0, reg_alpha=0,\n",
       "             reg_lambda=1, scale_pos_weight=1, subsample=1, tree_method='exact',\n",
       "             validate_parameters=1, verbosity=None)"
      ]
     },
     "execution_count": 117,
     "metadata": {},
     "output_type": "execute_result"
    }
   ],
   "source": [
    "model = XGBRegressor(n_estimators=1000)\n",
    "model.fit(X_train[:100], y_train[:100], eval_metric=xgb_laplace_metric,\n",
    "          eval_set=[(X_test, y_test), (X_train[:100], y_train[:100])], verbose=True)\n",
    "# , eval_metric=\"error\", eval_set=eval_set, verbose=True)"
   ]
  },
  {
   "cell_type": "code",
   "execution_count": 132,
   "metadata": {
    "scrolled": true
   },
   "outputs": [
    {
     "name": "stdout",
     "output_type": "stream",
     "text": [
      "[0]\tvalidation_0-rmse:1903.45374\tvalidation_1-rmse:2021.73193\tvalidation_0-PyLoss:24.59586\tvalidation_1-PyLoss:24.66782\n",
      "[1]\tvalidation_0-rmse:1337.03064\tvalidation_1-rmse:1424.81348\tvalidation_0-PyLoss:23.35425\tvalidation_1-PyLoss:23.85805\n",
      "[2]\tvalidation_0-rmse:949.12268\tvalidation_1-rmse:1009.11426\tvalidation_0-PyLoss:20.35093\tvalidation_1-PyLoss:21.45843\n",
      "[3]\tvalidation_0-rmse:679.28509\tvalidation_1-rmse:720.96356\tvalidation_0-PyLoss:16.50493\tvalidation_1-PyLoss:17.64494\n",
      "[4]\tvalidation_0-rmse:501.03708\tvalidation_1-rmse:522.63629\tvalidation_0-PyLoss:13.13218\tvalidation_1-PyLoss:14.06476\n",
      "[5]\tvalidation_0-rmse:390.53622\tvalidation_1-rmse:388.85571\tvalidation_0-PyLoss:10.92609\tvalidation_1-PyLoss:11.43444\n",
      "[6]\tvalidation_0-rmse:323.44617\tvalidation_1-rmse:299.45447\tvalidation_0-PyLoss:9.57366\tvalidation_1-PyLoss:9.67866\n",
      "[7]\tvalidation_0-rmse:281.92471\tvalidation_1-rmse:242.39963\tvalidation_0-PyLoss:8.79170\tvalidation_1-PyLoss:8.53086\n",
      "[8]\tvalidation_0-rmse:262.89365\tvalidation_1-rmse:206.06386\tvalidation_0-PyLoss:8.40715\tvalidation_1-PyLoss:7.79841\n",
      "[9]\tvalidation_0-rmse:256.50867\tvalidation_1-rmse:183.41631\tvalidation_0-PyLoss:8.26605\tvalidation_1-PyLoss:7.35408\n",
      "[10]\tvalidation_0-rmse:251.76286\tvalidation_1-rmse:169.13283\tvalidation_0-PyLoss:8.19502\tvalidation_1-PyLoss:7.08582\n",
      "[11]\tvalidation_0-rmse:250.03355\tvalidation_1-rmse:158.75581\tvalidation_0-PyLoss:8.16936\tvalidation_1-PyLoss:6.90766\n"
     ]
    },
    {
     "data": {
      "text/plain": [
       "XGBRegressor(base_score=0.5, booster='gbtree', colsample_bylevel=1,\n",
       "             colsample_bynode=1, colsample_bytree=1, gamma=0, gpu_id=-1,\n",
       "             importance_type='gain', interaction_constraints='',\n",
       "             learning_rate=0.300000012, max_delta_step=0, max_depth=6,\n",
       "             min_child_weight=1, missing=nan, monotone_constraints='()',\n",
       "             n_estimators=12, n_jobs=0, num_parallel_tree=1,\n",
       "             objective='reg:squarederror', random_state=0, reg_alpha=0,\n",
       "             reg_lambda=1, scale_pos_weight=1, subsample=1, tree_method='exact',\n",
       "             validate_parameters=1, verbosity=None)"
      ]
     },
     "execution_count": 132,
     "metadata": {},
     "output_type": "execute_result"
    }
   ],
   "source": [
    "model = XGBRegressor(n_estimators=12)\n",
    "model.fit(X_train, y_train, eval_metric=xgb_laplace_metric,\n",
    "          eval_set=[(X_test, y_test), (X_train, y_train)], verbose=True)\n",
    "# , eval_metric=\"error\", eval_set=eval_set, verbose=True)"
   ]
  },
  {
   "cell_type": "code",
   "execution_count": 133,
   "metadata": {},
   "outputs": [
    {
     "data": {
      "text/plain": [
       "array([0.010345  , 0.00730107, 0.00966452, 0.01028113, 0.        ,\n",
       "       0.00157708, 0.00740865, 0.01192133, 0.        , 0.00561325,\n",
       "       0.03200223, 0.00938955, 0.00716583, 0.8813432 , 0.00598721],\n",
       "      dtype=float32)"
      ]
     },
     "execution_count": 133,
     "metadata": {},
     "output_type": "execute_result"
    }
   ],
   "source": [
    "model.feature_importances_"
   ]
  },
  {
   "cell_type": "code",
   "execution_count": null,
   "metadata": {},
   "outputs": [],
   "source": []
  },
  {
   "cell_type": "code",
   "execution_count": 124,
   "metadata": {},
   "outputs": [
    {
     "data": {
      "text/plain": [
       "9.040723648743892"
      ]
     },
     "execution_count": 124,
     "metadata": {},
     "output_type": "execute_result"
    }
   ],
   "source": [
    "preds = model.predict(X_test)\n",
    "metric_laplace(preds, y_test)"
   ]
  },
  {
   "cell_type": "code",
   "execution_count": 127,
   "metadata": {},
   "outputs": [
    {
     "data": {
      "text/plain": [
       "4.66529457807553"
      ]
     },
     "execution_count": 127,
     "metadata": {},
     "output_type": "execute_result"
    }
   ],
   "source": [
    "preds = model.predict(X_train)\n",
    "metric_laplace(preds, y_train)"
   ]
  },
  {
   "cell_type": "code",
   "execution_count": 130,
   "metadata": {},
   "outputs": [
    {
     "data": {
      "text/plain": [
       "3.4759970721713587"
      ]
     },
     "execution_count": 130,
     "metadata": {},
     "output_type": "execute_result"
    }
   ],
   "source": [
    "np.mean(np.abs(preds - y_train))"
   ]
  },
  {
   "cell_type": "code",
   "execution_count": 122,
   "metadata": {},
   "outputs": [
    {
     "data": {
      "text/plain": [
       "4.595068832329332"
      ]
     },
     "execution_count": 122,
     "metadata": {},
     "output_type": "execute_result"
    }
   ],
   "source": [
    "np.log(70) + np.log(2) / 2"
   ]
  },
  {
   "cell_type": "code",
   "execution_count": 120,
   "metadata": {},
   "outputs": [
    {
     "data": {
      "text/plain": [
       "array([2390., 2390., 2322., 2305., 2116., 2036., 2062., 1865., 1928.,\n",
       "       1901., 2322., 2390., 2390., 2322., 2305., 2116., 2036., 2062.,\n",
       "       1865., 1928., 1901., 2322., 2390., 2390., 2322., 2305., 2116.,\n",
       "       2036., 2062., 1865., 1928., 1901., 2322., 2390., 2390., 2322.,\n",
       "       2305., 2116., 2036., 2062., 1865., 1928., 1901., 2322., 2390.,\n",
       "       2390., 2322., 2305., 2116., 2036., 2062., 1865., 1928., 1901.,\n",
       "       2322., 2390., 2390., 2322., 2305., 2116., 2036., 2062., 1865.,\n",
       "       1928., 1901., 2322., 2390., 2390., 2322., 2305., 2116., 2036.,\n",
       "       2062., 1865., 1928., 1901., 2322., 2390., 2390., 2322., 2305.,\n",
       "       2116., 2036., 2062., 1865., 1928., 1901., 2322., 2390., 2390.,\n",
       "       2322., 2305., 2116., 2036., 2062., 1865., 1928., 1901., 2322.,\n",
       "       2390.])"
      ]
     },
     "execution_count": 120,
     "metadata": {},
     "output_type": "execute_result"
    }
   ],
   "source": [
    "y_train[:100]"
   ]
  },
  {
   "cell_type": "code",
   "execution_count": null,
   "metadata": {},
   "outputs": [],
   "source": []
  },
  {
   "cell_type": "code",
   "execution_count": null,
   "metadata": {},
   "outputs": [],
   "source": []
  },
  {
   "cell_type": "code",
   "execution_count": null,
   "metadata": {},
   "outputs": [],
   "source": [
    "xgb.train({'tree_method': 'hist', 'seed': 1994,\n",
    "           'disable_default_eval_metric': 1},\n",
    "          dtrain=dtrain,\n",
    "          num_boost_round=10,\n",
    "          obj=squared_log,\n",
    "          feval=rmsle,\n",
    "          evals=[(dtrain, 'dtrain'), (dtest, 'dtest')],\n",
    "          evals_result=results)"
   ]
  },
  {
   "cell_type": "code",
   "execution_count": null,
   "metadata": {},
   "outputs": [],
   "source": []
  },
  {
   "cell_type": "code",
   "execution_count": null,
   "metadata": {},
   "outputs": [],
   "source": []
  },
  {
   "cell_type": "code",
   "execution_count": null,
   "metadata": {},
   "outputs": [],
   "source": []
  },
  {
   "cell_type": "code",
   "execution_count": null,
   "metadata": {},
   "outputs": [],
   "source": []
  },
  {
   "cell_type": "code",
   "execution_count": null,
   "metadata": {},
   "outputs": [],
   "source": [
    "def forward(self, data):\n",
    "    weeks, FVCs, features, lungs, images = self._normalize_data(data)\n",
    "#         lungs_mean, lungs_std = -971.4692260919278, 117.84143467421829\n",
    "#         lungs = -1000 * (1.0 - data.masks) + data.masks * data.images\n",
    "#         lungs = (lungs - lungs_mean) / lungs_std\n",
    "#         lungs = torch.tensor(lungs, dtype=self.dtype, device=self.device)\n",
    "#         OSICNet._normalize_data(data)\n",
    "\n",
    "#         lungs = data.masks\n",
    "\n",
    "    ###############################\n",
    "#         lungs = lungs.unsqueeze(0).to(self.device)  # TODO: uncomment\n",
    "#         lungs_features = self.CT_features_extractor(lungs)\n",
    "    ###############################\n",
    "\n",
    "#         weeks_mean, weeks_std = 31.861846352485475, 23.240045178171002\n",
    "#         FVCs_mean, FVCs_std = 2690.479018721756, 832.5021066817238\n",
    "#         other_ftrs_mean = np.array([\n",
    "#             2.76561876e+00,  1.42373805e+00,  1.25608294e+00,  1.33766080e+02,\n",
    "#             -5.23857955e+02, -1.24154545e+03,  6.72613636e+01,  7.89772727e-01,\n",
    "#             2.10227273e-01,  6.70454545e-01,  2.78409091e-01,  5.11363636e-02\n",
    "#         ])\n",
    "#         other_ftrs_std = np.array([\n",
    "#             2.34777445e+00, 1.47563586e-01, 9.90841780e-01, 5.85989667e+01,\n",
    "#             1.92059435e+02, 8.48268563e+02, 7.06784382e+00, 4.07469958e-01,\n",
    "#             4.07469958e-01, 4.70048134e-01, 4.48215873e-01, 2.20275818e-01\n",
    "#         ])\n",
    "\n",
    "#         data._replace(weeks = (np.array(data.weeks) - weeks_mean) / weeks_std)\n",
    "#         data._replace(fvcs = (np.array(data.fvcs) - FVCs_mean) / FVCs_std)\n",
    "#         data._replace(features = (np.array(data.features) - other_ftrs_mean) / other_ftrs_std)\n",
    "\n",
    "#         data_weeks = torch.tensor(data.weeks, dtype=self.dtype)\n",
    "#         weeks = torch.empty(len(data.weeks), 4, dtype=self.dtype)\n",
    "#         weeks[:, 3] = 1\n",
    "#         weeks[:, 2] = data_weeks\n",
    "#         weeks[:, 1] = data_weeks ** 2\n",
    "#         weeks[:, 0] = data_weeks ** 3\n",
    "\n",
    "#         agg_loss = 0\n",
    "    all_preds = []\n",
    "    for base_week, base_FVC in zip(weeks, FVCs):\n",
    "        table_features = torch.cat([\n",
    "            torch.tensor([base_week]),\n",
    "            torch.tensor([base_FVC]),\n",
    "            features\n",
    "        ]).to(self.device)  # torch.tensor([week]),\n",
    "\n",
    "        all_features = torch.cat([table_features])  # lungs_features,  # TODO: uncomment\n",
    "\n",
    "        X = torch.cat([all_features.repeat(weeks.shape[0], 1), weeks.unsqueeze(1).to(self.device)], dim=1)\n",
    "\n",
    "        preds = self.predictor(X).cpu()\n",
    "\n",
    "#             for week in weeks:\n",
    "#                 table_features = torch.cat([torch.tensor([base_week]), torch.tensor([base_FVC]),\n",
    "#                                             torch.tensor([week]), features]).to(self.device)\n",
    "# #                                            dtype=self.dtype, device=self.device)\n",
    "#                 X = torch.cat([lungs_features, table_features])  # .to(self.device)  # lungs_features\n",
    "\n",
    "#                 pred_numbers = self.predictor(X).cpu()\n",
    "#                 preds = self.predictor(X).cpu()\n",
    "        all_preds.append(preds)\n",
    "#             coefs = pred_numbers[:4]\n",
    "#             log_sigma = pred_numbers[4]\n",
    "\n",
    "#             FVC_preds = (weeks * coefs).sum(dim=1)\n",
    "#             FVC_true = torch.tensor(data.fvcs, dtype=self.dtype)\n",
    "\n",
    "#             agg_loss += LaplaceLoss()(FVC_true, FVC_preds, log_sigma)\n",
    "\n",
    "#         return agg_loss / len(data.weeks)\n",
    "    return all_preds"
   ]
  },
  {
   "cell_type": "code",
   "execution_count": null,
   "metadata": {},
   "outputs": [],
   "source": []
  },
  {
   "cell_type": "code",
   "execution_count": null,
   "metadata": {},
   "outputs": [],
   "source": []
  },
  {
   "cell_type": "code",
   "execution_count": null,
   "metadata": {},
   "outputs": [],
   "source": []
  },
  {
   "cell_type": "code",
   "execution_count": null,
   "metadata": {},
   "outputs": [],
   "source": []
  },
  {
   "cell_type": "code",
   "execution_count": null,
   "metadata": {},
   "outputs": [],
   "source": []
  },
  {
   "cell_type": "code",
   "execution_count": 2,
   "metadata": {},
   "outputs": [],
   "source": [
    "class SqueezeLayer(nn.Module):\n",
    "    def forward(self, x):\n",
    "        return x.squeeze()\n",
    "\n",
    "\n",
    "class FeatureExtractor(nn.Module):\n",
    "    def __init__(self, net):\n",
    "        super().__init__()\n",
    "        self.net = net\n",
    "\n",
    "    def forward(self, x):\n",
    "        return self.net.extract_features(x.unsqueeze(0).unsqueeze(0))"
   ]
  },
  {
   "cell_type": "code",
   "execution_count": 3,
   "metadata": {},
   "outputs": [],
   "source": [
    "class VGG(torch.nn.Module):\n",
    "    _vgg_configurations = {\n",
    "        'small': [8, 'M', 8, 'M', 16, 'M', 16, 'M'],  # , 64, 'M', 64, 'M'],  # , 512, 'M', 512, 'M'],\n",
    "        8: [64, 'M', 128, 'M', 256, 'M', 512, 'M', 512, 'M'],\n",
    "        11: [64, 'M', 128, 'M', 256, 256, 'M', 512, 512, 'M', 512, 512, 'M'],\n",
    "        13: [64, 64, 'M', 128, 128, 'M', 256, 256, 'M', 512, 512, 'M', 512, 512, 'M'],\n",
    "        16: [64, 64, 'M', 128, 128, 'M', 256, 256, 256, 'M', 512, 512, 512, 'M', 512, 512, 512, 'M'],\n",
    "        19: [64, 64, 'M', 128, 128, 'M', 256, 256, 256, 256, 'M', 512, 512, 512, 512, 'M', 512, 512, 512, 512, 'M'],\n",
    "    }\n",
    "\n",
    "    @staticmethod\n",
    "    def _make_layers(cfg, batch_norm):\n",
    "        layers = []\n",
    "        in_channels = 1\n",
    "        for v in cfg:\n",
    "            if v == 'M':\n",
    "                layers += [torch.nn.MaxPool3d(kernel_size=2, stride=2)]\n",
    "            else:\n",
    "                layers += [torch.nn.Conv3d(in_channels, v, kernel_size=3, padding=1)]\n",
    "                if batch_norm:\n",
    "                    layers += [torch.nn.BatchNorm3d(v)]\n",
    "                layers += [torch.nn.ReLU(inplace=True)]\n",
    "                in_channels = v\n",
    "        return layers\n",
    "\n",
    "    def __init__(self, VGG_version, batch_norm):  # num_classes, \n",
    "        super().__init__()\n",
    "        self.VGG_version = VGG_version\n",
    "        self.batch_norm = batch_norm\n",
    "#         self.num_classes = num_classes\n",
    "\n",
    "#         self.layers = torch.nn.ModuleList([\n",
    "#             # Convolution Layers\n",
    "#             *make_layers(_vgg_configurations[VGG_version], batch_norm),\n",
    "\n",
    "#             torch.nn.modules.flatten.Flatten(),\n",
    "\n",
    "#             # Fully Connected Layers\n",
    "#             torch.nn.Dropout(),\n",
    "#             torch.nn.Linear(512, 512),\n",
    "#             torch.nn.ReLU(inplace=True),\n",
    "#             torch.nn.Dropout(),\n",
    "#             torch.nn.Linear(512, 512),\n",
    "#             torch.nn.ReLU(inplace=True),\n",
    "#             torch.nn.Linear(512, num_classes),\n",
    "#         ])\n",
    "        \n",
    "        self.net = nn.Sequential(\n",
    "            *VGG._make_layers(self._vgg_configurations[VGG_version], batch_norm)\n",
    "        )\n",
    "\n",
    "        self._initialize_weights()\n",
    "\n",
    "    def _initialize_weights(self):\n",
    "#         for module in self.modules():\n",
    "#             if isinstance(module, torch.nn.Conv3d):\n",
    "#                 torch.nn.init.kaiming_normal_(module.weight, mode='fan_out', nonlinearity='relu')\n",
    "#                 if module.bias is not None:\n",
    "#                     torch.nn.init.constant_(module.bias, 0)\n",
    "        for m in self.modules():\n",
    "            if isinstance(m, torch.nn.Conv3d):\n",
    "                n = m.kernel_size[0] * m.kernel_size[1] * m.kernel_size[2] * m.out_channels\n",
    "                m.weight.data.normal_(0, np.sqrt(2. / n))\n",
    "            elif isinstance(m, torch.nn.BatchNorm3d):\n",
    "                m.weight.data.fill_(1)\n",
    "                m.bias.data.zero_()\n",
    "            elif isinstance(m, nn.Linear):\n",
    "                nn.init.normal_(m.weight, 0, 0.01)\n",
    "                nn.init.constant_(m.bias, 0)\n",
    "\n",
    "    def forward(self, x: torch.Tensor):  # , target_layers: Optional[set] = None):\n",
    "#         intermediate_layers = []\n",
    "#         for idx, layer in enumerate(self.layers):\n",
    "#             if target_layers is not None and idx in target_layers:\n",
    "#                 x.requires_grad_(True)\n",
    "#                 intermediate_layers.append(x)\n",
    "#             x = layer(x)\n",
    "#         if target_layers is not None and len(self.layers) in target_layers:\n",
    "#             x.requires_grad_(True)\n",
    "#             intermediate_layers.append(x)\n",
    "\n",
    "#         if target_layers is not None:\n",
    "#             return x, intermediate_layers\n",
    "        return self.net(x)"
   ]
  },
  {
   "cell_type": "code",
   "execution_count": 53,
   "metadata": {},
   "outputs": [],
   "source": [
    "class LaplaceLoss(nn.Module):  # _Loss):\n",
    "    def forward(self, y_true, preds, log_sigma, metric=False):\n",
    "        abs_diff = (y_true - preds).abs()\n",
    "\n",
    "        log_sigma.clamp_(-5, 5)\n",
    "\n",
    "        if metric:\n",
    "            abs_diff.clamp_max_(1000)\n",
    "            log_sigma.clamp(-np.log(70), np.log(70))  # TODO: min bound is strange??\n",
    "\n",
    "#         log_sigma.clamp_min_(-5)\n",
    "\n",
    "        losses = np.sqrt(2) * abs_diff / log_sigma.exp() + log_sigma + np.log(2) / 2\n",
    "        return losses.mean()"
   ]
  },
  {
   "cell_type": "code",
   "execution_count": 76,
   "metadata": {},
   "outputs": [],
   "source": [
    "class OSICNet(nn.Module):\n",
    "    def __init__(self, dtype, device, efficient_net_model_number, hidden_size, dropout_rate):  # , output_size\n",
    "        super().__init__()\n",
    "\n",
    "        self.dtype = dtype\n",
    "        self.device = device\n",
    "\n",
    "        self.CT_features_extractor = nn.Sequential(\n",
    "#             FeatureExtractor(\n",
    "#                 EfficientNet3D.from_name(\n",
    "#                     f'efficientnet-b{efficient_net_model_number}', override_params={'num_classes': 1}, in_channels=1\n",
    "#                 )\n",
    "#             ),\n",
    "            VGG('small', True),\n",
    "            nn.AdaptiveAvgPool3d(1),\n",
    "            SqueezeLayer()\n",
    "        )\n",
    "\n",
    "        self.predictor = nn.Sequential(\n",
    "            nn.Linear(15, hidden_size),  # 16 +   # 1294\n",
    "            nn.ReLU(),  # nn.Tanh(),  # \n",
    "            nn.Dropout(dropout_rate),\n",
    "            nn.Linear(hidden_size, hidden_size),\n",
    "            nn.ReLU(),  # nn.Tanh(),  # \n",
    "            nn.Dropout(dropout_rate),\n",
    "            nn.Linear(hidden_size, 2)  # FVC & log_sigma  # output_size\n",
    "        )\n",
    "\n",
    "        self._initialize_weights()\n",
    "\n",
    "        self.CT_features_extractor.to(self.device)\n",
    "        self.predictor.to(self.device)\n",
    "\n",
    "    def _initialize_weights(self):\n",
    "        for m in self.modules():\n",
    "            if isinstance(m, torch.nn.Conv3d):\n",
    "                n = m.kernel_size[0] * m.kernel_size[1] * m.kernel_size[2] * m.out_channels\n",
    "                m.weight.data.normal_(0, np.sqrt(2. / n))\n",
    "            elif isinstance(m, torch.nn.BatchNorm3d):\n",
    "                m.weight.data.fill_(1)\n",
    "                m.bias.data.zero_()\n",
    "            elif isinstance(m, nn.Linear):\n",
    "                nn.init.normal_(m.weight, 0, 0.01)\n",
    "                nn.init.constant_(m.bias, 0)\n",
    "\n",
    "        \n",
    "#     def forward(self, data):\n",
    "#         mean_dataset, std_dataset = -971.4692260919278, 117.84143467421829\n",
    "#         lungs = -1000 * (1.0 - data.masks) + data.masks * data.images\n",
    "#         lungs = (lungs - mean_dataset) / std_dataset\n",
    "#         lungs = torch.tensor(lungs, dtype=self.dtype, device=self.device)\n",
    "#         lungs_features = self.CT_features_extractor(lungs)\n",
    "\n",
    "#         data_weeks = torch.tensor(data.weeks, dtype=self.dtype)\n",
    "#         weeks = torch.empty(len(data.weeks), 4, dtype=self.dtype)\n",
    "#         weeks[:, 3] = 1\n",
    "#         weeks[:, 2] = data_weeks\n",
    "#         weeks[:, 1] = data_weeks ** 2\n",
    "#         weeks[:, 0] = data_weeks ** 3\n",
    "\n",
    "#         agg_loss = 0\n",
    "#         for week, FVC in zip(data.weeks, data.fvcs):\n",
    "#             table_features = torch.tensor(np.r_[week, FVC, data.features], dtype=self.dtype, device=self.device)\n",
    "#             X = lungs_features  # torch.cat([lungs_features, table_features])\n",
    "\n",
    "#             pred_numbers = self.predictor(X).cpu()\n",
    "#             coefs = pred_numbers[:4]\n",
    "#             log_sigma = pred_numbers[4]\n",
    "\n",
    "#             FVC_preds = (weeks * coefs).sum(dim=1)\n",
    "#             FVC_true = torch.tensor(data.fvcs, dtype=self.dtype)\n",
    "\n",
    "#             agg_loss += LaplaceLoss()(FVC_true, FVC_preds, log_sigma)\n",
    "\n",
    "#         return agg_loss / len(data.weeks)\n",
    "\n",
    "    def _normalize_data(self, data):\n",
    "        weeks, FVCs, features, masks, images = data\n",
    "\n",
    "        lungs_mean, lungs_std = -971.4692260919278, 117.84143467421829\n",
    "        lungs = -1000 * (1.0 - masks) + masks * images\n",
    "        lungs = (lungs - lungs_mean) / lungs_std\n",
    "        lungs = lungs.type(self.dtype)\n",
    "#         lungs = torch.tensor(lungs, dtype=self.dtype, device=self.device)\n",
    "#         lungs_features = self.CT_features_extractor(lungs)\n",
    "\n",
    "        weeks_mean, weeks_std = 31.861846352485475, 23.240045178171002\n",
    "        FVCs_mean, FVCs_std = 2690.479018721756, 832.5021066817238\n",
    "        other_ftrs_mean = np.array([\n",
    "            2.76561876e+00,  1.42373805e+00,  1.25608294e+00,  1.33766080e+02,\n",
    "            -5.23857955e+02, -1.24154545e+03,  6.72613636e+01,  7.89772727e-01,\n",
    "            2.10227273e-01,  6.70454545e-01,  2.78409091e-01,  5.11363636e-02\n",
    "        ])\n",
    "        other_ftrs_std = np.array([\n",
    "            2.34777445e+00, 1.47563586e-01, 9.90841780e-01, 5.85989667e+01,\n",
    "            1.92059435e+02, 8.48268563e+02, 7.06784382e+00, 4.07469958e-01,\n",
    "            4.07469958e-01, 4.70048134e-01, 4.48215873e-01, 2.20275818e-01\n",
    "        ])\n",
    "\n",
    "        weeks = (weeks - weeks_mean) / weeks_std\n",
    "        FVCs = (FVCs - FVCs_mean) / FVCs_std\n",
    "        features = (features - other_ftrs_mean) / other_ftrs_std\n",
    "        features = features.type(self.dtype)\n",
    "#         masks = lungs\n",
    "#         images = None\n",
    "\n",
    "        return weeks, FVCs, features, lungs, images\n",
    "\n",
    "    def forward(self, data):\n",
    "        weeks, FVCs, features, lungs, images = self._normalize_data(data)\n",
    "#         lungs_mean, lungs_std = -971.4692260919278, 117.84143467421829\n",
    "#         lungs = -1000 * (1.0 - data.masks) + data.masks * data.images\n",
    "#         lungs = (lungs - lungs_mean) / lungs_std\n",
    "#         lungs = torch.tensor(lungs, dtype=self.dtype, device=self.device)\n",
    "#         OSICNet._normalize_data(data)\n",
    "\n",
    "#         lungs = data.masks\n",
    "\n",
    "        ###############################\n",
    "#         lungs = lungs.unsqueeze(0).to(self.device)  # TODO: uncomment\n",
    "#         lungs_features = self.CT_features_extractor(lungs)\n",
    "        ###############################\n",
    "        \n",
    "#         weeks_mean, weeks_std = 31.861846352485475, 23.240045178171002\n",
    "#         FVCs_mean, FVCs_std = 2690.479018721756, 832.5021066817238\n",
    "#         other_ftrs_mean = np.array([\n",
    "#             2.76561876e+00,  1.42373805e+00,  1.25608294e+00,  1.33766080e+02,\n",
    "#             -5.23857955e+02, -1.24154545e+03,  6.72613636e+01,  7.89772727e-01,\n",
    "#             2.10227273e-01,  6.70454545e-01,  2.78409091e-01,  5.11363636e-02\n",
    "#         ])\n",
    "#         other_ftrs_std = np.array([\n",
    "#             2.34777445e+00, 1.47563586e-01, 9.90841780e-01, 5.85989667e+01,\n",
    "#             1.92059435e+02, 8.48268563e+02, 7.06784382e+00, 4.07469958e-01,\n",
    "#             4.07469958e-01, 4.70048134e-01, 4.48215873e-01, 2.20275818e-01\n",
    "#         ])\n",
    "\n",
    "#         data._replace(weeks = (np.array(data.weeks) - weeks_mean) / weeks_std)\n",
    "#         data._replace(fvcs = (np.array(data.fvcs) - FVCs_mean) / FVCs_std)\n",
    "#         data._replace(features = (np.array(data.features) - other_ftrs_mean) / other_ftrs_std)\n",
    "\n",
    "#         data_weeks = torch.tensor(data.weeks, dtype=self.dtype)\n",
    "#         weeks = torch.empty(len(data.weeks), 4, dtype=self.dtype)\n",
    "#         weeks[:, 3] = 1\n",
    "#         weeks[:, 2] = data_weeks\n",
    "#         weeks[:, 1] = data_weeks ** 2\n",
    "#         weeks[:, 0] = data_weeks ** 3\n",
    "\n",
    "#         agg_loss = 0\n",
    "        all_preds = []\n",
    "        for base_week, base_FVC in zip(weeks, FVCs):\n",
    "            table_features = torch.cat([\n",
    "                torch.tensor([base_week]),\n",
    "                torch.tensor([base_FVC]),\n",
    "                features\n",
    "            ]).to(self.device)  # torch.tensor([week]),\n",
    "\n",
    "            all_features = torch.cat([table_features])  # lungs_features,  # TODO: uncomment\n",
    "\n",
    "            X = torch.cat([all_features.repeat(weeks.shape[0], 1), weeks.unsqueeze(1).to(self.device)], dim=1)\n",
    "\n",
    "            preds = self.predictor(X).cpu()\n",
    "            \n",
    "#             for week in weeks:\n",
    "#                 table_features = torch.cat([torch.tensor([base_week]), torch.tensor([base_FVC]),\n",
    "#                                             torch.tensor([week]), features]).to(self.device)\n",
    "# #                                            dtype=self.dtype, device=self.device)\n",
    "#                 X = torch.cat([lungs_features, table_features])  # .to(self.device)  # lungs_features\n",
    "\n",
    "#                 pred_numbers = self.predictor(X).cpu()\n",
    "#                 preds = self.predictor(X).cpu()\n",
    "            all_preds.append(preds)\n",
    "#             coefs = pred_numbers[:4]\n",
    "#             log_sigma = pred_numbers[4]\n",
    "\n",
    "#             FVC_preds = (weeks * coefs).sum(dim=1)\n",
    "#             FVC_true = torch.tensor(data.fvcs, dtype=self.dtype)\n",
    "            \n",
    "#             agg_loss += LaplaceLoss()(FVC_true, FVC_preds, log_sigma)\n",
    "\n",
    "#         return agg_loss / len(data.weeks)\n",
    "        return all_preds\n",
    "\n",
    "#     def forward(self, data):\n",
    "#         lungs_mean, lungs_std = -971.4692260919278, 117.84143467421829\n",
    "#         lungs = -1000 * (1.0 - data.masks) + data.masks * data.images\n",
    "#         lungs = (lungs - lungs_mean) / lungs_std\n",
    "#         lungs = torch.tensor(lungs, dtype=self.dtype, device=self.device)\n",
    "#         lungs_features = self.CT_features_extractor(lungs)\n",
    "\n",
    "#         weeks_mean, weeks_std = 31.861846352485475, 23.240045178171002\n",
    "#         FVCs_mean, FVCs_std = 2690.479018721756, 832.5021066817238\n",
    "#         other_ftrs_mean = np.array([\n",
    "#             2.76561876e+00,  1.42373805e+00,  1.25608294e+00,  1.33766080e+02,\n",
    "#             -5.23857955e+02, -1.24154545e+03,  6.72613636e+01,  7.89772727e-01,\n",
    "#             2.10227273e-01,  6.70454545e-01,  2.78409091e-01,  5.11363636e-02\n",
    "#         ])\n",
    "#         other_ftrs_std = np.array([\n",
    "#             2.34777445e+00, 1.47563586e-01, 9.90841780e-01, 5.85989667e+01,\n",
    "#             1.92059435e+02, 8.48268563e+02, 7.06784382e+00, 4.07469958e-01,\n",
    "#             4.07469958e-01, 4.70048134e-01, 4.48215873e-01, 2.20275818e-01\n",
    "#         ])\n",
    "\n",
    "#         data._replace(weeks = (np.array(data.weeks) - weeks_mean) / weeks_std)\n",
    "#         data._replace(fvcs = (np.array(data.fvcs) - FVCs_mean) / FVCs_std)\n",
    "#         data._replace(features = (np.array(data.features) - other_ftrs_mean) / other_ftrs_std)\n",
    "\n",
    "# #         data_weeks = torch.tensor(data.weeks, dtype=self.dtype)\n",
    "# #         weeks = torch.empty(len(data.weeks), 4, dtype=self.dtype)\n",
    "# #         weeks[:, 3] = 1\n",
    "# #         weeks[:, 2] = data_weeks\n",
    "# #         weeks[:, 1] = data_weeks ** 2\n",
    "# #         weeks[:, 0] = data_weeks ** 3\n",
    "\n",
    "# #         agg_loss = 0\n",
    "#         all_preds = []\n",
    "#         for week, FVC in zip(data.weeks, data.fvcs):\n",
    "#             table_features = torch.tensor(np.r_[week, FVC, data.features], dtype=self.dtype, device=self.device)\n",
    "#             X = torch.cat([lungs_features, table_features])  # lungs_features\n",
    "\n",
    "#             pred_numbers = self.predictor(X).cpu()\n",
    "#             all_preds.append(pred_numbers)\n",
    "# #             coefs = pred_numbers[:4]\n",
    "# #             log_sigma = pred_numbers[4]\n",
    "\n",
    "# #             FVC_preds = (weeks * coefs).sum(dim=1)\n",
    "# #             FVC_true = torch.tensor(data.fvcs, dtype=self.dtype)\n",
    "            \n",
    "# #             agg_loss += LaplaceLoss()(FVC_true, FVC_preds, log_sigma)\n",
    "\n",
    "# #         return agg_loss / len(data.weeks)\n",
    "#         return all_preds\n",
    "\n",
    "\n",
    "class LinearDecayLR(_LRScheduler):\n",
    "    def __init__(self, optimizer, start_epoch, stop_epoch, start_lr, stop_lr, last_epoch=-1):\n",
    "        self.optimizer = optimizer\n",
    "\n",
    "        self.start_epoch = start_epoch\n",
    "        self.stop_epoch = stop_epoch\n",
    "\n",
    "        self.start_lr = start_lr\n",
    "        self.stop_lr = stop_lr\n",
    "\n",
    "        self.last_epoch = last_epoch\n",
    "\n",
    "        super().__init__(optimizer, last_epoch)\n",
    "\n",
    "    def get_lr(self) -> list:\n",
    "        if self.last_epoch < self.start_epoch:\n",
    "            new_lr = self.start_lr\n",
    "        elif self.last_epoch > self.stop_epoch:\n",
    "            new_lr = self.stop_lr\n",
    "        else:\n",
    "            new_lr = self.start_lr + (\n",
    "                (self.stop_lr - self.start_lr) *\n",
    "                (self.last_epoch - self.start_epoch) /\n",
    "                (self.stop_epoch - self.start_epoch)\n",
    "            )\n",
    "        return [new_lr for _ in self.optimizer.param_groups]"
   ]
  },
  {
   "cell_type": "code",
   "execution_count": 80,
   "metadata": {},
   "outputs": [],
   "source": [
    "model = OSICNet(dtype=dtype, device=device, efficient_net_model_number=0, hidden_size=1024, dropout_rate=0)  # 512, 0.5)\n",
    "# optimizer = optim.SGD(model.parameters(), lr=1e-8, momentum=0.9)  # , weight_decay=5e-4)\n",
    "optimizer = optim.Adam(model.parameters(), lr=1e-3)  # 3e-4\n",
    "# optimizer = optim.SGD(model.parameters(), lr=1e-3)  # 3e-4\n",
    "\n",
    "\n",
    "### TMP ###\n",
    "# optimizer = optim.SGD(model.parameters(), lr=1e-9, momentum=0, weight_decay=0)  # 0.9, 5e-4)\n",
    "# lr_scheduler = LinearDecayLR(optimizer, )\n",
    "\n",
    "\n",
    "\n",
    "# for g in optimizer.param_groups:\n",
    "#     g['lr'] /= 10\n",
    "\n",
    "\n",
    "\n",
    "# from torchsummary import summary\n",
    "# summary(model.CT_features_extractor[0].net)\n",
    "\n",
    "# mmm = FeatureExtractor(\n",
    "#     EfficientNet3D.from_name(\n",
    "#         f'efficientnet-b{0}', override_params={'num_classes': 1}, in_channels=1\n",
    "#     )\n",
    "# )\n",
    "\n",
    "# summary(mmm)\n",
    "\n",
    "# preds = model(train_dataset[0])\n",
    "# preds\n",
    "\n",
    "\n",
    "# torch.cat([torch.tensor([1]), torch.tensor([2]), torch.tensor([3]), torch.tensor([1, 2, 3])])\n",
    "\n",
    "# lungs_features.shape\n",
    "\n",
    "# preds\n",
    "# preds[0]"
   ]
  },
  {
   "cell_type": "code",
   "execution_count": 82,
   "metadata": {
    "scrolled": true
   },
   "outputs": [
    {
     "name": "stdout",
     "output_type": "stream",
     "text": [
      "Epoch   1, iter    1, loss   215.532227, metric     7.124202, metric (last 3)     7.905583, cur iter time    0.1 sec, elapsed time    1.1 sec, \n",
      "Epoch   2, iter    1, loss   232.523544, metric     7.152499, metric (last 3)     7.973914, cur iter time    0.1 sec, elapsed time    3.3 sec, \n",
      "Epoch   3, iter    1, loss   233.278305, metric     7.149758, metric (last 3)     7.955373, cur iter time    0.1 sec, elapsed time    5.5 sec, \n",
      "Epoch   4, iter    1, loss   219.824799, metric     7.122278, metric (last 3)     7.866842, cur iter time    0.1 sec, elapsed time    7.6 sec, \n",
      "Epoch   5, iter    1, loss   199.639984, metric     7.074555, metric (last 3)     7.720900, cur iter time    0.1 sec, elapsed time    9.8 sec, \n",
      "Epoch   6, iter    1, loss   186.901215, metric     7.012407, metric (last 3)     7.535490, cur iter time    0.1 sec, elapsed time   12.0 sec, \n",
      "Epoch   7, iter    1, loss   193.772888, metric     6.953107, metric (last 3)     7.350733, cur iter time    0.1 sec, elapsed time   14.2 sec, \n",
      "Epoch   8, iter    1, loss   207.887604, metric     6.977156, metric (last 3)     7.230093, cur iter time    0.1 sec, elapsed time   16.3 sec, \n",
      "Epoch   9, iter    1, loss   209.232925, metric     6.979387, metric (last 3)     7.211763, cur iter time    0.1 sec, elapsed time   18.5 sec, \n",
      "Epoch  10, iter    1, loss   197.164185, metric     6.951770, metric (last 3)     7.286256, cur iter time    0.1 sec, elapsed time   20.6 sec, \n"
     ]
    }
   ],
   "source": [
    "MAX_EPOCHS = 10\n",
    "\n",
    "\n",
    "start_time = time.time()\n",
    "for epoch in range(MAX_EPOCHS):\n",
    "    for cur_iter, data in enumerate(train_dataset):  # tqdm(, desc='Iteration over dataset'):\n",
    "        if cur_iter >= 1:\n",
    "            break\n",
    "        cur_start_time = time.time()\n",
    "\n",
    "        weeks, FVC_true, features, lungs, images = data\n",
    "\n",
    "        optimizer.zero_grad()\n",
    "#         loss = model(data)\n",
    "\n",
    "        weeks_mean, weeks_std = 31.861846352485475, 23.240045178171002\n",
    "        weeks = (weeks - weeks_mean) / weeks_std\n",
    "        FVCs_mean, FVCs_std = 2690.479018721756, 832.5021066817238\n",
    "\n",
    "#         data_weeks = torch.tensor(data.weeks, dtype=dtype)\n",
    "#         data_weeks = (data_weeks - weeks_mean) / weeks_std\n",
    "#         weeks = torch.empty(len(data.weeks), 4, dtype=dtype)\n",
    "#         weeks[:, 0] = data_weeks ** 3  # TODO: remove\n",
    "#         weeks[:, 1] = data_weeks ** 2  # TODO: remove\n",
    "#         weeks[:, 2] = data_weeks\n",
    "#         weeks[:, 3] = 1\n",
    "\n",
    "        all_preds = model(data)\n",
    "\n",
    "        agg_loss = 0\n",
    "        agg_metric = 0\n",
    "        agg_metric_last_3 = 0\n",
    "        for week, preds, _ in zip(weeks, all_preds, [None, ]):  # TODO: REMOVE!\n",
    "#             coefs = preds[:4]\n",
    "#             preds.retain_grad()\n",
    "#             log_sigma = preds[4]\n",
    "#             print(log_sigma.item())\n",
    "            FVC_preds, log_sigmas = preds.transpose(0, 1)\n",
    "            FVC_preds = FVC_preds * FVCs_std + FVCs_mean\n",
    "\n",
    "#             coefs[0] /= 4\n",
    "#             coefs[1] /= 2\n",
    "#             coefs[2] /= 1\n",
    "# \n",
    "#             coefs.retain_grad()  # TODO: remove\n",
    "\n",
    "#             FVC_preds = (weeks * coefs).sum(dim=1)\n",
    "#             FVC_preds = FVC_preds * FVCs_std + FVCs_mean\n",
    "#             FVC_true = torch.tensor(FVCs, dtype=dtype)\n",
    "\n",
    "#             agg_loss += LaplaceLoss()(FVC_true, FVC_preds, log_sigmas)\n",
    "            agg_loss += nn.MSELoss()(FVC_true, FVC_preds).pow(0.5)  # , log_sigmas)\n",
    "            with torch.no_grad():\n",
    "                agg_metric += LaplaceLoss()(FVC_true, FVC_preds, torch.tensor(5.), metric=True).item()  # log_sigmas\n",
    "                agg_metric_last_3 += LaplaceLoss()(FVC_true[-3:], FVC_preds[-3:], torch.tensor(5.), metric=True).item()\n",
    "        loss = agg_loss  #  / weeks.shape[0]\n",
    "        metric = agg_metric  #  / weeks.shape[0]\n",
    "        metric_last_3 = agg_metric_last_3  #  / weeks.shape[0]\n",
    "\n",
    "        loss.backward()\n",
    "#         print(coefs, coefs.grad)\n",
    "#         print(preds.grad)\n",
    "        optimizer.step()\n",
    "\n",
    "        cur_end_time = time.time()\n",
    "\n",
    "        print(\n",
    "            f'Epoch {epoch + 1:3d}, '\n",
    "            f'iter {cur_iter + 1:4d}, '\n",
    "            f'loss {loss.item():12.6f}, '\n",
    "            f'metric {metric:12.6f}, '\n",
    "            f'metric (last 3) {metric_last_3:12.6f}, '\n",
    "            f'cur iter time {cur_end_time - cur_start_time:6.1f} sec, '\n",
    "            f'elapsed time {cur_end_time - start_time:6.1f} sec, '\n",
    "#             f'log sigma {log_sigmas.detach().mean().item()}'\n",
    "        )"
   ]
  },
  {
   "cell_type": "code",
   "execution_count": null,
   "metadata": {},
   "outputs": [],
   "source": []
  },
  {
   "cell_type": "code",
   "execution_count": null,
   "metadata": {},
   "outputs": [],
   "source": []
  },
  {
   "cell_type": "code",
   "execution_count": null,
   "metadata": {},
   "outputs": [],
   "source": []
  },
  {
   "cell_type": "code",
   "execution_count": 62,
   "metadata": {},
   "outputs": [],
   "source": [
    "for g in optimizer.param_groups:\n",
    "    g['lr'] /= 10"
   ]
  },
  {
   "cell_type": "code",
   "execution_count": 35,
   "metadata": {},
   "outputs": [
    {
     "data": {
      "text/plain": [
       "24.79811972337355"
      ]
     },
     "execution_count": 35,
     "metadata": {},
     "output_type": "execute_result"
    }
   ],
   "source": [
    "np.sqrt(2) * 1000 / 70 + np.log(70) + np.log(2) / 2"
   ]
  },
  {
   "cell_type": "code",
   "execution_count": 36,
   "metadata": {},
   "outputs": [
    {
     "data": {
      "text/plain": [
       "tensor([2390, 2390, 2322, 2305, 2116, 2036, 2062, 1865, 1928, 1901, 2322])"
      ]
     },
     "execution_count": 36,
     "metadata": {},
     "output_type": "execute_result"
    }
   ],
   "source": [
    "FVC_true"
   ]
  },
  {
   "cell_type": "code",
   "execution_count": 37,
   "metadata": {},
   "outputs": [
    {
     "data": {
      "text/plain": [
       "tensor([2390.0376, 2390.0376, 2390.0376, 2390.0376, 2390.0376, 2390.0376,\n",
       "        2390.0376, 2390.0376, 2390.0376, 2390.0376, 2390.0371],\n",
       "       grad_fn=<AddBackward0>)"
      ]
     },
     "execution_count": 37,
     "metadata": {},
     "output_type": "execute_result"
    }
   ],
   "source": [
    "all_preds[0][:, 0] * FVCs_std + FVCs_mean"
   ]
  },
  {
   "cell_type": "code",
   "execution_count": 52,
   "metadata": {},
   "outputs": [
    {
     "data": {
      "text/plain": [
       "tensor(7.4446, grad_fn=<MeanBackward0>)"
      ]
     },
     "execution_count": 52,
     "metadata": {},
     "output_type": "execute_result"
    }
   ],
   "source": [
    "LaplaceLoss()(FVC_true, all_preds[0][:, 0] * FVCs_std + FVCs_mean, log_sigmas, True)"
   ]
  },
  {
   "cell_type": "code",
   "execution_count": 53,
   "metadata": {},
   "outputs": [
    {
     "data": {
      "text/plain": [
       "tensor(7.4446, grad_fn=<MeanBackward0>)"
      ]
     },
     "execution_count": 53,
     "metadata": {},
     "output_type": "execute_result"
    }
   ],
   "source": [
    "LaplaceLoss()(FVC_true, all_preds[0][:, 0] * FVCs_std + FVCs_mean, log_sigmas, False)"
   ]
  },
  {
   "cell_type": "code",
   "execution_count": 33,
   "metadata": {},
   "outputs": [
    {
     "data": {
      "text/plain": [
       "tensor(25.7638, grad_fn=<MeanBackward0>)"
      ]
     },
     "execution_count": 33,
     "metadata": {},
     "output_type": "execute_result"
    }
   ],
   "source": [
    "LaplaceLoss()(FVC_true, FVC_preds, log_sigmas)"
   ]
  },
  {
   "cell_type": "code",
   "execution_count": 34,
   "metadata": {},
   "outputs": [
    {
     "data": {
      "text/plain": [
       "tensor(25.7757, grad_fn=<MeanBackward0>)"
      ]
     },
     "execution_count": 34,
     "metadata": {},
     "output_type": "execute_result"
    }
   ],
   "source": [
    "LaplaceLoss()(FVC_true, FVC_preds[0], log_sigmas)"
   ]
  },
  {
   "cell_type": "code",
   "execution_count": null,
   "metadata": {},
   "outputs": [],
   "source": []
  },
  {
   "cell_type": "code",
   "execution_count": null,
   "metadata": {},
   "outputs": [],
   "source": []
  },
  {
   "cell_type": "code",
   "execution_count": 26,
   "metadata": {},
   "outputs": [
    {
     "ename": "NameError",
     "evalue": "name 'coefs' is not defined",
     "output_type": "error",
     "traceback": [
      "\u001b[1;31m---------------------------------------------------------------------------\u001b[0m",
      "\u001b[1;31mNameError\u001b[0m                                 Traceback (most recent call last)",
      "\u001b[1;32m<ipython-input-26-b234d62209fd>\u001b[0m in \u001b[0;36m<module>\u001b[1;34m\u001b[0m\n\u001b[1;32m----> 1\u001b[1;33m \u001b[0mcoefs\u001b[0m\u001b[1;33m.\u001b[0m\u001b[0mgrad\u001b[0m\u001b[1;33m\u001b[0m\u001b[1;33m\u001b[0m\u001b[0m\n\u001b[0m",
      "\u001b[1;31mNameError\u001b[0m: name 'coefs' is not defined"
     ]
    }
   ],
   "source": [
    "coefs.grad"
   ]
  },
  {
   "cell_type": "code",
   "execution_count": null,
   "metadata": {},
   "outputs": [],
   "source": [
    "weeks_mean ** 3, weeks_mean ** 2, weeks_mean, 1"
   ]
  },
  {
   "cell_type": "code",
   "execution_count": null,
   "metadata": {},
   "outputs": [],
   "source": []
  },
  {
   "cell_type": "code",
   "execution_count": 55,
   "metadata": {},
   "outputs": [],
   "source": []
  },
  {
   "cell_type": "code",
   "execution_count": null,
   "metadata": {},
   "outputs": [],
   "source": []
  },
  {
   "cell_type": "code",
   "execution_count": null,
   "metadata": {},
   "outputs": [],
   "source": []
  },
  {
   "cell_type": "code",
   "execution_count": 9,
   "metadata": {},
   "outputs": [],
   "source": [
    "class LaplaceLossTMP(_Loss):\n",
    "    def forward(self, y_true, preds, log_sigma):\n",
    "        abs_diff = (y_true - preds).abs()\n",
    "#         abs_diff.clamp_max_(1_000)\n",
    "        log_sigma.clamp_(-5, 5)  # -np.log(70), np.log(70)\n",
    "#         log_sigma.clamp_min_(-5)\n",
    "        losses = np.sqrt(2) * abs_diff / log_sigma.exp() + log_sigma + np.log(2) / 2\n",
    "        return losses.mean()"
   ]
  },
  {
   "cell_type": "code",
   "execution_count": 10,
   "metadata": {},
   "outputs": [
    {
     "data": {
      "text/plain": [
       "0.6365897236027999"
      ]
     },
     "execution_count": 10,
     "metadata": {},
     "output_type": "execute_result"
    }
   ],
   "source": [
    "np.exp(-0.4516299068927765)"
   ]
  },
  {
   "cell_type": "code",
   "execution_count": null,
   "metadata": {},
   "outputs": [],
   "source": [
    "# data = train_dataset[0]\n",
    "\n",
    "\n",
    "# weeks_mean, weeks_std = 31.861846352485475, 23.240045178171002\n",
    "# FVCs_mean, FVCs_std = 2690.479018721756, 832.5021066817238\n",
    "\n",
    "# data_weeks = torch.tensor(data.weeks, dtype=dtype)\n",
    "# data_weeks = (data_weeks - weeks_mean) / weeks_std\n",
    "# weeks = torch.empty(len(data.weeks), 4, dtype=dtype)\n",
    "# weeks[:, 0] = 0 * data_weeks ** 3  # TODO: remove\n",
    "# weeks[:, 1] = 0 * data_weeks ** 2  # TODO: remove\n",
    "# weeks[:, 2] = data_weeks\n",
    "# weeks[:, 3] = 1\n",
    "\n",
    "# all_preds = model(data)"
   ]
  },
  {
   "cell_type": "code",
   "execution_count": 17,
   "metadata": {},
   "outputs": [],
   "source": [
    "import matplotlib.pyplot as plt"
   ]
  },
  {
   "cell_type": "code",
   "execution_count": 35,
   "metadata": {},
   "outputs": [
    {
     "data": {
      "text/plain": [
       "[<matplotlib.lines.Line2D at 0x22a6482ee08>]"
      ]
     },
     "execution_count": 35,
     "metadata": {},
     "output_type": "execute_result"
    },
    {
     "data": {
      "image/png": "[encoded data removed]",
      "text/plain": [
       "<Figure size 432x288 with 1 Axes>"
      ]
     },
     "metadata": {
      "needs_background": "light"
     },
     "output_type": "display_data"
    }
   ],
   "source": [
    "plt.plot(data.weeks, FVC_preds.detach().cpu().numpy())\n",
    "\n",
    "plt.plot(data.weeks, FVC_true.cpu().numpy())"
   ]
  },
  {
   "cell_type": "code",
   "execution_count": 32,
   "metadata": {},
   "outputs": [],
   "source": [
    "agg_loss = 0\n",
    "for FVC, preds in zip(data.fvcs, all_preds):\n",
    "    coefs = preds[:4]\n",
    "    log_sigma = preds[4]\n",
    "#             print(log_sigma.item())\n",
    "\n",
    "    FVC_preds = (weeks * coefs).sum(dim=1)\n",
    "    FVC_preds = FVC_preds * FVCs_std + FVCs_mean + 1000 - 200\n",
    "    FVC_true = torch.tensor(data.fvcs, dtype=dtype)\n",
    "\n",
    "    agg_loss += LaplaceLossTMP()(FVC_true, FVC_preds, torch.tensor(np.log(70)))\n",
    "loss = agg_loss / len(data.weeks)"
   ]
  },
  {
   "cell_type": "code",
   "execution_count": 33,
   "metadata": {},
   "outputs": [
    {
     "data": {
      "text/plain": [
       "tensor(8.7861, grad_fn=<DivBackward0>)"
      ]
     },
     "execution_count": 33,
     "metadata": {},
     "output_type": "execute_result"
    }
   ],
   "source": [
    "loss"
   ]
  },
  {
   "cell_type": "code",
   "execution_count": null,
   "metadata": {},
   "outputs": [],
   "source": []
  },
  {
   "cell_type": "code",
   "execution_count": null,
   "metadata": {},
   "outputs": [],
   "source": []
  },
  {
   "cell_type": "code",
   "execution_count": null,
   "metadata": {},
   "outputs": [],
   "source": [
    "log_sigma.item()"
   ]
  },
  {
   "cell_type": "code",
   "execution_count": null,
   "metadata": {},
   "outputs": [],
   "source": []
  },
  {
   "cell_type": "code",
   "execution_count": null,
   "metadata": {},
   "outputs": [],
   "source": []
  },
  {
   "cell_type": "code",
   "execution_count": 24,
   "metadata": {},
   "outputs": [],
   "source": [
    "from torchsummary import summary"
   ]
  },
  {
   "cell_type": "code",
   "execution_count": 26,
   "metadata": {
    "scrolled": true
   },
   "outputs": [],
   "source": [
    "# summary(model.CT_features_extractor[0].net)"
   ]
  },
  {
   "cell_type": "code",
   "execution_count": null,
   "metadata": {},
   "outputs": [],
   "source": []
  },
  {
   "cell_type": "code",
   "execution_count": null,
   "metadata": {},
   "outputs": [],
   "source": []
  },
  {
   "cell_type": "code",
   "execution_count": null,
   "metadata": {
    "scrolled": true
   },
   "outputs": [],
   "source": [
    "for name, p in model.named_parameters():\n",
    "    print(f'{name[20:]:50} : {p.data.min().item():15.3e}, {p.data.max().item():15.3e}')"
   ]
  },
  {
   "cell_type": "code",
   "execution_count": 13,
   "metadata": {},
   "outputs": [],
   "source": [
    "all_preds = model(train_dataset[2])"
   ]
  },
  {
   "cell_type": "code",
   "execution_count": 14,
   "metadata": {},
   "outputs": [
    {
     "data": {
      "text/plain": [
       "[tensor([-0.0239,  0.0427, -0.0162,  0.0765, -0.0407], grad_fn=<CopyBackwards>),\n",
       " tensor([-0.0596,  0.0999,  0.0310,  0.0311, -0.0328], grad_fn=<CopyBackwards>),\n",
       " tensor([-0.0534,  0.0610,  0.0263,  0.1096, -0.0509], grad_fn=<CopyBackwards>),\n",
       " tensor([-0.0468, -0.0004,  0.0322,  0.0902, -0.0749], grad_fn=<CopyBackwards>),\n",
       " tensor([-0.0137,  0.0090,  0.0003,  0.0589, -0.0920], grad_fn=<CopyBackwards>),\n",
       " tensor([-0.0302,  0.0220,  0.0029,  0.1146, -0.0387], grad_fn=<CopyBackwards>),\n",
       " tensor([-0.0218,  0.0516, -0.0411,  0.0951,  0.0158], grad_fn=<CopyBackwards>),\n",
       " tensor([-0.0205,  0.0779, -0.0219,  0.1012, -0.0544], grad_fn=<CopyBackwards>),\n",
       " tensor([ 0.0394,  0.0843, -0.0223,  0.0686, -0.0343], grad_fn=<CopyBackwards>)]"
      ]
     },
     "execution_count": 14,
     "metadata": {},
     "output_type": "execute_result"
    }
   ],
   "source": [
    "all_preds"
   ]
  },
  {
   "cell_type": "code",
   "execution_count": 16,
   "metadata": {},
   "outputs": [],
   "source": [
    "data = train_dataset[2]\n",
    "data_weeks = torch.tensor(data.weeks, dtype=dtype)\n",
    "weeks = torch.empty(len(data.weeks), 4, dtype=dtype)\n",
    "weeks[:, 0] = data_weeks ** 3\n",
    "weeks[:, 1] = data_weeks ** 2\n",
    "weeks[:, 2] = data_weeks\n",
    "weeks[:, 3] = 1\n",
    "\n",
    "# all_preds = model(data)\n",
    "\n",
    "agg_loss = 0\n",
    "for week, FVC, preds in zip(data.weeks, data.fvcs, all_preds):\n",
    "    coefs = preds[:4]\n",
    "    log_sigma = preds[4]\n",
    "\n",
    "    FVC_preds = (weeks * coefs).sum(dim=1)\n",
    "    FVC_true = torch.tensor(data.fvcs, dtype=dtype)\n",
    "\n",
    "    agg_loss += LaplaceLoss()(FVC_true, FVC_preds, log_sigma)\n",
    "loss = agg_loss / len(data.weeks)"
   ]
  },
  {
   "cell_type": "code",
   "execution_count": 17,
   "metadata": {},
   "outputs": [
    {
     "data": {
      "text/plain": [
       "tensor(4912.0527, grad_fn=<DivBackward0>)"
      ]
     },
     "execution_count": 17,
     "metadata": {},
     "output_type": "execute_result"
    }
   ],
   "source": [
    "loss"
   ]
  },
  {
   "cell_type": "code",
   "execution_count": 18,
   "metadata": {},
   "outputs": [],
   "source": [
    "loss.backward()"
   ]
  },
  {
   "cell_type": "code",
   "execution_count": null,
   "metadata": {},
   "outputs": [],
   "source": []
  },
  {
   "cell_type": "code",
   "execution_count": 25,
   "metadata": {
    "scrolled": true
   },
   "outputs": [
    {
     "ename": "RuntimeError",
     "evalue": "CUDA error: unspecified launch failure",
     "output_type": "error",
     "traceback": [
      "\u001b[1;31m---------------------------------------------------------------------------\u001b[0m",
      "\u001b[1;31mRuntimeError\u001b[0m                              Traceback (most recent call last)",
      "\u001b[1;32m<ipython-input-25-8b8d69623f00>\u001b[0m in \u001b[0;36m<module>\u001b[1;34m\u001b[0m\n\u001b[0;32m      4\u001b[0m             \u001b[0mprint\u001b[0m\u001b[1;33m(\u001b[0m\u001b[1;34mf'Has grad but it is None: {name[20:]:50}'\u001b[0m\u001b[1;33m)\u001b[0m\u001b[1;33m\u001b[0m\u001b[1;33m\u001b[0m\u001b[0m\n\u001b[0;32m      5\u001b[0m         \u001b[1;32melse\u001b[0m\u001b[1;33m:\u001b[0m\u001b[1;33m\u001b[0m\u001b[1;33m\u001b[0m\u001b[0m\n\u001b[1;32m----> 6\u001b[1;33m             \u001b[0mprint\u001b[0m\u001b[1;33m(\u001b[0m\u001b[1;34mf'{name[20:]:50} : {p.grad.data.cpu().min().item():15.3e}, {p.grad.data.cpu().max().item():15.3e}'\u001b[0m\u001b[1;33m)\u001b[0m\u001b[1;33m\u001b[0m\u001b[1;33m\u001b[0m\u001b[0m\n\u001b[0m\u001b[0;32m      7\u001b[0m     \u001b[1;32melse\u001b[0m\u001b[1;33m:\u001b[0m\u001b[1;33m\u001b[0m\u001b[1;33m\u001b[0m\u001b[0m\n\u001b[0;32m      8\u001b[0m         \u001b[0mprint\u001b[0m\u001b[1;33m(\u001b[0m\u001b[1;34mf'No grad: {name[20:]:50}'\u001b[0m\u001b[1;33m)\u001b[0m\u001b[1;33m\u001b[0m\u001b[1;33m\u001b[0m\u001b[0m\n",
      "\u001b[1;31mRuntimeError\u001b[0m: CUDA error: unspecified launch failure"
     ]
    }
   ],
   "source": [
    "for name, p in model.named_parameters():\n",
    "    if p.requires_grad:\n",
    "        if p.grad is None:\n",
    "            print(f'Has grad but it is None: {name[20:]:50}')\n",
    "        else:\n",
    "            print(f'{name[20:]:50} : {p.grad.data.cpu().min().item():15.3e}, {p.grad.data.cpu().max().item():15.3e}')\n",
    "    else:\n",
    "        print(f'No grad: {name[20:]:50}')"
   ]
  },
  {
   "cell_type": "code",
   "execution_count": null,
   "metadata": {},
   "outputs": [],
   "source": []
  },
  {
   "cell_type": "code",
   "execution_count": null,
   "metadata": {},
   "outputs": [],
   "source": []
  },
  {
   "cell_type": "code",
   "execution_count": null,
   "metadata": {},
   "outputs": [],
   "source": []
  },
  {
   "cell_type": "code",
   "execution_count": 12,
   "metadata": {
    "scrolled": true
   },
   "outputs": [],
   "source": [
    "for i in range(len(train_dataset)):\n",
    "    print(i, train_dataset[i].images.shape)"
   ]
  },
  {
   "cell_type": "code",
   "execution_count": null,
   "metadata": {},
   "outputs": [],
   "source": []
  },
  {
   "cell_type": "code",
   "execution_count": 4,
   "metadata": {},
   "outputs": [],
   "source": [
    "dataset_all = CTDataset(\n",
    "    f'{PROCESSED_PATH}/train',\n",
    "    f'{IMAGE_PATH}/train.csv',\n",
    "    train=True, test_size=0.0, random_state=42\n",
    ")\n",
    "\n",
    "images = [-1000 * (1.0 - dataset_all[i].masks) + dataset_all[i].masks * dataset_all[i].images\n",
    "          for i in range(len(dataset_all))]\n",
    "\n",
    "sum_image = 0\n",
    "sum_sq_image = 0\n",
    "for image in images:\n",
    "    sum_image += image.sum()\n",
    "    sum_sq_image += (image ** 2).sum()\n",
    "\n",
    "N = np.prod((176., 192., 256., 256.))\n",
    "\n",
    "mean = sum_image / N\n",
    "\n",
    "mean\n",
    "\n",
    "var = sum_sq_image / N + mean ** 2 - 2 * mean * sum_image / N\n",
    "\n",
    "std = var ** 0.5\n",
    "\n",
    "mean, std"
   ]
  },
  {
   "cell_type": "code",
   "execution_count": null,
   "metadata": {},
   "outputs": [],
   "source": []
  },
  {
   "cell_type": "code",
   "execution_count": null,
   "metadata": {},
   "outputs": [],
   "source": []
  }
 ],
 "metadata": {
  "kernelspec": {
   "display_name": "Python 3",
   "language": "python",
   "name": "python3"
  },
  "language_info": {
   "codemirror_mode": {
    "name": "ipython",
    "version": 3
   },
   "file_extension": ".py",
   "mimetype": "text/x-python",
   "name": "python",
   "nbconvert_exporter": "python",
   "pygments_lexer": "ipython3",
   "version": "3.7.6"
  }
 },
 "nbformat": 4,
 "nbformat_minor": 4
}
