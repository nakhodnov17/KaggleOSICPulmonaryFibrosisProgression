{
 "cells": [
  {
   "cell_type": "code",
   "execution_count": 1,
   "metadata": {},
   "outputs": [],
   "source": [
    "%config Completer.use_jedi = False"
   ]
  },
  {
   "cell_type": "code",
   "execution_count": 2,
   "metadata": {},
   "outputs": [],
   "source": [
    "%load_ext autoreload\n",
    "%autoreload 2"
   ]
  },
  {
   "cell_type": "code",
   "execution_count": 3,
   "metadata": {},
   "outputs": [
    {
     "name": "stdout",
     "output_type": "stream",
     "text": [
      "If you use TorchIO for your research, please cite the following paper:\n",
      "Pérez-García et al., TorchIO: a Python library for efficient loading,\n",
      "preprocessing, augmentation and patch-based sampling of medical images\n",
      "in deep learning. Credits instructions: https://torchio.readthedocs.io/#credits\n",
      "\n"
     ]
    }
   ],
   "source": [
    "import os\n",
    "\n",
    "import torch\n",
    "\n",
    "import sparse\n",
    "\n",
    "import numpy as np\n",
    "\n",
    "import tqdm.autonotebook as tqdm\n",
    "\n",
    "import matplotlib.pyplot as plt\n",
    "\n",
    "import torchio\n",
    "import torchio.transforms\n",
    "\n",
    "from utils import segmentate_patient, resample, CTDataset, plot_3d, subplots_3d"
   ]
  },
  {
   "cell_type": "code",
   "execution_count": 4,
   "metadata": {},
   "outputs": [],
   "source": [
    "test_patients = sorted(os.listdir('./data/test/'))\n",
    "train_patients = sorted(os.listdir('./data/train/'))"
   ]
  },
  {
   "cell_type": "code",
   "execution_count": 5,
   "metadata": {
    "code_folding": [
     0
    ],
    "scrolled": true
   },
   "outputs": [],
   "source": [
    "# mode = 'train'\n",
    "# PROCESSED_PATH = './processed_data/'\n",
    "\n",
    "# for patient_n in tqdm.tqdm(range(len(train_patients) if mode == 'train' else len(test_patients))):\n",
    "#     patient = train_patients[patient_n] if mode == 'train' else test_patients[patient_n]\n",
    "    \n",
    "#     all_images, _, _, all_masks, meta_data = segmentate_patient(mode, patient_n)\n",
    "#     SliceThickness, PixelSpacing = meta_data['SliceThickness'][0], meta_data['PixelSpacing'][0]\n",
    "#     assert len(PixelSpacing) == 2\n",
    "    \n",
    "#     new_spacing = np.array([SliceThickness] + list(PixelSpacing))\n",
    "#     # noinspection PyBroadException\n",
    "#     try:\n",
    "#         ordering, case = np.argsort([float(_) for _ in meta_data['SliceLocation']]), 0\n",
    "#     except Exception:\n",
    "#         # noinspection PyBroadException\n",
    "#         try:\n",
    "#             ordering, case = np.argsort([float(_) for _ in meta_data['InstanceNumber']]), 1\n",
    "#         except Exception:\n",
    "#             ordering, case = np.arange(len(all_images)), 2\n",
    "    \n",
    "#     all_images, all_masks = np.array(all_images)[ordering], np.array(all_masks)[ordering]\n",
    "#     for key, values in meta_data.items():\n",
    "#         meta_data[key] = np.array(values)[ordering].tolist()\n",
    "    \n",
    "#     if len(all_images) != 196:\n",
    "#         all_images, _ = resample(\n",
    "#             all_images, [196, *all_images.shape[1:]], SliceThickness, PixelSpacing\n",
    "#         )\n",
    "#         all_masks, new_spacing = resample(\n",
    "#             all_masks, [196, *all_images.shape[1:]], SliceThickness, PixelSpacing\n",
    "#         )\n",
    "#         all_masks = all_masks > 0\n",
    "\n",
    "#         meta_data['SliceThickness'] = [new_spacing[0] for _ in meta_data['SliceThickness']]\n",
    "#         meta_data['PixelSpacing'] = [[new_spacing[0], new_spacing[1]] for _ in meta_data['PixelSpacing']]\n",
    "\n",
    "#     base_path = os.path.join(PROCESSED_PATH, mode, train_patients[patient_n])\n",
    "#     os.makedirs(base_path, exist_ok=True)\n",
    "    \n",
    "#     if all_images.shape[1] == 512:\n",
    "#         all_masks = all_masks[:, ::2, ::2]\n",
    "#         all_images = all_images[:, ::2, ::2]\n",
    "#         meta_data['PixelSpacing'] = [[new_spacing[0] * 2, new_spacing[1] * 2] for _ in meta_data['PixelSpacing']] \n",
    "#     if all_images.shape[1] == 632:\n",
    "#         all_masks = all_masks[:, 60:-60:2, 60:-60:2]\n",
    "#         all_images = all_images[:, 60:-60:2, 60:-60:2]\n",
    "#         meta_data['PixelSpacing'] = [[new_spacing[0] * 2, new_spacing[1] * 2] for _ in meta_data['PixelSpacing']]\n",
    "#     if all_images.shape[1] == 768:\n",
    "#         all_masks = all_masks[:, ::3, ::3]\n",
    "#         all_images = all_images[:, ::3, ::3]\n",
    "#         meta_data['PixelSpacing'] = [[new_spacing[0] * 3, new_spacing[1] * 3] for _ in meta_data['PixelSpacing']]\n",
    "#     if all_images.shape[1] == 1302:\n",
    "#         all_masks = all_masks[:, 11:-11:5, 11:-11:5]\n",
    "#         all_images = all_images[:, 11:-11:5, 11:-11:5]\n",
    "#         meta_data['PixelSpacing'] = [[new_spacing[0] * 5, new_spacing[1] * 5] for _ in meta_data['PixelSpacing']]\n",
    "\n",
    "#     np.save(os.path.join(base_path, 'meta.npy'), meta_data)\n",
    "#     np.save(os.path.join(base_path, 'images.npy'), all_images)\n",
    "#     sparse.save_npz(os.path.join(base_path, 'masks.npz'), sparse.COO(np.array(all_masks)))"
   ]
  },
  {
   "cell_type": "code",
   "execution_count": 6,
   "metadata": {},
   "outputs": [],
   "source": [
    "transforms = torchio.transforms.Compose([\n",
    "    torchio.transforms.RandomAffine(\n",
    "        degrees=(10, 10),\n",
    "        translation=(-10, -10),\n",
    "        isotropic=False,\n",
    "        default_pad_value='minimum',\n",
    "        image_interpolation='linear',\n",
    "    ),\n",
    "])"
   ]
  },
  {
   "cell_type": "code",
   "execution_count": 7,
   "metadata": {},
   "outputs": [],
   "source": [
    "# dataset_test = CTDataset(\n",
    "#     './processed_data/train', \n",
    "#     './processed_data/train.csv', \n",
    "#     train=False, test_size=0.25, random_state=42\n",
    "# )\n",
    "dataset_train = CTDataset(\n",
    "    './processed_data/train', \n",
    "    './processed_data/train.csv', \n",
    "    train=True, transform=transforms,\n",
    "    test_size=0, random_state=42,\n",
    "    padding_mode=None, padding_constant=None\n",
    ")"
   ]
  },
  {
   "cell_type": "code",
   "execution_count": 8,
   "metadata": {},
   "outputs": [],
   "source": [
    "obj = dataset_train[0]\n",
    "obj_transf = dataset_train[0]"
   ]
  },
  {
   "cell_type": "code",
   "execution_count": 10,
   "metadata": {},
   "outputs": [],
   "source": [
    "from torch.utils.data import DataLoader\n",
    "\n",
    "dl = DataLoader(dataset_train, batch_size=1, num_workers=3)"
   ]
  },
  {
   "cell_type": "code",
   "execution_count": null,
   "metadata": {
    "pycharm": {
     "name": "#%%\n"
    }
   },
   "outputs": [],
   "source": [
    "for obj in tqdm.tqdm(dl):\n",
    "    print(obj[0])"
   ]
  },
  {
   "cell_type": "code",
   "execution_count": null,
   "metadata": {
    "pycharm": {
     "name": "#%%\n"
    }
   },
   "outputs": [],
   "source": [
    "fig, axes = subplots_3d(2, 2, figsize=(20, 14))\n",
    "plot_3d(axes[0][0], obj.masks.numpy()[0], 4, threshold=0.0)\n",
    "plot_3d(axes[0][1], obj_transf.masks.numpy()[0], 4, threshold=0.0)\n",
    "\n",
    "plot_3d(axes[1][0], obj.images.numpy()[0], 4, threshold=-700.0)\n",
    "plot_3d(axes[1][1], obj_transf.images.numpy()[0], 4, threshold=-700.0)\n",
    "\n",
    "plt.show()"
   ]
  },
  {
   "cell_type": "code",
   "execution_count": 12,
   "metadata": {},
   "outputs": [
    {
     "data": {
      "application/vnd.jupyter.widget-view+json": {
       "model_id": "77df90cc215448eb856b1aa7ca44106e",
       "version_major": 2,
       "version_minor": 0
      },
      "text/plain": [
       "HBox(children=(FloatProgress(value=0.0, max=176.0), HTML(value='')))"
      ]
     },
     "metadata": {},
     "output_type": "display_data"
    },
    {
     "name": "stdout",
     "output_type": "stream",
     "text": [
      "tensor([[-4,  5,  7,  9, 11, 17, 29, 41, 57]])\n",
      "tensor([[ 8,  9, 11, 13, 15, 22, 33, 45, 60]])\n",
      "tensor([[ 0,  1,  3,  5,  7, 13, 25, 37, 54]])\n",
      "tensor([[ 6,  7,  9, 11, 13, 19, 32, 43, 58]])\n",
      "tensor([[33, 35, 37, 39, 41, 47, 58, 71, 87]])\n",
      "tensor([[ 0,  2,  4,  6,  8, 14, 26, 37, 54]])\n",
      "tensor([[12, 17, 19, 21, 31, 40, 52, 69]])\n",
      "tensor([[13, 14, 16, 18, 20, 26, 38, 53, 66]])\n",
      "tensor([[18, 19, 21, 23, 25, 31, 44, 54, 70]])\n",
      "tensor([[-3,  3,  5,  7,  9, 15, 27, 39, 55]])\n",
      "tensor([[ 0,  1,  3,  6,  7, 14, 26, 38, 53]])\n",
      "tensor([[41, 45, 47, 49, 51, 57, 69, 81, 98]])\n",
      "tensor([[12, 14, 16, 18, 23, 26, 38, 51, 66]])\n",
      "tensor([[19, 30, 33, 34, 36, 42, 54, 65]])\n",
      "tensor([[30, 35, 37, 39, 41, 47, 59, 71, 87]])\n",
      "tensor([[11, 12, 14, 16, 18, 24, 36, 49, 65]])\n",
      "tensor([[ 6, 12, 15, 17, 19, 24, 36, 49, 63]])\n",
      "tensor([[ 1,  6,  9, 11, 12, 18, 31, 44, 60]])\n",
      "tensor([[ 2,  4,  6,  8, 10, 29]])\n",
      "tensor([[ 9,  9, 11, 13, 15, 21, 33, 47, 61]])\n",
      "tensor([[-1,  1,  3,  6,  7, 13, 26, 37, 54]])\n",
      "tensor([[48, 51, 53, 56, 58, 63, 75]])\n",
      "tensor([[16, 18, 20, 23, 24, 31, 43, 55, 71]])\n",
      "tensor([[23, 24, 26, 28, 30, 36, 48, 60, 76]])\n",
      "tensor([[44, 46, 48, 50, 52, 58, 70, 83, 98]])\n",
      "tensor([[ 4,  5,  7,  9, 11, 17, 28, 41]])\n",
      "tensor([[11, 11, 13, 15, 16, 22, 35, 46, 62]])\n",
      "tensor([[15, 18, 20, 22, 24, 30, 42, 55, 70]])\n",
      "tensor([[ 3,  6,  8, 10, 12, 18, 30, 42]])\n",
      "tensor([[25, 28, 29, 32, 33, 40, 51, 61, 79]])\n",
      "tensor([[-4,  3,  5,  6,  9, 15, 27, 40, 55]])\n",
      "tensor([[ 5,  6,  8, 10, 12, 18, 29, 42, 59]])\n",
      "tensor([[ 0,  5,  7,  9, 11, 17, 28, 40, 58]])\n",
      "tensor([[19, 27, 29, 31, 33, 39, 51, 63, 79]])\n",
      "tensor([[-5,  6,  8,  9, 12, 18, 30, 42, 58]])\n",
      "tensor([[ 7,  7,  9, 11, 14, 20, 31, 44, 60]])\n",
      "tensor([[17, 21, 23, 27, 33, 44, 59, 73]])\n",
      "tensor([[-1,  3,  6,  8,  9, 16, 28, 39, 54]])\n",
      "tensor([[ 0,  6,  9, 11, 12, 18, 30, 42, 58]])\n",
      "tensor([[ 44,  47,  49,  51,  53,  58,  70,  83,  98, 102]])\n",
      "tensor([[ 3,  5,  7,  9, 11, 17, 29, 41, 58]])\n",
      "tensor([[20, 21, 23, 26, 28, 33, 45, 58]])\n",
      "tensor([[ 44,  45,  47,  49,  51,  57,  69,  82,  97, 100]])\n",
      "tensor([[11, 13, 15, 17, 19, 25, 37, 49, 65]])\n",
      "tensor([[ 53,  55,  57,  59,  61,  67,  79,  91, 107]])\n",
      "tensor([[15, 18, 20, 23, 25, 31, 42, 56]])\n",
      "tensor([[ 9, 10, 13, 15, 17, 23, 36]])\n",
      "tensor([[15, 17, 19, 21, 23, 29, 42, 52]])\n",
      "tensor([[ 4,  8, 10, 12, 14, 20, 32, 44, 60]])\n",
      "tensor([[ 2,  4,  6,  8, 10, 16, 28, 40, 56, 59]])\n",
      "tensor([[-4,  6,  8, 10, 12, 18, 30, 43, 58]])\n",
      "tensor([[ 48,  49,  51,  53,  55,  61,  73,  85, 102]])\n",
      "tensor([[ 47,  48,  50,  53,  55,  60,  72,  84, 100]])\n",
      "tensor([[ 8,  8, 10, 12, 14, 20, 34, 45]])\n",
      "tensor([[18, 26, 28, 30, 32, 38, 50, 62, 78]])\n",
      "tensor([[ 44,  48,  50,  52,  54,  61,  72,  84, 100]])\n",
      "tensor([[34, 36, 37, 39, 41, 47, 59]])\n",
      "tensor([[ 0,  3,  5,  7, 10, 15, 27, 39, 56]])\n",
      "tensor([[11, 12, 14, 17, 18, 24, 36, 48, 64]])\n",
      "tensor([[ 63,  64,  66,  68,  70,  76,  89, 101, 116]])\n",
      "tensor([[ 6, 10, 13, 14, 16, 22, 34, 46, 63]])\n",
      "tensor([[-2,  2,  4,  6,  8, 13, 27, 38, 54]])\n",
      "tensor([[ 2,  8, 11, 13, 14, 21, 33, 44, 59]])\n",
      "tensor([[31, 35, 37, 40, 42, 48, 60, 73, 89]])\n",
      "tensor([[ 3,  6,  8, 10, 12, 18, 30, 43, 58]])\n",
      "tensor([[14, 18, 20, 22, 24, 30, 42, 54, 70]])\n",
      "tensor([[16, 21, 24, 25, 27, 33, 47, 58, 73]])\n",
      "tensor([[16, 18, 20, 22, 24, 30, 42, 54, 70, 74]])\n",
      "tensor([[ 44,  48,  50,  52,  54,  60,  73,  84, 100]])\n",
      "tensor([[ 8, 10, 12, 14, 16, 22, 34, 46, 61]])\n",
      "tensor([[ 79,  81,  83,  85,  87,  92, 104, 117, 133]])\n",
      "tensor([[ 7, 11, 13, 15, 17, 23, 34, 47, 62, 66]])\n",
      "tensor([[ 7,  8, 10, 12, 14, 21, 33, 44, 60]])\n",
      "tensor([[12, 16, 18, 20, 23, 28, 40, 53, 66]])\n",
      "tensor([[38, 44, 46, 48, 50, 56, 68, 79, 96]])\n",
      "tensor([[35, 37, 39, 41, 43, 49, 60, 72, 92]])\n",
      "tensor([[11, 17, 19, 21, 23, 29, 42, 53, 69]])\n",
      "tensor([[ 9, 11, 13, 16, 18, 24, 35, 47, 63]])\n",
      "tensor([[39, 42, 44, 46, 48, 54, 65, 77, 94]])\n",
      "tensor([[29, 30, 32, 34, 37, 43, 55, 67, 83]])\n",
      "tensor([[ 8, 11, 13, 15, 17, 23, 59]])\n",
      "tensor([[ 4, 10, 12, 14, 16, 22, 34, 46, 62]])\n",
      "tensor([[ 4, 12, 14, 15, 18, 24, 36, 48, 65]])\n",
      "tensor([[ 9, 12, 14, 16, 18, 25, 36, 48, 66]])\n",
      "tensor([[ 0,  5,  8, 10, 11, 18, 30, 41, 57]])\n",
      "tensor([[ 5,  5,  7,  9, 12, 17, 30, 42, 57]])\n",
      "tensor([[20, 21, 23, 25, 27, 33, 45, 58, 75]])\n",
      "tensor([[33, 35, 37, 38, 41, 47, 59, 71, 86]])\n",
      "tensor([[ 0,  3,  5,  7,  9, 16, 27, 39, 56]])\n",
      "tensor([[ 6,  9, 11, 13, 14, 21, 32, 44, 61]])\n",
      "tensor([[ 3,  4,  6,  8, 10, 16, 28, 40, 55]])\n",
      "tensor([[10, 11, 13, 15, 17, 23, 34, 47, 63]])\n",
      "tensor([[20, 22, 25, 26, 29, 34, 46, 59, 75]])\n",
      "tensor([[ 0,  4,  7,  9, 11, 17, 27, 40, 56]])\n",
      "tensor([[11, 12, 14, 16, 18, 24, 36, 48, 64]])\n",
      "tensor([[-1,  5,  7,  9, 11, 16, 29, 41, 57]])\n",
      "tensor([[ 0,  3,  5,  7,  9, 15, 27, 39, 55]])\n",
      "tensor([[13, 17, 19, 21, 23, 29, 54, 69]])\n",
      "tensor([[14, 15, 18, 19, 21, 27, 40, 50, 67]])\n",
      "tensor([[23, 26, 28, 30, 32, 38, 49, 62, 78, 82]])\n",
      "tensor([[ 9, 11, 13, 15, 17, 23, 35, 47, 63]])\n",
      "tensor([[-3,  2,  4,  6,  9, 14, 27, 39, 54]])\n",
      "tensor([[ 3,  4,  6,  8, 10, 16, 29, 41]])\n",
      "tensor([[34, 35, 37, 40, 42, 47, 59, 71, 88]])\n",
      "tensor([[ 5,  5,  8,  9, 12, 18, 30, 41, 57]])\n",
      "tensor([[ 2,  4,  6,  8, 10, 16, 28, 40, 56]])\n",
      "tensor([[ 4,  5,  7,  9, 10, 17, 28, 41, 58]])\n",
      "tensor([[14, 15, 17, 19, 20, 27, 38, 51, 67]])\n",
      "tensor([[34, 40, 42, 46, 52, 67, 76, 92]])\n",
      "tensor([[21, 30, 32, 34, 37, 43, 55, 67, 83]])\n",
      "tensor([[ 1,  3,  5,  7, 15, 29, 41, 55]])\n",
      "tensor([[13, 14, 16, 19, 20, 26, 39, 51]])\n",
      "tensor([[ 3,  5,  8, 10, 12, 31]])\n",
      "tensor([[ 4,  8, 10, 12, 14, 20, 32, 44, 60]])\n",
      "tensor([[ 48,  50,  52,  54,  56,  62,  74,  86, 102]])\n",
      "tensor([[ 6,  7,  9, 11, 13, 19, 31]])\n",
      "tensor([[ 8, 10, 12, 14, 17, 22, 34, 46, 63]])\n",
      "tensor([[ 0,  3,  5,  7,  9, 15, 27, 39, 54]])\n",
      "tensor([[ 4,  6,  8, 10, 12, 18, 30, 42, 58]])\n",
      "tensor([[21, 22, 24, 26, 28, 34, 45, 57]])\n",
      "tensor([[ 4, 15, 17, 18, 21, 26, 38, 51]])\n",
      "tensor([[ 2,  4,  6,  8, 10, 16, 27, 43, 56]])\n",
      "tensor([[ 5,  6,  7, 10, 12, 18, 29, 42, 59]])\n",
      "tensor([[ 5,  8, 10, 12, 13, 20, 32, 44]])\n",
      "tensor([[ 4,  6,  8,  9, 12, 18, 30, 42, 57]])\n",
      "tensor([[22, 24, 26, 28, 30, 37, 48, 60, 76]])\n",
      "tensor([[ 8, 10, 12, 14, 16, 22, 34, 46, 62]])\n",
      "tensor([[ 3,  6,  8, 10, 12, 18, 31, 44, 58]])\n",
      "tensor([[ 3,  5,  7,  9, 11, 18, 29, 41, 57]])\n",
      "tensor([[ 0,  4,  6,  8, 10, 16, 28, 40, 57]])\n",
      "tensor([[26, 32, 34, 35, 44, 56, 70, 85]])\n",
      "tensor([[12, 16, 18, 20, 22, 29, 40, 52, 69]])\n",
      "tensor([[ 3,  6,  8, 10, 11, 18, 30, 40, 57]])\n",
      "tensor([[26, 27, 29, 31, 33, 39, 50, 64]])\n",
      "tensor([[39, 43, 45, 47, 49, 54, 66, 79, 95]])\n",
      "tensor([[28, 30, 32, 34, 36, 42, 55, 67, 82]])\n",
      "tensor([[ 3,  4,  6,  8, 10, 16, 28, 40, 56]])\n",
      "tensor([[ 6,  8, 10, 12, 14, 20, 33, 44]])\n",
      "tensor([[29, 32, 34, 36, 38, 44, 57, 68, 85]])\n",
      "tensor([[ 0,  6,  9, 10, 13, 18, 31, 41, 58]])\n",
      "tensor([[-1,  5,  8, 10, 12, 18, 30, 42, 58]])\n",
      "tensor([[28, 32, 35, 36, 38, 44, 56, 68, 84]])\n",
      "tensor([[23, 25, 27, 29, 31, 37, 49, 62, 78]])\n",
      "tensor([[23, 25, 27, 28, 30, 36, 48, 62, 76, 79]])\n",
      "tensor([[ 0,  4,  6,  8, 10, 16, 31]])\n",
      "tensor([[14, 15, 17, 19, 21, 27, 39, 51, 66]])\n",
      "tensor([[24, 28, 30, 32, 34, 40, 52, 65, 82]])\n",
      "tensor([[ 4,  8, 12, 14, 20, 33, 45, 62]])\n",
      "tensor([[ 3,  5,  7, 10, 12, 17, 29, 41, 57]])\n",
      "tensor([[37, 41, 43, 45, 47, 53, 65, 77, 94]])\n",
      "tensor([[35, 37, 39, 42, 43, 49, 61, 73]])\n",
      "tensor([[35, 36, 38, 40, 42, 48, 59, 72, 87]])\n",
      "tensor([[ 7, 11, 13, 15, 17, 23, 35, 47, 64]])\n",
      "tensor([[12, 13, 15, 17, 19, 25, 37, 49, 64]])\n",
      "tensor([[ 6,  8, 10, 12, 14, 20, 33, 44, 60]])\n",
      "tensor([[39, 41, 44, 46, 48, 53, 65, 77, 93]])\n",
      "tensor([[25, 27, 29, 31, 33, 39, 50, 63, 80]])\n",
      "tensor([[ 5,  7,  9, 11, 13, 19, 31]])\n",
      "tensor([[ 48,  50,  52,  54,  56,  63,  74,  86, 102]])\n",
      "tensor([[ 0,  3,  5,  7,  8, 15, 27, 39, 56, 59]])\n",
      "tensor([[ 5,  7,  9, 11, 13, 19, 31, 43, 59]])\n",
      "tensor([[ 0,  6,  8, 10, 12, 18, 30, 41, 58]])\n",
      "tensor([[11, 13, 15, 17, 19, 25, 37, 49]])\n",
      "tensor([[29, 30, 32, 33, 36, 42, 54, 65, 82, 85]])\n",
      "tensor([[42, 47, 49, 51, 53, 59, 71, 82, 99]])\n",
      "tensor([[ 0,  6,  8, 11, 12, 18, 31, 42, 58]])\n",
      "tensor([[21, 22, 24, 26, 28, 33, 46, 57, 75]])\n",
      "tensor([[13, 14, 16, 18, 20, 26, 37, 50]])\n",
      "tensor([[ 7,  8, 10, 12, 14, 20, 31, 45, 60]])\n",
      "tensor([[ 7, 12, 14, 16, 18, 24, 36, 49, 63]])\n",
      "tensor([[ 8,  9, 12, 13, 15, 21, 33, 45, 61]])\n",
      "tensor([[ 6,  7,  9, 10, 13, 18, 31, 43, 59]])\n",
      "tensor([[15, 17, 19, 21, 23, 29, 41, 54, 70, 70]])\n",
      "tensor([[ 6, 11, 13, 15, 17, 23, 35, 47]])\n",
      "tensor([[17, 18, 19, 21, 23, 30, 42, 53, 70]])\n",
      "tensor([[ 0,  7,  9, 11, 13, 19, 31, 43, 59]])\n"
     ]
    },
    {
     "name": "stdout",
     "output_type": "stream",
     "text": [
      "\n"
     ]
    }
   ],
   "source": []
  },
  {
   "cell_type": "code",
   "execution_count": null,
   "metadata": {
    "scrolled": false
   },
   "outputs": [],
   "source": [
    "fig, axes = subplots_3d(2, 2, figsize=(20, 14))\n",
    "plot_3d(axes[0][0], obj.masks.numpy()[0], 4, threshold=0.0)\n",
    "plot_3d(axes[0][1], obj_transf.masks.numpy()[0], 4, threshold=0.0)\n",
    "\n",
    "plot_3d(axes[1][0], obj.images.numpy()[0], 4, threshold=-700.0)\n",
    "plot_3d(axes[1][1], obj_transf.images.numpy()[0], 4, threshold=-700.0)\n",
    "\n",
    "plt.show()"
   ]
  },
  {
   "cell_type": "code",
   "execution_count": null,
   "metadata": {},
   "outputs": [],
   "source": []
  }
 ],
 "metadata": {
  "kernelspec": {
   "display_name": "Python 3",
   "language": "python",
   "name": "python3"
  },
  "language_info": {
   "codemirror_mode": {
    "name": "ipython",
    "version": 3
   },
   "file_extension": ".py",
   "mimetype": "text/x-python",
   "name": "python",
   "nbconvert_exporter": "python",
   "pygments_lexer": "ipython3",
   "version": "3.7.0"
  }
 },
 "nbformat": 4,
 "nbformat_minor": 4
}
