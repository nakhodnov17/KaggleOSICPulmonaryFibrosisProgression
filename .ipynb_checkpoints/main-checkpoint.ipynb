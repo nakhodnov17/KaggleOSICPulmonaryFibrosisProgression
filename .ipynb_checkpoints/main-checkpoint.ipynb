{
 "cells": [
  {
   "cell_type": "code",
   "execution_count": 1,
   "metadata": {},
   "outputs": [],
   "source": [
    "%config Completer.use_jedi = False"
   ]
  },
  {
   "cell_type": "code",
   "execution_count": 2,
   "metadata": {},
   "outputs": [],
   "source": [
    "%load_ext autoreload\n",
    "%autoreload 2"
   ]
  },
  {
   "cell_type": "code",
   "execution_count": 3,
   "metadata": {},
   "outputs": [
    {
     "name": "stdout",
     "output_type": "stream",
     "text": [
      "If you use TorchIO for your research, please cite the following paper:\n",
      "Pérez-García et al., TorchIO: a Python library for efficient loading,\n",
      "preprocessing, augmentation and patch-based sampling of medical images\n",
      "in deep learning. Credits instructions: https://torchio.readthedocs.io/#credits\n",
      "\n"
     ]
    }
   ],
   "source": [
    "import os\n",
    "\n",
    "import torch\n",
    "\n",
    "import sparse\n",
    "\n",
    "import numpy as np\n",
    "\n",
    "import tqdm.autonotebook as tqdm\n",
    "\n",
    "import matplotlib.pyplot as plt\n",
    "\n",
    "import torchio\n",
    "import torchio.transforms\n",
    "\n",
    "from utils import segmentate_patient, resample, CTDataset, plot_3d, subplots_3d"
   ]
  },
  {
   "cell_type": "code",
   "execution_count": 4,
   "metadata": {},
   "outputs": [],
   "source": [
    "test_patients = sorted(os.listdir('./data/test/'))\n",
    "train_patients = sorted(os.listdir('./data/train/'))"
   ]
  },
  {
   "cell_type": "code",
   "execution_count": 5,
   "metadata": {
    "code_folding": [
     0
    ],
    "scrolled": true
   },
   "outputs": [],
   "source": [
    "# mode = 'train'\n",
    "# PROCESSED_PATH = './processed_data/'\n",
    "\n",
    "# for patient_n in tqdm.tqdm(range(len(train_patients) if mode == 'train' else len(test_patients))):\n",
    "#     patient = train_patients[patient_n] if mode == 'train' else test_patients[patient_n]\n",
    "    \n",
    "#     all_images, _, _, all_masks, meta_data = segmentate_patient(mode, patient_n)\n",
    "#     SliceThickness, PixelSpacing = meta_data['SliceThickness'][0], meta_data['PixelSpacing'][0]\n",
    "#     assert len(PixelSpacing) == 2\n",
    "    \n",
    "#     new_spacing = np.array([SliceThickness] + list(PixelSpacing))\n",
    "#     # noinspection PyBroadException\n",
    "#     try:\n",
    "#         ordering, case = np.argsort([float(_) for _ in meta_data['SliceLocation']]), 0\n",
    "#     except Exception:\n",
    "#         # noinspection PyBroadException\n",
    "#         try:\n",
    "#             ordering, case = np.argsort([float(_) for _ in meta_data['InstanceNumber']]), 1\n",
    "#         except Exception:\n",
    "#             ordering, case = np.arange(len(all_images)), 2\n",
    "    \n",
    "#     all_images, all_masks = np.array(all_images)[ordering], np.array(all_masks)[ordering]\n",
    "#     for key, values in meta_data.items():\n",
    "#         meta_data[key] = np.array(values)[ordering].tolist()\n",
    "    \n",
    "#     if len(all_images) != 196:\n",
    "#         all_images, _ = resample(\n",
    "#             all_images, [196, *all_images.shape[1:]], SliceThickness, PixelSpacing\n",
    "#         )\n",
    "#         all_masks, new_spacing = resample(\n",
    "#             all_masks, [196, *all_images.shape[1:]], SliceThickness, PixelSpacing\n",
    "#         )\n",
    "#         all_masks = all_masks > 0\n",
    "\n",
    "#         meta_data['SliceThickness'] = [new_spacing[0] for _ in meta_data['SliceThickness']]\n",
    "#         meta_data['PixelSpacing'] = [[new_spacing[0], new_spacing[1]] for _ in meta_data['PixelSpacing']]\n",
    "\n",
    "#     base_path = os.path.join(PROCESSED_PATH, mode, train_patients[patient_n])\n",
    "#     os.makedirs(base_path, exist_ok=True)\n",
    "    \n",
    "#     if all_images.shape[1] == 512:\n",
    "#         all_masks = all_masks[:, ::2, ::2]\n",
    "#         all_images = all_images[:, ::2, ::2]\n",
    "#         meta_data['PixelSpacing'] = [[new_spacing[0] * 2, new_spacing[1] * 2] for _ in meta_data['PixelSpacing']] \n",
    "#     if all_images.shape[1] == 632:\n",
    "#         all_masks = all_masks[:, 60:-60:2, 60:-60:2]\n",
    "#         all_images = all_images[:, 60:-60:2, 60:-60:2]\n",
    "#         meta_data['PixelSpacing'] = [[new_spacing[0] * 2, new_spacing[1] * 2] for _ in meta_data['PixelSpacing']]\n",
    "#     if all_images.shape[1] == 768:\n",
    "#         all_masks = all_masks[:, ::3, ::3]\n",
    "#         all_images = all_images[:, ::3, ::3]\n",
    "#         meta_data['PixelSpacing'] = [[new_spacing[0] * 3, new_spacing[1] * 3] for _ in meta_data['PixelSpacing']]\n",
    "#     if all_images.shape[1] == 1302:\n",
    "#         all_masks = all_masks[:, 11:-11:5, 11:-11:5]\n",
    "#         all_images = all_images[:, 11:-11:5, 11:-11:5]\n",
    "#         meta_data['PixelSpacing'] = [[new_spacing[0] * 5, new_spacing[1] * 5] for _ in meta_data['PixelSpacing']]\n",
    "\n",
    "#     np.save(os.path.join(base_path, 'meta.npy'), meta_data)\n",
    "#     np.save(os.path.join(base_path, 'images.npy'), all_images)\n",
    "#     sparse.save_npz(os.path.join(base_path, 'masks.npz'), sparse.COO(np.array(all_masks)))"
   ]
  },
  {
   "cell_type": "code",
   "execution_count": 6,
   "metadata": {},
   "outputs": [],
   "source": [
    "transforms = torchio.transforms.Compose([\n",
    "    torchio.transforms.RandomAffine(\n",
    "        degrees=(10, 10),\n",
    "        translation=(-10, -10),\n",
    "        isotropic=False,\n",
    "        default_pad_value='minimum',\n",
    "        image_interpolation='linear',\n",
    "    ),\n",
    "])"
   ]
  },
  {
   "cell_type": "code",
   "execution_count": 7,
   "metadata": {},
   "outputs": [],
   "source": [
    "# dataset_test = CTDataset(\n",
    "#     './processed_data/train', \n",
    "#     './processed_data/train.csv', \n",
    "#     train=False, test_size=0.25, random_state=42\n",
    "# )\n",
    "dataset_train = CTDataset(\n",
    "    './processed_data/train', \n",
    "    './processed_data/train.csv', \n",
    "    train=True, transform=transforms,\n",
    "    test_size=0, random_state=42,\n",
    "    padding_mode=None, padding_constant=None\n",
    ")"
   ]
  },
  {
   "cell_type": "code",
   "execution_count": 8,
   "metadata": {},
   "outputs": [],
   "source": [
    "obj = dataset_train[0]\n",
    "obj_transf = dataset_train[0]"
   ]
  },
  {
   "cell_type": "code",
   "execution_count": 10,
   "metadata": {},
   "outputs": [],
   "source": [
    "from torch.utils.data import DataLoader\n",
    "\n",
    "dl = DataLoader(dataset_train, batch_size=1, num_workers=3)"
   ]
  },
  {
   "cell_type": "code",
   "execution_count": null,
   "metadata": {},
   "outputs": [
    {
     "data": {
      "application/vnd.jupyter.widget-view+json": {
       "model_id": "77df90cc215448eb856b1aa7ca44106e",
       "version_major": 2,
       "version_minor": 0
      },
      "text/plain": [
       "HBox(children=(FloatProgress(value=0.0, max=176.0), HTML(value='')))"
      ]
     },
     "metadata": {},
     "output_type": "display_data"
    }
   ],
   "source": [
    "for obj in tqdm.tqdm(dl):\n",
    "    print(obj[0])"
   ]
  },
  {
   "cell_type": "code",
   "execution_count": null,
   "metadata": {
    "scrolled": false
   },
   "outputs": [],
   "source": [
    "fig, axes = subplots_3d(2, 2, figsize=(20, 14))\n",
    "plot_3d(axes[0][0], obj.masks.numpy()[0], 4, threshold=0.0)\n",
    "plot_3d(axes[0][1], obj_transf.masks.numpy()[0], 4, threshold=0.0)\n",
    "\n",
    "plot_3d(axes[1][0], obj.images.numpy()[0], 4, threshold=-700.0)\n",
    "plot_3d(axes[1][1], obj_transf.images.numpy()[0], 4, threshold=-700.0)\n",
    "\n",
    "plt.show()"
   ]
  },
  {
   "cell_type": "code",
   "execution_count": null,
   "metadata": {},
   "outputs": [],
   "source": []
  }
 ],
 "metadata": {
  "kernelspec": {
   "display_name": "Python 3",
   "language": "python",
   "name": "python3"
  },
  "language_info": {
   "codemirror_mode": {
    "name": "ipython",
    "version": 3
   },
   "file_extension": ".py",
   "mimetype": "text/x-python",
   "name": "python",
   "nbconvert_exporter": "python",
   "pygments_lexer": "ipython3",
   "version": "3.7.0"
  }
 },
 "nbformat": 4,
 "nbformat_minor": 4
}
