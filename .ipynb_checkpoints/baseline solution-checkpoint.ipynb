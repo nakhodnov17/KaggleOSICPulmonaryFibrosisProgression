{
 "cells": [
  {
   "cell_type": "code",
   "execution_count": 1,
   "metadata": {
    "_kg_hide-input": false,
    "_kg_hide-output": true
   },
   "outputs": [],
   "source": [
    "import os\n",
    "import platform\n",
    "# from os import listdir\n",
    "import pandas as pd\n",
    "import numpy as np\n",
    "# import glob\n",
    "# import tqdm\n",
    "from typing import Dict\n",
    "# import matplotlib.pyplot as plt\n",
    "# %matplotlib inline"
   ]
  },
  {
   "cell_type": "code",
   "execution_count": 2,
   "metadata": {},
   "outputs": [],
   "source": [
    "IMAGE_PATH = \"../input/osic-pulmonary-fibrosis-progression/\" if 'linux' in platform.platform().lower() else 'data/'\n",
    "\n",
    "train_df = pd.read_csv(f'{IMAGE_PATH}/train.csv')\n",
    "test_df = pd.read_csv(f'{IMAGE_PATH}/test.csv')\n",
    "\n",
    "# print(Fore.YELLOW + 'Training data shape: ',Style.RESET_ALL,train_df.shape)\n",
    "# train_df.head(5)"
   ]
  },
  {
   "cell_type": "code",
   "execution_count": 3,
   "metadata": {},
   "outputs": [],
   "source": [
    "# Creating unique patient lists and their properties. \n",
    "train_dir = f'{IMAGE_PATH}/train/'\n",
    "test_dir = f'{IMAGE_PATH}/test/'\n",
    "\n",
    "patient_ids = os.listdir(train_dir)\n",
    "patient_ids = sorted(patient_ids)\n",
    "\n",
    "#Creating new rows\n",
    "no_of_instances = []\n",
    "age = []\n",
    "sex = []\n",
    "smoking_status = []\n",
    "\n",
    "for patient_id in patient_ids:\n",
    "    patient_info = train_df[train_df['Patient'] == patient_id].reset_index()\n",
    "    no_of_instances.append(len(os.listdir(train_dir + patient_id)))\n",
    "    age.append(patient_info['Age'][0])\n",
    "    sex.append(patient_info['Sex'][0])\n",
    "    smoking_status.append(patient_info['SmokingStatus'][0])\n",
    "\n",
    "#Creating the dataframe for the patient info    \n",
    "patient_df = pd.DataFrame(list(zip(patient_ids, no_of_instances, age, sex, smoking_status)), \n",
    "                                 columns =['Patient', 'no_of_instances', 'Age', 'Sex', 'SmokingStatus'])\n",
    "# print(patient_df.info())\n",
    "# patient_df.head()"
   ]
  },
  {
   "cell_type": "code",
   "execution_count": 4,
   "metadata": {},
   "outputs": [],
   "source": [
    "answer = []\n",
    "for i, patient in test_df.iterrows():\n",
    "    for week in range(-12, 133 + 1):\n",
    "        tmp_id = patient.Patient + '_' + str(week)\n",
    "        FVC = patient.FVC + (-110 if week > 0 else 130)\n",
    "        Confidence = 70\n",
    "        answer.append([tmp_id, FVC, Confidence])\n",
    "#         print(tmp_id, FVC)"
   ]
  },
  {
   "cell_type": "code",
   "execution_count": 5,
   "metadata": {},
   "outputs": [],
   "source": [
    "result = pd.DataFrame(answer, columns=['Patient_Week', 'FVC', 'Confidence'])"
   ]
  },
  {
   "cell_type": "code",
   "execution_count": 6,
   "metadata": {},
   "outputs": [],
   "source": [
    "# result"
   ]
  },
  {
   "cell_type": "code",
   "execution_count": 7,
   "metadata": {},
   "outputs": [],
   "source": [
    "result.to_csv(\"submission.csv\", index=False)  # .to_csv('sample_submission.csv', sep=',')"
   ]
  },
  {
   "cell_type": "code",
   "execution_count": null,
   "metadata": {},
   "outputs": [],
   "source": []
  }
 ],
 "metadata": {
  "kernelspec": {
   "display_name": "Python 3",
   "language": "python",
   "name": "python3"
  },
  "language_info": {
   "codemirror_mode": {
    "name": "ipython",
    "version": 3
   },
   "file_extension": ".py",
   "mimetype": "text/x-python",
   "name": "python",
   "nbconvert_exporter": "python",
   "pygments_lexer": "ipython3",
   "version": "3.7.6"
  }
 },
 "nbformat": 4,
 "nbformat_minor": 4
}
