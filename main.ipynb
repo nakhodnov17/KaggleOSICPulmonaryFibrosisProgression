{
 "cells": [
  {
   "cell_type": "code",
   "execution_count": 127,
   "metadata": {},
   "outputs": [],
   "source": [
    "%config Completer.use_jedi = False"
   ]
  },
  {
   "cell_type": "code",
   "execution_count": 128,
   "metadata": {},
   "outputs": [
    {
     "name": "stdout",
     "output_type": "stream",
     "text": [
      "The autoreload extension is already loaded. To reload it, use:\n",
      "  %reload_ext autoreload\n"
     ]
    }
   ],
   "source": [
    "%load_ext autoreload\n",
    "%autoreload 2"
   ]
  },
  {
   "cell_type": "code",
   "execution_count": 129,
   "metadata": {},
   "outputs": [],
   "source": [
    "import os\n",
    "\n",
    "import sparse\n",
    "\n",
    "import numpy as np\n",
    "\n",
    "import tqdm.autonotebook as tqdm\n",
    "\n",
    "from utils import segmentate_patient, resample, CTDataset"
   ]
  },
  {
   "cell_type": "code",
   "execution_count": 130,
   "metadata": {},
   "outputs": [],
   "source": [
    "test_patients = sorted(os.listdir('./data/test/'))\n",
    "train_patients = sorted(os.listdir('./data/train/'))"
   ]
  },
  {
   "cell_type": "code",
   "execution_count": 134,
   "metadata": {
    "code_folding": [],
    "scrolled": true
   },
   "outputs": [],
   "source": [
    "# mode = 'train'\n",
    "# PROCESSED_PATH = './processed_data/'\n",
    "\n",
    "# for patient_n in tqdm.tqdm(range(len(train_patients) if mode == 'train' else len(test_patients))):\n",
    "#     patient = train_patients[patient_n] if mode == 'train' else test_patients[patient_n]\n",
    "    \n",
    "#     all_images, _, _, all_masks, meta_data = segmentate_patient(mode, patient_n)\n",
    "#     SliceThickness, PixelSpacing = meta_data['SliceThickness'][0], meta_data['PixelSpacing'][0]\n",
    "#     assert len(PixelSpacing) == 2\n",
    "    \n",
    "#     new_spacing = np.array([SliceThickness] + list(PixelSpacing))\n",
    "#     # noinspection PyBroadException\n",
    "#     try:\n",
    "#         ordering, case = np.argsort([float(_) for _ in meta_data['SliceLocation']]), 0\n",
    "#     except Exception:\n",
    "#         # noinspection PyBroadException\n",
    "#         try:\n",
    "#             ordering, case = np.argsort([float(_) for _ in meta_data['InstanceNumber']]), 1\n",
    "#         except Exception:\n",
    "#             ordering, case = np.arange(len(all_images)), 2\n",
    "    \n",
    "#     all_images, all_masks = np.array(all_images)[ordering], np.array(all_masks)[ordering]\n",
    "#     for key, values in meta_data.items():\n",
    "#         meta_data[key] = np.array(values)[ordering].tolist()\n",
    "    \n",
    "#     if len(all_images) != 196:\n",
    "#         all_images, _ = resample(\n",
    "#             all_images, [196, *all_images.shape[1:]], SliceThickness, PixelSpacing\n",
    "#         )\n",
    "#         all_masks, new_spacing = resample(\n",
    "#             all_masks, [196, *all_images.shape[1:]], SliceThickness, PixelSpacing\n",
    "#         )\n",
    "#         all_masks = all_masks > 0\n",
    "\n",
    "#         meta_data['SliceThickness'] = [new_spacing[0] for _ in meta_data['SliceThickness']]\n",
    "#         meta_data['PixelSpacing'] = [[new_spacing[0], new_spacing[1]] for _ in meta_data['PixelSpacing']]\n",
    "\n",
    "#     base_path = os.path.join(PROCESSED_PATH, mode, train_patients[patient_n])\n",
    "#     os.makedirs(base_path, exist_ok=True)\n",
    "    \n",
    "#     if all_images.shape[1] == 512:\n",
    "#         all_masks = all_masks[:, ::2, ::2]\n",
    "#         all_images = all_images[:, ::2, ::2]\n",
    "#         meta_data['PixelSpacing'] = [[new_spacing[0] * 2, new_spacing[1] * 2] for _ in meta_data['PixelSpacing']] \n",
    "#     if all_images.shape[1] == 632:\n",
    "#         all_masks = all_masks[:, 60:-60:2, 60:-60:2]\n",
    "#         all_images = all_images[:, 60:-60:2, 60:-60:2]\n",
    "#         meta_data['PixelSpacing'] = [[new_spacing[0] * 2, new_spacing[1] * 2] for _ in meta_data['PixelSpacing']]\n",
    "#     if all_images.shape[1] == 768:\n",
    "#         all_masks = all_masks[:, ::3, ::3]\n",
    "#         all_images = all_images[:, ::3, ::3]\n",
    "#         meta_data['PixelSpacing'] = [[new_spacing[0] * 3, new_spacing[1] * 3] for _ in meta_data['PixelSpacing']]\n",
    "#     if all_images.shape[1] == 1302:\n",
    "#         all_masks = all_masks[:, 11:-11:5, 11:-11:5]\n",
    "#         all_images = all_images[:, 11:-11:5, 11:-11:5]\n",
    "#         meta_data['PixelSpacing'] = [[new_spacing[0] * 5, new_spacing[1] * 5] for _ in meta_data['PixelSpacing']]\n",
    "\n",
    "#     np.save(os.path.join(base_path, 'meta.npy'), meta_data)\n",
    "#     np.save(os.path.join(base_path, 'images.npy'), all_images)\n",
    "#     sparse.save_npz(os.path.join(base_path, 'masks.npz'), sparse.COO(np.array(all_masks)))"
   ]
  },
  {
   "cell_type": "code",
   "execution_count": 136,
   "metadata": {},
   "outputs": [],
   "source": [
    "# dataset_test = CTDataset(\n",
    "#     './processed_data/train', \n",
    "#     './processed_data/train.csv', \n",
    "#     train=False, test_size=0.25, random_state=42\n",
    "# )\n",
    "dataset_train = CTDataset(\n",
    "    './processed_data/train', \n",
    "    './processed_data/train.csv', \n",
    "    train=True, test_size=0, random_state=42,\n",
    "    padding_mode=None, padding_constant=None\n",
    ")"
   ]
  },
  {
   "cell_type": "code",
   "execution_count": null,
   "metadata": {
    "scrolled": false
   },
   "outputs": [
    {
     "data": {
      "application/vnd.jupyter.widget-view+json": {
       "model_id": "16a0efc505f84157ae8ea43e1b29d92f",
       "version_major": 2,
       "version_minor": 0
      },
      "text/plain": [
       "HBox(children=(FloatProgress(value=0.0, max=176.0), HTML(value='')))"
      ]
     },
     "metadata": {},
     "output_type": "display_data"
    }
   ],
   "source": [
    "sm, sm_2, ns = 0.0, 0.0, 0\n",
    "for idx in tqdm.tqdm(range(len(dataset_train))):\n",
    "    obj = dataset_train[idx]\n",
    "#     sm += np.sum(obj.images.astype(np.float32))\n",
    "#     sm_2 += np.sum(obj.images.astype(np.float32) ** 2)    \n",
    "#     ns += np.prod(np.array(obj.images.shape, dtype=np.float32))"
   ]
  },
  {
   "cell_type": "code",
   "execution_count": 117,
   "metadata": {},
   "outputs": [
    {
     "data": {
      "text/plain": [
       "(-3588358300288.0, 3561241702760448.0, 7291731968.0)"
      ]
     },
     "execution_count": 117,
     "metadata": {},
     "output_type": "execute_result"
    }
   ],
   "source": [
    "sm, sm_2, ns"
   ]
  },
  {
   "cell_type": "code",
   "execution_count": 120,
   "metadata": {},
   "outputs": [
    {
     "name": "stdout",
     "output_type": "stream",
     "text": [
      "-492.11330257826614 496.20458047148236\n"
     ]
    }
   ],
   "source": [
    "print(\n",
    "    sm / ns,\n",
    "    np.sqrt((sm_2 / ns - (sm / ns) ** 2) * ns / (ns - 1))\n",
    ")"
   ]
  },
  {
   "cell_type": "code",
   "execution_count": null,
   "metadata": {},
   "outputs": [],
   "source": []
  }
 ],
 "metadata": {
  "kernelspec": {
   "display_name": "Python 3",
   "language": "python",
   "name": "python3"
  },
  "language_info": {
   "codemirror_mode": {
    "name": "ipython",
    "version": 3
   },
   "file_extension": ".py",
   "mimetype": "text/x-python",
   "name": "python",
   "nbconvert_exporter": "python",
   "pygments_lexer": "ipython3",
   "version": "3.7.0"
  }
 },
 "nbformat": 4,
 "nbformat_minor": 4
}